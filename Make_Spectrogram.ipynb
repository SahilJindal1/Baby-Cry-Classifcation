{
  "nbformat": 4,
  "nbformat_minor": 0,
  "metadata": {
    "colab": {
      "name": "Make Spectrogram.ipynb",
      "provenance": [],
      "collapsed_sections": []
    },
    "kernelspec": {
      "name": "python3",
      "display_name": "Python 3"
    }
  },
  "cells": [
    {
      "cell_type": "code",
      "metadata": {
        "id": "Z1gbMb9Epq1O",
        "colab_type": "code",
        "colab": {
          "base_uri": "https://localhost:8080/",
          "height": 121
        },
        "outputId": "d677180f-973b-49ec-e879-d5f3a1d08c6a"
      },
      "source": [
        "from google.colab import drive\n",
        "drive.mount('/content/drive')"
      ],
      "execution_count": null,
      "outputs": [
        {
          "output_type": "stream",
          "text": [
            "Go to this URL in a browser: https://accounts.google.com/o/oauth2/auth?client_id=947318989803-6bn6qk8qdgf4n4g3pfee6491hc0brc4i.apps.googleusercontent.com&redirect_uri=urn%3aietf%3awg%3aoauth%3a2.0%3aoob&response_type=code&scope=email%20https%3a%2f%2fwww.googleapis.com%2fauth%2fdocs.test%20https%3a%2f%2fwww.googleapis.com%2fauth%2fdrive%20https%3a%2f%2fwww.googleapis.com%2fauth%2fdrive.photos.readonly%20https%3a%2f%2fwww.googleapis.com%2fauth%2fpeopleapi.readonly\n",
            "\n",
            "Enter your authorization code:\n",
            "··········\n",
            "Mounted at /content/drive\n"
          ],
          "name": "stdout"
        }
      ]
    },
    {
      "cell_type": "code",
      "metadata": {
        "id": "-ozMAGo1qHRe",
        "colab_type": "code",
        "colab": {}
      },
      "source": [
        "import matplotlib.pyplot as plt\n",
        "import librosa.display\n",
        "\n",
        "import numpy as np\n",
        "import pandas as pd\n",
        "import librosa\n",
        "\n",
        "y,rate = librosa.load('/content/drive/My Drive/Baby Cry/donateacry-corpus-master/clips/belly_pain/549a46d8-9c84-430e-ade8-97eae2bef787-1430130772174-1.7-m-48-bp.wav',sr = None)"
      ],
      "execution_count": null,
      "outputs": []
    },
    {
      "cell_type": "code",
      "metadata": {
        "id": "9lih211NqSRn",
        "colab_type": "code",
        "colab": {
          "base_uri": "https://localhost:8080/",
          "height": 34
        },
        "outputId": "c44acd20-6dfc-4f49-85f1-ae53fca9465f"
      },
      "source": [
        "print(rate)"
      ],
      "execution_count": null,
      "outputs": [
        {
          "output_type": "stream",
          "text": [
            "8000\n"
          ],
          "name": "stdout"
        }
      ]
    },
    {
      "cell_type": "code",
      "metadata": {
        "id": "bNwBmQUVpTMn",
        "colab_type": "code",
        "colab": {
          "base_uri": "https://localhost:8080/",
          "height": 1000
        },
        "outputId": "346fd4af-2c00-4a30-a758-362c25dae07b"
      },
      "source": [
        "import matplotlib.pyplot as plt\n",
        "import librosa.display\n",
        "\n",
        "import numpy as np\n",
        "import pandas as pd\n",
        "import librosa\n",
        "\n",
        "def graph_spectrogram(wav_file,image_location):\n",
        "    y,rate = librosa.load(wav_file)\n",
        "    #spec = librosa.feature.melspectrogram(y=data, sr=rate)\n",
        "    window_size = 1024\n",
        "    window = np.hanning(window_size)\n",
        "    stft  = librosa.core.spectrum.stft(y, n_fft=window_size, hop_length=512, window=window)\n",
        "    out = 2 * np.abs(stft) / np.sum(window)\n",
        "\n",
        "    # For plotting headlessly\n",
        "    from matplotlib.backends.backend_agg import FigureCanvasAgg as FigureCanvas\n",
        "    \n",
        "    fig = plt.Figure()\n",
        "\n",
        "    canvas = FigureCanvas(fig)\n",
        "    ax = fig.add_subplot(111)\n",
        "    ax.axis('off')\n",
        "    p = librosa.display.specshow(librosa.amplitude_to_db(out, ref=np.max), ax=ax, y_axis='log', x_axis='time')\n",
        "    fig.savefig(image_location)\n",
        "\n",
        "import os\n",
        "\n",
        "clip_folder1 = r'/content/drive/My Drive/Baby Cry/donateacry-corpus-master/clips/belly_pain'\n",
        "clip_folder2 = r'/content/drive/My Drive/Baby Cry/donateacry-corpus-master/clips/burping'\n",
        "clip_folder3 = r'/content/drive/My Drive/Baby Cry/donateacry-corpus-master/clips/discomfort'\n",
        "clip_folder4 = r'/content/drive/My Drive/Baby Cry/donateacry-corpus-master/clips/hungry'\n",
        "clip_folder5 = r'/content/drive/My Drive/Baby Cry/donateacry-corpus-master/clips/tired'\n",
        "\n",
        "for filename in os.listdir(clip_folder1):\n",
        "  fname = clip_folder1 + '/' + filename\n",
        "  target_file = r'/content/drive/My Drive/Baby Cry/Practice Folder/Just practise' +'/' + filename + '.png'\n",
        "  graph_spectrogram(fname,target_file)\n",
        "  print(filename)\n",
        "\"\"\"\n",
        "for filename in os.listdir(clip_folder2):\n",
        "  fname = clip_folder2 + '/' + filename\n",
        "  target_file = r'E:\\Baby Cry\\Baby Cry\\donateacry-corpus-master\\Mel_Spec_png\\burping' +'/' + filename + '.png'\n",
        "  graph_spectrogram(fname,target_file)\n",
        "  print(filename)\n",
        "for filename in os.listdir(clip_folder3):\n",
        "  fname = clip_folder3 + '/' + filename\n",
        "  target_file = r'E:\\Baby Cry\\Baby Cry\\donateacry-corpus-master\\Mel_Spec_png\\discomfort' +'/' + filename + '.png'\n",
        "  graph_spectrogram(fname,target_file)\n",
        "  print(filename)\n",
        "  \n",
        "for filename in os.listdir(clip_folder4):\n",
        "  fname = clip_folder4 + '/' + filename\n",
        "  target_file = r'E:\\Baby Cry\\Baby Cry\\donateacry-corpus-master\\Mel_Spec_png\\hungry' +'/' + filename + '.png'\n",
        "  graph_spectrogram(fname,target_file)\n",
        "  print(filename)\n",
        "for filename in os.listdir(clip_folder5):\n",
        "  fname = clip_folder5 + '/' + filename\n",
        "  target_file = r'E:\\Baby Cry\\Baby Cry\\donateacry-corpus-master\\Mel_Spec_png\\tired' +'/' + filename + '.png'\n",
        "  graph_spectrogram(fname,target_file)\n",
        "  print(filename)\n",
        "\"\"\""
      ],
      "execution_count": null,
      "outputs": [
        {
          "output_type": "stream",
          "text": [
            "549a46d8-9c84-430e-ade8-97eae2bef787-1430130772174-1.7-m-48-bp.wav\n",
            "643D64AD-B711-469A-AF69-55C0D5D3E30F-1430138506-1.0-m-72-bp.wav\n",
            "643D64AD-B711-469A-AF69-55C0D5D3E30F-1430138514-1.0-m-72-bp.wav\n",
            "643D64AD-B711-469A-AF69-55C0D5D3E30F-1430138495-1.0-m-72-bp.wav\n",
            "643D64AD-B711-469A-AF69-55C0D5D3E30F-1430138647-1.0-m-72-bp.wav\n",
            "643D64AD-B711-469A-AF69-55C0D5D3E30F-1430138536-1.0-m-72-bp.wav\n",
            "643D64AD-B711-469A-AF69-55C0D5D3E30F-1430138524-1.0-m-72-bp.wav\n",
            "643D64AD-B711-469A-AF69-55C0D5D3E30F-1430138591-1.0-m-72-bp.wav\n",
            "69BDA5D6-0276-4462-9BF7-951799563728-1436936185-1.1-m-26-bp.wav\n",
            "d6cda191-4962-4308-9a36-46d5648a95ed-1431159262344-1.7-m-04-bp.wav\n",
            "643D64AD-B711-469A-AF69-55C0D5D3E30F-1430138545-1.0-m-72-bp.wav\n",
            "d6cda191-4962-4308-9a36-46d5648a95ed-1431159272600-1.7-m-04-bp.wav\n",
            "999bf14b-e417-4b44-b746-9253f81efe38-1430974001343-1.7-m-26-bp.wav\n",
            "C421C6FE-DFEE-4080-8AEA-848E7CE4756B-1430548333-1.0-f-26-bp.wav\n",
            "d6cda191-4962-4308-9a36-46d5648a95ed-1431700390946-1.7-m-04-bp.wav\n",
            "ae5f103b-5fee-442f-bb1b-d9d0570c46ab-1431533857965-1.7-m-26-bp.wav\n",
            "549a46d8-9c84-430e-ade8-97eae2bef787-1430130772174-1.7-m-48-bp1.wav\n",
            "549a46d8-9c84-430e-ade8-97eae2bef787-1430130772174-1.7-m-48-bp2.wav\n",
            "643D64AD-B711-469A-AF69-55C0D5D3E30F-1430138591-1.0-m-72-bp1.wav\n",
            "643D64AD-B711-469A-AF69-55C0D5D3E30F-1430138647-1.0-m-72-bp1.wav\n",
            "643D64AD-B711-469A-AF69-55C0D5D3E30F-1430138536-1.0-m-72-bp2.wav\n",
            "643D64AD-B711-469A-AF69-55C0D5D3E30F-1430138524-1.0-m-72-bp1.wav\n",
            "643D64AD-B711-469A-AF69-55C0D5D3E30F-1430138506-1.0-m-72-bp1.wav\n",
            "643D64AD-B711-469A-AF69-55C0D5D3E30F-1430138514-1.0-m-72-bp1.wav\n",
            "643D64AD-B711-469A-AF69-55C0D5D3E30F-1430138591-1.0-m-72-bp2.wav\n",
            "643D64AD-B711-469A-AF69-55C0D5D3E30F-1430138524-1.0-m-72-bp2.wav\n",
            "643D64AD-B711-469A-AF69-55C0D5D3E30F-1430138647-1.0-m-72-bp2.wav\n",
            "643D64AD-B711-469A-AF69-55C0D5D3E30F-1430138506-1.0-m-72-bp2.wav\n",
            "69BDA5D6-0276-4462-9BF7-951799563728-1436936185-1.1-m-26-bp2.wav\n",
            "d6cda191-4962-4308-9a36-46d5648a95ed-1431159262344-1.7-m-04-bp2.wav\n",
            "643D64AD-B711-469A-AF69-55C0D5D3E30F-1430138514-1.0-m-72-bp2.wav\n",
            "643D64AD-B711-469A-AF69-55C0D5D3E30F-1430138545-1.0-m-72-bp1.wav\n",
            "d6cda191-4962-4308-9a36-46d5648a95ed-1431159262344-1.7-m-04-bp1.wav\n",
            "69BDA5D6-0276-4462-9BF7-951799563728-1436936185-1.1-m-26-bp1.wav\n",
            "d6cda191-4962-4308-9a36-46d5648a95ed-1431159272600-1.7-m-04-bp1.wav\n",
            "643D64AD-B711-469A-AF69-55C0D5D3E30F-1430138495-1.0-m-72-bp1.wav\n",
            "C421C6FE-DFEE-4080-8AEA-848E7CE4756B-1430548333-1.0-f-26-bp2.wav\n",
            "643D64AD-B711-469A-AF69-55C0D5D3E30F-1430138536-1.0-m-72-bp1.wav\n",
            "d6cda191-4962-4308-9a36-46d5648a95ed-1431159272600-1.7-m-04-bp2.wav\n",
            "643D64AD-B711-469A-AF69-55C0D5D3E30F-1430138495-1.0-m-72-bp2.wav\n",
            "999bf14b-e417-4b44-b746-9253f81efe38-1430974001343-1.7-m-26-bp1.wav\n",
            "643D64AD-B711-469A-AF69-55C0D5D3E30F-1430138545-1.0-m-72-bp2.wav\n",
            "d6cda191-4962-4308-9a36-46d5648a95ed-1431700390946-1.7-m-04-bp1.wav\n",
            "999bf14b-e417-4b44-b746-9253f81efe38-1430974001343-1.7-m-26-bp2.wav\n",
            "C421C6FE-DFEE-4080-8AEA-848E7CE4756B-1430548333-1.0-f-26-bp1.wav\n",
            "d6cda191-4962-4308-9a36-46d5648a95ed-1431700390946-1.7-m-04-bp2.wav\n",
            "ae5f103b-5fee-442f-bb1b-d9d0570c46ab-1431533857965-1.7-m-26-bp2.wav\n",
            "ae5f103b-5fee-442f-bb1b-d9d0570c46ab-1431533857965-1.7-m-26-bp1.wav\n",
            "549a46d8-9c84-430e-ade8-97eae2bef787-1430130772174-1.7-m-48-bp3.wav\n",
            "643D64AD-B711-469A-AF69-55C0D5D3E30F-1430138495-1.0-m-72-bp4.wav\n",
            "643D64AD-B711-469A-AF69-55C0D5D3E30F-1430138495-1.0-m-72-bp3.wav\n",
            "549a46d8-9c84-430e-ade8-97eae2bef787-1430130772174-1.7-m-48-bp4.wav\n",
            "643D64AD-B711-469A-AF69-55C0D5D3E30F-1430138514-1.0-m-72-bp4.wav\n",
            "643D64AD-B711-469A-AF69-55C0D5D3E30F-1430138536-1.0-m-72-bp4.wav\n",
            "643D64AD-B711-469A-AF69-55C0D5D3E30F-1430138514-1.0-m-72-bp3.wav\n",
            "643D64AD-B711-469A-AF69-55C0D5D3E30F-1430138506-1.0-m-72-bp3.wav\n",
            "643D64AD-B711-469A-AF69-55C0D5D3E30F-1430138506-1.0-m-72-bp4.wav\n",
            "643D64AD-B711-469A-AF69-55C0D5D3E30F-1430138536-1.0-m-72-bp3.wav\n",
            "643D64AD-B711-469A-AF69-55C0D5D3E30F-1430138647-1.0-m-72-bp3.wav\n",
            "69BDA5D6-0276-4462-9BF7-951799563728-1436936185-1.1-m-26-bp3.wav\n",
            "643D64AD-B711-469A-AF69-55C0D5D3E30F-1430138647-1.0-m-72-bp4.wav\n",
            "69BDA5D6-0276-4462-9BF7-951799563728-1436936185-1.1-m-26-bp4.wav\n",
            "ae5f103b-5fee-442f-bb1b-d9d0570c46ab-1431533857965-1.7-m-26-bp4.wav\n",
            "d6cda191-4962-4308-9a36-46d5648a95ed-1431159262344-1.7-m-04-bp3.wav\n",
            "d6cda191-4962-4308-9a36-46d5648a95ed-1431159262344-1.7-m-04-bp4.wav\n",
            "d6cda191-4962-4308-9a36-46d5648a95ed-1431159272600-1.7-m-04-bp3.wav\n",
            "d6cda191-4962-4308-9a36-46d5648a95ed-1431700390946-1.7-m-04-bp4.wav\n",
            "d6cda191-4962-4308-9a36-46d5648a95ed-1431159272600-1.7-m-04-bp4.wav\n",
            "643D64AD-B711-469A-AF69-55C0D5D3E30F-1430138524-1.0-m-72-bp3.wav\n",
            "ae5f103b-5fee-442f-bb1b-d9d0570c46ab-1431533857965-1.7-m-26-bp3.wav\n",
            "C421C6FE-DFEE-4080-8AEA-848E7CE4756B-1430548333-1.0-f-26-bp4.wav\n",
            "d6cda191-4962-4308-9a36-46d5648a95ed-1431700390946-1.7-m-04-bp3.wav\n",
            "643D64AD-B711-469A-AF69-55C0D5D3E30F-1430138545-1.0-m-72-bp4.wav\n",
            "643D64AD-B711-469A-AF69-55C0D5D3E30F-1430138591-1.0-m-72-bp4.wav\n",
            "999bf14b-e417-4b44-b746-9253f81efe38-1430974001343-1.7-m-26-bp4.wav\n",
            "643D64AD-B711-469A-AF69-55C0D5D3E30F-1430138591-1.0-m-72-bp3.wav\n",
            "643D64AD-B711-469A-AF69-55C0D5D3E30F-1430138545-1.0-m-72-bp3.wav\n",
            "999bf14b-e417-4b44-b746-9253f81efe38-1430974001343-1.7-m-26-bp3.wav\n",
            "643D64AD-B711-469A-AF69-55C0D5D3E30F-1430138524-1.0-m-72-bp4.wav\n",
            "C421C6FE-DFEE-4080-8AEA-848E7CE4756B-1430548333-1.0-f-26-bp3.wav\n"
          ],
          "name": "stdout"
        },
        {
          "output_type": "execute_result",
          "data": {
            "application/vnd.google.colaboratory.intrinsic": {
              "type": "string"
            },
            "text/plain": [
              "\"\\nfor filename in os.listdir(clip_folder2):\\n  fname = clip_folder2 + '/' + filename\\n  target_file = r'E:\\\\Baby Cry\\\\Baby Cry\\\\donateacry-corpus-master\\\\Mel_Spec_png\\x08urping' +'/' + filename + '.png'\\n  graph_spectrogram(fname,target_file)\\n  print(filename)\\nfor filename in os.listdir(clip_folder3):\\n  fname = clip_folder3 + '/' + filename\\n  target_file = r'E:\\\\Baby Cry\\\\Baby Cry\\\\donateacry-corpus-master\\\\Mel_Spec_png\\\\discomfort' +'/' + filename + '.png'\\n  graph_spectrogram(fname,target_file)\\n  print(filename)\\n  \\nfor filename in os.listdir(clip_folder4):\\n  fname = clip_folder4 + '/' + filename\\n  target_file = r'E:\\\\Baby Cry\\\\Baby Cry\\\\donateacry-corpus-master\\\\Mel_Spec_png\\\\hungry' +'/' + filename + '.png'\\n  graph_spectrogram(fname,target_file)\\n  print(filename)\\nfor filename in os.listdir(clip_folder5):\\n  fname = clip_folder5 + '/' + filename\\n  target_file = r'E:\\\\Baby Cry\\\\Baby Cry\\\\donateacry-corpus-master\\\\Mel_Spec_png\\tired' +'/' + filename + '.png'\\n  graph_spectrogram(fname,target_file)\\n  print(filename)\\n\""
            ]
          },
          "metadata": {
            "tags": []
          },
          "execution_count": 7
        }
      ]
    }
  ]
}