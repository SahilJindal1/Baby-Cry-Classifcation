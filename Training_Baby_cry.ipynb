{
  "nbformat": 4,
  "nbformat_minor": 0,
  "metadata": {
    "colab": {
      "name": "Training_Baby_cry.ipynb",
      "provenance": [],
      "collapsed_sections": [],
      "toc_visible": true,
      "machine_shape": "hm"
    },
    "kernelspec": {
      "name": "python3",
      "display_name": "Python 3"
    },
    "accelerator": "GPU"
  },
  "cells": [
    {
      "cell_type": "code",
      "metadata": {
        "id": "-wlvam2Ezdzx",
        "colab_type": "code",
        "outputId": "dba9353b-44b3-4c99-a941-3ffc72971791",
        "colab": {
          "base_uri": "https://localhost:8080/",
          "height": 35
        }
      },
      "source": [
        "from google.colab import drive\n",
        "drive.mount('/content/drive')"
      ],
      "execution_count": 10,
      "outputs": [
        {
          "output_type": "stream",
          "text": [
            "Drive already mounted at /content/drive; to attempt to forcibly remount, call drive.mount(\"/content/drive\", force_remount=True).\n"
          ],
          "name": "stdout"
        }
      ]
    },
    {
      "cell_type": "markdown",
      "metadata": {
        "id": "uP_dt13S1B-4",
        "colab_type": "text"
      },
      "source": [
        "# Basic autoencoder"
      ]
    },
    {
      "cell_type": "code",
      "metadata": {
        "id": "isk27ecwC7xe",
        "colab_type": "code",
        "outputId": "284448e4-d550-4b91-ec41-ebb26e15dbfd",
        "colab": {
          "base_uri": "https://localhost:8080/",
          "height": 55
        }
      },
      "source": [
        "\"\"\"\n",
        "from tensorflow.keras.layers import Input, Dense, Conv2D, MaxPooling2D, UpSampling2D,Flatten,Reshape,Cropping2D,Conv2DTranspose\n",
        "from tensorflow.keras.models import Model\n",
        "from tensorflow.keras import backend as K\n",
        "\n",
        "input_file = Input(shape=(288,432, 3)) \n",
        "\n",
        "x = Conv2D(100, (3, 3), activation='elu', padding='same')(input_file) \n",
        "x = MaxPooling2D((2, 2), padding='valid')(x) \n",
        "x = Conv2D(80, (3, 3), activation='elu', padding='same')(x) \n",
        "x = MaxPooling2D((2, 2), padding='same')(x)\n",
        "x = Conv2D(40, (3, 3), activation='elu', padding='same')(x) \n",
        "x = MaxPooling2D((2, 2), padding='same')(x)\n",
        "x = Conv2D(20, (3, 3), activation='elu', padding='same')(x) \n",
        "x = MaxPooling2D((2, 2), padding='same')(x)\n",
        "x = Conv2D(10, (3, 3), activation='elu', padding='same')(x) \n",
        "#x = MaxPooling2D((2, 2), padding='same')(x)\n",
        "\n",
        "\n",
        "x = Flatten()(x)\n",
        "x = Dense(2430, activation='elu')(x)\n",
        "x = Dense(1215, activation='elu')(x)\n",
        "\n",
        "x = Dense(608, activation='elu')(x)\n",
        "x = Dense(304, activation='elu')(x)\n",
        "encoded = Dense(152, activation='elu')(x)\n",
        "\n",
        "#.flat 13x72x40 features\n",
        "# dense layer 10000-5000-2000-----128(200,300,500)\n",
        "# reshape 13x72x40 (unfold) \n",
        "\n",
        "x = Dense(304, activation='elu')(encoded)\n",
        "x = Dense(608, activation='elu')(x)\n",
        "x = Dense(1215, activation='elu')(x)\n",
        "x = Dense(2430, activation='elu')(x)\n",
        "x = Dense(4860, activation='elu')(x)\n",
        "\n",
        "x = Reshape((18,27 , 10))(x)\n",
        "x = Conv2DTranspose(20, (2, 2),strides = (2,2), activation='elu', padding='same')(x)\n",
        "#x = UpSampling2D((2, 2))(x)\n",
        "x = Conv2D(20, (3, 3), activation='elu', padding='same')(x)\n",
        "\n",
        "x = Conv2DTranspose(40, (2, 2),strides = (2,2), activation='elu', padding='same')(x)\n",
        "x = Conv2D(40, (3, 3), activation='elu', padding='same')(x)\n",
        "#x = UpSampling2D((2, 2))(x)\n",
        "#x = Cropping2D(cropping=((0, 0), (1, 1)), data_format=None)(x)\n",
        "x = Conv2DTranspose(80, (2, 2),strides = (2,2), activation='elu', padding='same')(x)\n",
        "x = Conv2D(80, (3, 3), activation='elu', padding='same')(x)\n",
        "\n",
        "x = Conv2DTranspose(100, (2, 2),strides = (2,2), activation='elu', padding='same')(x)\n",
        "x = Conv2D(100, (3, 3), activation='elu', padding='same')(x)\n",
        "\n",
        "#x = Conv2DTranspose(100, (2, 2),strides = (2,2), activation='elu', padding='same')(x)\n",
        "#x = Conv2D(100, (3, 3), activation='elu', padding='same')(x)\n",
        "#x = UpSampling2D((2, 2))(x)\n",
        "decoded = Conv2D(3, (1, 1), activation='sigmoid', padding='same')(x)\n",
        "\n",
        "autoencoder = Model(input_file, decoded)\n",
        "autoencoder.compile(optimizer='adam', loss='mse') #msse\n",
        "autoencoder.summary()\n",
        "# 100 epoch\n",
        "#encoder = model()\n",
        "#model.saveweights\n",
        "\"\"\""
      ],
      "execution_count": 11,
      "outputs": [
        {
          "output_type": "execute_result",
          "data": {
            "text/plain": [
              "\"\\nfrom tensorflow.keras.layers import Input, Dense, Conv2D, MaxPooling2D, UpSampling2D,Flatten,Reshape,Cropping2D,Conv2DTranspose\\nfrom tensorflow.keras.models import Model\\nfrom tensorflow.keras import backend as K\\n\\ninput_file = Input(shape=(288,432, 3)) \\n\\nx = Conv2D(100, (3, 3), activation='elu', padding='same')(input_file) \\nx = MaxPooling2D((2, 2), padding='valid')(x) \\nx = Conv2D(80, (3, 3), activation='elu', padding='same')(x) \\nx = MaxPooling2D((2, 2), padding='same')(x)\\nx = Conv2D(40, (3, 3), activation='elu', padding='same')(x) \\nx = MaxPooling2D((2, 2), padding='same')(x)\\nx = Conv2D(20, (3, 3), activation='elu', padding='same')(x) \\nx = MaxPooling2D((2, 2), padding='same')(x)\\nx = Conv2D(10, (3, 3), activation='elu', padding='same')(x) \\n#x = MaxPooling2D((2, 2), padding='same')(x)\\n\\n\\nx = Flatten()(x)\\nx = Dense(2430, activation='elu')(x)\\nx = Dense(1215, activation='elu')(x)\\n\\nx = Dense(608, activation='elu')(x)\\nx = Dense(304, activation='elu')(x)\\nencoded = Dense(152, activation='elu')(x)\\n\\n#.flat 13x72x40 features\\n# dense layer 10000-5000-2000-----128(200,300,500)\\n# reshape 13x72x40 (unfold) \\n\\nx = Dense(304, activation='elu')(encoded)\\nx = Dense(608, activation='elu')(x)\\nx = Dense(1215, activation='elu')(x)\\nx = Dense(2430, activation='elu')(x)\\nx = Dense(4860, activation='elu')(x)\\n\\nx = Reshape((18,27 , 10))(x)\\nx = Conv2DTranspose(20, (2, 2),strides = (2,2), activation='elu', padding='same')(x)\\n#x = UpSampling2D((2, 2))(x)\\nx = Conv2D(20, (3, 3), activation='elu', padding='same')(x)\\n\\nx = Conv2DTranspose(40, (2, 2),strides = (2,2), activation='elu', padding='same')(x)\\nx = Conv2D(40, (3, 3), activation='elu', padding='same')(x)\\n#x = UpSampling2D((2, 2))(x)\\n#x = Cropping2D(cropping=((0, 0), (1, 1)), data_format=None)(x)\\nx = Conv2DTranspose(80, (2, 2),strides = (2,2), activation='elu', padding='same')(x)\\nx = Conv2D(80, (3, 3), activation='elu', padding='same')(x)\\n\\nx = Conv2DTranspose(100, (2, 2),strides = (2,2), activation='elu', padding='same')(x)\\nx = Conv2D(100, (3, 3), activation='elu', padding='same')(x)\\n\\n#x = Conv2DTranspose(100, (2, 2),strides = (2,2), activation='elu', padding='same')(x)\\n#x = Conv2D(100, (3, 3), activation='elu', padding='same')(x)\\n#x = UpSampling2D((2, 2))(x)\\ndecoded = Conv2D(3, (1, 1), activation='sigmoid', padding='same')(x)\\n\\nautoencoder = Model(input_file, decoded)\\nautoencoder.compile(optimizer='adam', loss='mse') #msse\\nautoencoder.summary()\\n# 100 epoch\\n#encoder = model()\\n#model.saveweights\\n\""
            ]
          },
          "metadata": {
            "tags": []
          },
          "execution_count": 11
        }
      ]
    },
    {
      "cell_type": "markdown",
      "metadata": {
        "id": "lemVdksPaQg2",
        "colab_type": "text"
      },
      "source": [
        "# Architecture by Vinayak Sir "
      ]
    },
    {
      "cell_type": "code",
      "metadata": {
        "id": "4xEw7Bu9s3pi",
        "colab_type": "code",
        "colab": {
          "base_uri": "https://localhost:8080/",
          "height": 55
        },
        "outputId": "ad12a131-203b-4bb4-d346-ac067be4db74"
      },
      "source": [
        "\"\"\"\n",
        "import tensorflow.keras.layers as layers\n",
        "import tensorflow.keras.models as models\n",
        "from tensorflow.keras.initializers import orthogonal\n",
        "import tensorflow as tf\n",
        "\n",
        "\n",
        "def Conv2DLayer(x, filters, kernel, strides, padding, block_id, kernel_init=orthogonal()):\n",
        "    prefix = f'block_{block_id}_'\n",
        "    x = layers.Conv2D(filters, kernel_size=kernel, strides=strides, padding=padding,\n",
        "                      kernel_initializer=kernel_init, name=prefix+'conv')(x)\n",
        "    x = layers.LeakyReLU(name=prefix+'lrelu')(x)\n",
        "    x = layers.Dropout(0.2, name=prefix+'drop')((x))\n",
        "    x = layers.BatchNormalization(name=prefix+'conv_bn')(x)\n",
        "    return x\n",
        "\n",
        "def Transpose_Conv2D(x, filters, kernel, strides, padding, block_id, kernel_init=orthogonal()):\n",
        "    prefix = f'block_{block_id}_'\n",
        "    x = layers.Conv2DTranspose(filters, kernel_size=kernel, strides=strides, padding=padding,\n",
        "                               kernel_initializer=kernel_init, name=prefix+'de-conv')(x)\n",
        "    x = layers.LeakyReLU(name=prefix+'lrelu')(x)\n",
        "    x = layers.Dropout(0.2, name=prefix+'drop')((x))\n",
        "    x = layers.BatchNormalization(name=prefix+'conv_bn')(x)\n",
        "    return x\n",
        "\n",
        "\n",
        "\n",
        "def AutoEncdoer(input_shape):\n",
        "    inputs = layers.Input(shape=input_shape)\n",
        "    \n",
        "    # 256 x 256\n",
        "    conv1 = Conv2DLayer(inputs, 64, 3, strides=1, padding='same', block_id=1)\n",
        "    conv2 = Conv2DLayer(conv1, 64, 3, strides=2, padding='same', block_id=2)\n",
        "    \n",
        "    # 128 x 128\n",
        "    conv3 = Conv2DLayer(conv2, 128, 5, strides=2, padding='same', block_id=3)\n",
        "    \n",
        "    # 64 x 64\n",
        "    conv4 = Conv2DLayer(conv3, 128, 3, strides=1, padding='same', block_id=4)\n",
        "    conv5 = Conv2DLayer(conv4, 256, 5, strides=2, padding='same', block_id=5)\n",
        "    \n",
        "    # 32 x 32\n",
        "    conv6 = Conv2DLayer(conv5, 512, 3, strides=2, padding='same', block_id=6)\n",
        "    \n",
        "    # 16 x 16\n",
        "    deconv1 = Transpose_Conv2D(conv6, 512, 3, strides=2, padding='same', block_id=7)\n",
        "    \n",
        "    # 32 x 32\n",
        "    skip1 = layers.concatenate([deconv1, conv5], name='skip1')\n",
        "    conv7 = Conv2DLayer(skip1, 256, 3, strides=1, padding='same', block_id=8)\n",
        "    deconv2 = Transpose_Conv2D(conv7, 128, 3, strides=2, padding='same', block_id=9)\n",
        "    \n",
        "    # 64 x 64\n",
        "    skip2 = layers.concatenate([deconv2, conv3], name='skip2')\n",
        "    conv8 = Conv2DLayer(skip2, 128, 5, strides=1, padding='same', block_id=10)\n",
        "    deconv3 = Transpose_Conv2D(conv8, 64, 3, strides=2, padding='same', block_id=11)\n",
        "    \n",
        "    # 128 x 128\n",
        "    skip3 = layers.concatenate([deconv3, conv2], name='skip3')\n",
        "    conv9 = Conv2DLayer(skip3, 64, 5, strides=1, padding='same', block_id=12)\n",
        "    deconv4 = Transpose_Conv2D(conv9, 64, 3, strides=2, padding='same', block_id=13)\n",
        "    \n",
        "    # 256 x 256\n",
        "    skip3 = layers.concatenate([deconv4, conv1])\n",
        "    conv10 = layers.Conv2D(3, 3, strides=1, padding='same', activation='sigmoid',\n",
        "                       kernel_initializer=orthogonal(), name='final_conv')(skip3)\n",
        "\n",
        "    \n",
        "    return models.Model(inputs=inputs, outputs=conv10)\n",
        "\n",
        "input_shape = (288,432)\n",
        "autoencoder = AutoEncdoer((*input_shape, 3))\n",
        "autoencoder.compile(optimizer='adam', loss='mse') #msse\n",
        "autoencoder.summary()\n",
        "\"\"\""
      ],
      "execution_count": 12,
      "outputs": [
        {
          "output_type": "execute_result",
          "data": {
            "text/plain": [
              "\"\\nimport tensorflow.keras.layers as layers\\nimport tensorflow.keras.models as models\\nfrom tensorflow.keras.initializers import orthogonal\\nimport tensorflow as tf\\n\\n\\ndef Conv2DLayer(x, filters, kernel, strides, padding, block_id, kernel_init=orthogonal()):\\n    prefix = f'block_{block_id}_'\\n    x = layers.Conv2D(filters, kernel_size=kernel, strides=strides, padding=padding,\\n                      kernel_initializer=kernel_init, name=prefix+'conv')(x)\\n    x = layers.LeakyReLU(name=prefix+'lrelu')(x)\\n    x = layers.Dropout(0.2, name=prefix+'drop')((x))\\n    x = layers.BatchNormalization(name=prefix+'conv_bn')(x)\\n    return x\\n\\ndef Transpose_Conv2D(x, filters, kernel, strides, padding, block_id, kernel_init=orthogonal()):\\n    prefix = f'block_{block_id}_'\\n    x = layers.Conv2DTranspose(filters, kernel_size=kernel, strides=strides, padding=padding,\\n                               kernel_initializer=kernel_init, name=prefix+'de-conv')(x)\\n    x = layers.LeakyReLU(name=prefix+'lrelu')(x)\\n    x = layers.Dropout(0.2, name=prefix+'drop')((x))\\n    x = layers.BatchNormalization(name=prefix+'conv_bn')(x)\\n    return x\\n\\n\\n\\ndef AutoEncdoer(input_shape):\\n    inputs = layers.Input(shape=input_shape)\\n    \\n    # 256 x 256\\n    conv1 = Conv2DLayer(inputs, 64, 3, strides=1, padding='same', block_id=1)\\n    conv2 = Conv2DLayer(conv1, 64, 3, strides=2, padding='same', block_id=2)\\n    \\n    # 128 x 128\\n    conv3 = Conv2DLayer(conv2, 128, 5, strides=2, padding='same', block_id=3)\\n    \\n    # 64 x 64\\n    conv4 = Conv2DLayer(conv3, 128, 3, strides=1, padding='same', block_id=4)\\n    conv5 = Conv2DLayer(conv4, 256, 5, strides=2, padding='same', block_id=5)\\n    \\n    # 32 x 32\\n    conv6 = Conv2DLayer(conv5, 512, 3, strides=2, padding='same', block_id=6)\\n    \\n    # 16 x 16\\n    deconv1 = Transpose_Conv2D(conv6, 512, 3, strides=2, padding='same', block_id=7)\\n    \\n    # 32 x 32\\n    skip1 = layers.concatenate([deconv1, conv5], name='skip1')\\n    conv7 = Conv2DLayer(skip1, 256, 3, strides=1, padding='same', block_id=8)\\n    deconv2 = Transpose_Conv2D(conv7, 128, 3, strides=2, padding='same', block_id=9)\\n    \\n    # 64 x 64\\n    skip2 = layers.concatenate([deconv2, conv3], name='skip2')\\n    conv8 = Conv2DLayer(skip2, 128, 5, strides=1, padding='same', block_id=10)\\n    deconv3 = Transpose_Conv2D(conv8, 64, 3, strides=2, padding='same', block_id=11)\\n    \\n    # 128 x 128\\n    skip3 = layers.concatenate([deconv3, conv2], name='skip3')\\n    conv9 = Conv2DLayer(skip3, 64, 5, strides=1, padding='same', block_id=12)\\n    deconv4 = Transpose_Conv2D(conv9, 64, 3, strides=2, padding='same', block_id=13)\\n    \\n    # 256 x 256\\n    skip3 = layers.concatenate([deconv4, conv1])\\n    conv10 = layers.Conv2D(3, 3, strides=1, padding='same', activation='sigmoid',\\n                       kernel_initializer=orthogonal(), name='final_conv')(skip3)\\n\\n    \\n    return models.Model(inputs=inputs, outputs=conv10)\\n\\ninput_shape = (288,432)\\nautoencoder = AutoEncdoer((*input_shape, 3))\\nautoencoder.compile(optimizer='adam', loss='mse') #msse\\nautoencoder.summary()\\n\""
            ]
          },
          "metadata": {
            "tags": []
          },
          "execution_count": 12
        }
      ]
    },
    {
      "cell_type": "markdown",
      "metadata": {
        "id": "y0gzWM7tkqoV",
        "colab_type": "text"
      },
      "source": [
        "# U-Net ARCHITECTURE"
      ]
    },
    {
      "cell_type": "code",
      "metadata": {
        "id": "aG6Sz2sHk99z",
        "colab_type": "code",
        "outputId": "c2d7ab18-b335-48a6-d38b-3e04536a8eaa",
        "colab": {
          "base_uri": "https://localhost:8080/",
          "height": 1000
        }
      },
      "source": [
        "import tensorflow as tf\n",
        "from tensorflow.keras.layers import Input, Dense, Conv2D, MaxPooling2D, UpSampling2D,Flatten,Reshape,Cropping2D,Conv2DTranspose,concatenate\n",
        "from tensorflow.keras.models import Model\n",
        "from tensorflow.keras import backend as K\n",
        "from tensorflow.keras.initializers import orthogonal\n",
        "\n",
        "input_file = Input(shape=(288,432, 3))\n",
        "\n",
        "def Contract(x, filters, kernel , strides, padding, block_id, kernel_init=orthogonal()):\n",
        "  prefix = f'block_{block_id}_'\n",
        "  x = tf.keras.layers.Conv2D(filters= filters,kernel_size = kernel, strides = strides, kernel_initializer=kernel_init,\n",
        "                             activation = 'elu', padding = padding, name= prefix+'conv1')(x)\n",
        "  x = tf.keras.layers.Dropout(0.15 ,name = prefix +'dropout')(x)\n",
        "  x = tf.keras.layers.LeakyReLU(name=prefix+'lrelu')(x)                           \n",
        "  x = tf.keras.layers.Conv2D(filters= filters,kernel_size = kernel, strides = strides, kernel_initializer=kernel_init,\n",
        "                             activation = 'elu', padding = padding,  name= prefix+'conv2')(x)\n",
        "  return x\n",
        "\n",
        "def Expand(x , y , filters, kernel, trans_kernel,strides, padding, block_id, kernel_init=orthogonal()):\n",
        "  prefix = f'block_{block_id}_'\n",
        "  x = tf.keras.layers.Conv2DTranspose(filters,trans_kernel,strides = strides,kernel_initializer = kernel_init, \n",
        "                                      padding = padding,name = prefix + 'trans_conv2d')(x)\n",
        "  x = tf.keras.layers.concatenate([x,y],name = prefix + 'concatenate')\n",
        "  x = tf.keras.layers.Conv2D(filters,kernel_size = kernel,activation = 'elu',kernel_initializer = kernel_init,\n",
        "                             padding = padding,name = prefix + 'conv2d_1')(x)\n",
        "  x = tf.keras.layers.LeakyReLU(name=prefix+'lrelu')(x)\n",
        "  x = tf.keras.layers.Dropout(0.15, name=prefix+'dropout')((x))\n",
        "  x = tf.keras.layers.Conv2D(filters,kernel_size=kernel,activation = 'elu',kernel_initializer = kernel_init,\n",
        "                             padding = padding,name = prefix + 'conv2d_2')(x)\n",
        "  return x\n",
        "\n",
        "\n",
        "def U_net_arch(input_shape):\n",
        "  inputs = Input(shape=input_shape)\n",
        "  \n",
        "  #contracting path\n",
        "  \n",
        "  c1 = Contract(inputs, 16, 3 , strides = 1, padding='same', block_id=1)\n",
        "  p1 = tf.keras.layers.MaxPooling2D((2,2),name = 'block_1_max_pool')(c1)\n",
        "\n",
        "  c2 = Contract(p1, 32, 3 , strides = 1, padding='same', block_id=2)\n",
        "  p2 = tf.keras.layers.MaxPooling2D((2,2),name = 'block_2_max_pool')(c2)\n",
        "\n",
        "  c3 = Contract(p2, 64, 3 , strides = 1, padding='same', block_id=3)\n",
        "  p3 = tf.keras.layers.MaxPooling2D((2,2),name = 'block_3_max_pool')(c3)\n",
        "\n",
        "  c4 = Contract(p3, 128, 3 , strides = 1, padding='same', block_id=4)\n",
        "  p4 = tf.keras.layers.MaxPooling2D((2,2),name = 'block_4_max_pool')(c4)\n",
        "\n",
        "  c5 = Contract(p4, 256, 3 , strides = 1, padding='same', block_id=5)\n",
        " \n",
        "  #expanding path\n",
        "  \n",
        "  c6 = Expand(c5, c4, 128, 3 , (2,2), strides = (2,2), padding='same', block_id = 6)\n",
        "  \n",
        "  c7 = Expand(c6, c3, 64, 3 , (2,2), strides = (2,2), padding='same', block_id = 7)\n",
        "  \n",
        "  c8 = Expand(c7, c2, 32, 3 , (2,2), strides = (2,2), padding='same', block_id = 8)\n",
        "\n",
        "  c9 = Expand(c8, c1, 16, 3 , (2,2), strides = (2,2), padding='same', block_id = 9)\n",
        "  \n",
        "  outputs = tf.keras.layers.Conv2D(3,(1,1),activation = 'sigmoid')(c9)\n",
        "\n",
        "  return Model(inputs=inputs, outputs=outputs) \n",
        "\n",
        "input_shape = (288,432)\n",
        "U_net = U_net_arch((*input_shape,3))\n",
        "\n",
        "U_net.compile(optimizer='adam', loss='mse') #msse\n",
        "\n",
        "U_net.summary()\n",
        "\n",
        "\n",
        "\n",
        "\n"
      ],
      "execution_count": 13,
      "outputs": [
        {
          "output_type": "stream",
          "text": [
            "Model: \"model\"\n",
            "__________________________________________________________________________________________________\n",
            "Layer (type)                    Output Shape         Param #     Connected to                     \n",
            "==================================================================================================\n",
            "input_4 (InputLayer)            [(None, 288, 432, 3) 0                                            \n",
            "__________________________________________________________________________________________________\n",
            "block_1_conv1 (Conv2D)          (None, 288, 432, 16) 448         input_4[0][0]                    \n",
            "__________________________________________________________________________________________________\n",
            "block_1_dropout (Dropout)       (None, 288, 432, 16) 0           block_1_conv1[0][0]              \n",
            "__________________________________________________________________________________________________\n",
            "block_1_lrelu (LeakyReLU)       (None, 288, 432, 16) 0           block_1_dropout[0][0]            \n",
            "__________________________________________________________________________________________________\n",
            "block_1_conv2 (Conv2D)          (None, 288, 432, 16) 2320        block_1_lrelu[0][0]              \n",
            "__________________________________________________________________________________________________\n",
            "block_1_max_pool (MaxPooling2D) (None, 144, 216, 16) 0           block_1_conv2[0][0]              \n",
            "__________________________________________________________________________________________________\n",
            "block_2_conv1 (Conv2D)          (None, 144, 216, 32) 4640        block_1_max_pool[0][0]           \n",
            "__________________________________________________________________________________________________\n",
            "block_2_dropout (Dropout)       (None, 144, 216, 32) 0           block_2_conv1[0][0]              \n",
            "__________________________________________________________________________________________________\n",
            "block_2_lrelu (LeakyReLU)       (None, 144, 216, 32) 0           block_2_dropout[0][0]            \n",
            "__________________________________________________________________________________________________\n",
            "block_2_conv2 (Conv2D)          (None, 144, 216, 32) 9248        block_2_lrelu[0][0]              \n",
            "__________________________________________________________________________________________________\n",
            "block_2_max_pool (MaxPooling2D) (None, 72, 108, 32)  0           block_2_conv2[0][0]              \n",
            "__________________________________________________________________________________________________\n",
            "block_3_conv1 (Conv2D)          (None, 72, 108, 64)  18496       block_2_max_pool[0][0]           \n",
            "__________________________________________________________________________________________________\n",
            "block_3_dropout (Dropout)       (None, 72, 108, 64)  0           block_3_conv1[0][0]              \n",
            "__________________________________________________________________________________________________\n",
            "block_3_lrelu (LeakyReLU)       (None, 72, 108, 64)  0           block_3_dropout[0][0]            \n",
            "__________________________________________________________________________________________________\n",
            "block_3_conv2 (Conv2D)          (None, 72, 108, 64)  36928       block_3_lrelu[0][0]              \n",
            "__________________________________________________________________________________________________\n",
            "block_3_max_pool (MaxPooling2D) (None, 36, 54, 64)   0           block_3_conv2[0][0]              \n",
            "__________________________________________________________________________________________________\n",
            "block_4_conv1 (Conv2D)          (None, 36, 54, 128)  73856       block_3_max_pool[0][0]           \n",
            "__________________________________________________________________________________________________\n",
            "block_4_dropout (Dropout)       (None, 36, 54, 128)  0           block_4_conv1[0][0]              \n",
            "__________________________________________________________________________________________________\n",
            "block_4_lrelu (LeakyReLU)       (None, 36, 54, 128)  0           block_4_dropout[0][0]            \n",
            "__________________________________________________________________________________________________\n",
            "block_4_conv2 (Conv2D)          (None, 36, 54, 128)  147584      block_4_lrelu[0][0]              \n",
            "__________________________________________________________________________________________________\n",
            "block_4_max_pool (MaxPooling2D) (None, 18, 27, 128)  0           block_4_conv2[0][0]              \n",
            "__________________________________________________________________________________________________\n",
            "block_5_conv1 (Conv2D)          (None, 18, 27, 256)  295168      block_4_max_pool[0][0]           \n",
            "__________________________________________________________________________________________________\n",
            "block_5_dropout (Dropout)       (None, 18, 27, 256)  0           block_5_conv1[0][0]              \n",
            "__________________________________________________________________________________________________\n",
            "block_5_lrelu (LeakyReLU)       (None, 18, 27, 256)  0           block_5_dropout[0][0]            \n",
            "__________________________________________________________________________________________________\n",
            "block_5_conv2 (Conv2D)          (None, 18, 27, 256)  590080      block_5_lrelu[0][0]              \n",
            "__________________________________________________________________________________________________\n",
            "block_6_trans_conv2d (Conv2DTra (None, 36, 54, 128)  131200      block_5_conv2[0][0]              \n",
            "__________________________________________________________________________________________________\n",
            "block_6_concatenate (Concatenat (None, 36, 54, 256)  0           block_6_trans_conv2d[0][0]       \n",
            "                                                                 block_4_conv2[0][0]              \n",
            "__________________________________________________________________________________________________\n",
            "block_6_conv2d_1 (Conv2D)       (None, 36, 54, 128)  295040      block_6_concatenate[0][0]        \n",
            "__________________________________________________________________________________________________\n",
            "block_6_lrelu (LeakyReLU)       (None, 36, 54, 128)  0           block_6_conv2d_1[0][0]           \n",
            "__________________________________________________________________________________________________\n",
            "block_6_dropout (Dropout)       (None, 36, 54, 128)  0           block_6_lrelu[0][0]              \n",
            "__________________________________________________________________________________________________\n",
            "block_6_conv2d_2 (Conv2D)       (None, 36, 54, 128)  147584      block_6_dropout[0][0]            \n",
            "__________________________________________________________________________________________________\n",
            "block_7_trans_conv2d (Conv2DTra (None, 72, 108, 64)  32832       block_6_conv2d_2[0][0]           \n",
            "__________________________________________________________________________________________________\n",
            "block_7_concatenate (Concatenat (None, 72, 108, 128) 0           block_7_trans_conv2d[0][0]       \n",
            "                                                                 block_3_conv2[0][0]              \n",
            "__________________________________________________________________________________________________\n",
            "block_7_conv2d_1 (Conv2D)       (None, 72, 108, 64)  73792       block_7_concatenate[0][0]        \n",
            "__________________________________________________________________________________________________\n",
            "block_7_lrelu (LeakyReLU)       (None, 72, 108, 64)  0           block_7_conv2d_1[0][0]           \n",
            "__________________________________________________________________________________________________\n",
            "block_7_dropout (Dropout)       (None, 72, 108, 64)  0           block_7_lrelu[0][0]              \n",
            "__________________________________________________________________________________________________\n",
            "block_7_conv2d_2 (Conv2D)       (None, 72, 108, 64)  36928       block_7_dropout[0][0]            \n",
            "__________________________________________________________________________________________________\n",
            "block_8_trans_conv2d (Conv2DTra (None, 144, 216, 32) 8224        block_7_conv2d_2[0][0]           \n",
            "__________________________________________________________________________________________________\n",
            "block_8_concatenate (Concatenat (None, 144, 216, 64) 0           block_8_trans_conv2d[0][0]       \n",
            "                                                                 block_2_conv2[0][0]              \n",
            "__________________________________________________________________________________________________\n",
            "block_8_conv2d_1 (Conv2D)       (None, 144, 216, 32) 18464       block_8_concatenate[0][0]        \n",
            "__________________________________________________________________________________________________\n",
            "block_8_lrelu (LeakyReLU)       (None, 144, 216, 32) 0           block_8_conv2d_1[0][0]           \n",
            "__________________________________________________________________________________________________\n",
            "block_8_dropout (Dropout)       (None, 144, 216, 32) 0           block_8_lrelu[0][0]              \n",
            "__________________________________________________________________________________________________\n",
            "block_8_conv2d_2 (Conv2D)       (None, 144, 216, 32) 9248        block_8_dropout[0][0]            \n",
            "__________________________________________________________________________________________________\n",
            "block_9_trans_conv2d (Conv2DTra (None, 288, 432, 16) 2064        block_8_conv2d_2[0][0]           \n",
            "__________________________________________________________________________________________________\n",
            "block_9_concatenate (Concatenat (None, 288, 432, 32) 0           block_9_trans_conv2d[0][0]       \n",
            "                                                                 block_1_conv2[0][0]              \n",
            "__________________________________________________________________________________________________\n",
            "block_9_conv2d_1 (Conv2D)       (None, 288, 432, 16) 4624        block_9_concatenate[0][0]        \n",
            "__________________________________________________________________________________________________\n",
            "block_9_lrelu (LeakyReLU)       (None, 288, 432, 16) 0           block_9_conv2d_1[0][0]           \n",
            "__________________________________________________________________________________________________\n",
            "block_9_dropout (Dropout)       (None, 288, 432, 16) 0           block_9_lrelu[0][0]              \n",
            "__________________________________________________________________________________________________\n",
            "block_9_conv2d_2 (Conv2D)       (None, 288, 432, 16) 2320        block_9_dropout[0][0]            \n",
            "__________________________________________________________________________________________________\n",
            "conv2d (Conv2D)                 (None, 288, 432, 3)  51          block_9_conv2d_2[0][0]           \n",
            "==================================================================================================\n",
            "Total params: 1,941,139\n",
            "Trainable params: 1,941,139\n",
            "Non-trainable params: 0\n",
            "__________________________________________________________________________________________________\n"
          ],
          "name": "stdout"
        }
      ]
    },
    {
      "cell_type": "code",
      "metadata": {
        "id": "a8kRcKeaDTVa",
        "colab_type": "code",
        "colab": {}
      },
      "source": [
        "#required to yeild same input as target and discard labels\n",
        "def fixed_generator(generator):\n",
        "    for batch in generator:\n",
        "        yield (batch, batch)"
      ],
      "execution_count": 0,
      "outputs": []
    },
    {
      "cell_type": "code",
      "metadata": {
        "id": "E5suj4k_DT37",
        "colab_type": "code",
        "outputId": "e6ea60f2-8ef5-4867-d91e-777a9482772b",
        "colab": {
          "base_uri": "https://localhost:8080/",
          "height": 35
        }
      },
      "source": [
        "from keras.preprocessing.image import ImageDataGenerator\n",
        "train_datagen = ImageDataGenerator(\n",
        "        rescale=1./255,\n",
        "        shear_range=0.2,\n",
        "        zoom_range=0.2,\n",
        "        horizontal_flip=True)"
      ],
      "execution_count": 15,
      "outputs": [
        {
          "output_type": "stream",
          "text": [
            "Using TensorFlow backend.\n"
          ],
          "name": "stderr"
        }
      ]
    },
    {
      "cell_type": "code",
      "metadata": {
        "id": "mhhOixTYDYBA",
        "colab_type": "code",
        "colab": {}
      },
      "source": [
        "valid_datagen = ImageDataGenerator(rescale=1./255) \n",
        "test_datagen = ImageDataGenerator(rescale=1./255)"
      ],
      "execution_count": 0,
      "outputs": []
    },
    {
      "cell_type": "code",
      "metadata": {
        "id": "ZoSzeP6NDaS_",
        "colab_type": "code",
        "outputId": "8c72c54c-f5cd-4f69-95cb-e7d60ed7e3ea",
        "colab": {
          "base_uri": "https://localhost:8080/",
          "height": 35
        }
      },
      "source": [
        "train_generator = train_datagen.flow_from_directory(\n",
        "    directory=r\"/content/drive/My Drive/Baby Cry/donateacry-corpus-master/Mel_Spec_png/train\",\n",
        "    target_size=(288,432),\n",
        "    color_mode=\"rgb\",\n",
        "    batch_size=10,\n",
        "    class_mode='input',\n",
        "    shuffle=False,\n",
        "    seed=42\n",
        ")"
      ],
      "execution_count": 17,
      "outputs": [
        {
          "output_type": "stream",
          "text": [
            "Found 470 images belonging to 5 classes.\n"
          ],
          "name": "stdout"
        }
      ]
    },
    {
      "cell_type": "code",
      "metadata": {
        "id": "STDFNSptDbAB",
        "colab_type": "code",
        "outputId": "9d1d0149-ac36-4043-ead2-b9893a89631e",
        "colab": {
          "base_uri": "https://localhost:8080/",
          "height": 35
        }
      },
      "source": [
        "valid_generator = valid_datagen.flow_from_directory(\n",
        "    directory=r\"/content/drive/My Drive/Baby Cry/donateacry-corpus-master/Mel_Spec_png/val\",\n",
        "    target_size=(288,432),\n",
        "    color_mode=\"rgb\",\n",
        "    batch_size=1,\n",
        "    class_mode='input',\n",
        "    shuffle=False,\n",
        "    seed=42\n",
        ")"
      ],
      "execution_count": 18,
      "outputs": [
        {
          "output_type": "stream",
          "text": [
            "Found 163 images belonging to 5 classes.\n"
          ],
          "name": "stdout"
        }
      ]
    },
    {
      "cell_type": "code",
      "metadata": {
        "id": "9apsFxzsDeKi",
        "colab_type": "code",
        "outputId": "a8cd81fd-7f0e-4d5d-a822-ca3272994cdb",
        "colab": {
          "base_uri": "https://localhost:8080/",
          "height": 35
        }
      },
      "source": [
        "test_generator = test_datagen.flow_from_directory(\n",
        "    directory=r\"/content/drive/My Drive/Baby Cry/donateacry-corpus-master/Mel_Spec_png/test\",\n",
        "    target_size=(288,432),\n",
        "    color_mode=\"rgb\",\n",
        "    batch_size=1,\n",
        "    class_mode=None,\n",
        "    shuffle=False,\n",
        "    seed=42\n",
        ")"
      ],
      "execution_count": 19,
      "outputs": [
        {
          "output_type": "stream",
          "text": [
            "Found 154 images belonging to 5 classes.\n"
          ],
          "name": "stdout"
        }
      ]
    },
    {
      "cell_type": "code",
      "metadata": {
        "id": "rFxw8tbLDiJJ",
        "colab_type": "code",
        "outputId": "b658607f-9779-4de3-bcbe-a33f98fe08f9",
        "colab": {
          "base_uri": "https://localhost:8080/",
          "height": 568
        }
      },
      "source": [
        "from tensorflow.python.client import device_lib\n",
        "print(device_lib.list_local_devices())"
      ],
      "execution_count": 20,
      "outputs": [
        {
          "output_type": "stream",
          "text": [
            "[name: \"/device:CPU:0\"\n",
            "device_type: \"CPU\"\n",
            "memory_limit: 268435456\n",
            "locality {\n",
            "}\n",
            "incarnation: 8212423356242926216\n",
            ", name: \"/device:XLA_CPU:0\"\n",
            "device_type: \"XLA_CPU\"\n",
            "memory_limit: 17179869184\n",
            "locality {\n",
            "}\n",
            "incarnation: 10913701903256033862\n",
            "physical_device_desc: \"device: XLA_CPU device\"\n",
            ", name: \"/device:XLA_GPU:0\"\n",
            "device_type: \"XLA_GPU\"\n",
            "memory_limit: 17179869184\n",
            "locality {\n",
            "}\n",
            "incarnation: 6768945532654388063\n",
            "physical_device_desc: \"device: XLA_GPU device\"\n",
            ", name: \"/device:GPU:0\"\n",
            "device_type: \"GPU\"\n",
            "memory_limit: 11150726272\n",
            "locality {\n",
            "  bus_id: 1\n",
            "  links {\n",
            "  }\n",
            "}\n",
            "incarnation: 7815594619160389878\n",
            "physical_device_desc: \"device: 0, name: Tesla K80, pci bus id: 0000:00:04.0, compute capability: 3.7\"\n",
            "]\n"
          ],
          "name": "stdout"
        }
      ]
    },
    {
      "cell_type": "markdown",
      "metadata": {
        "id": "NltaEeXxS_97",
        "colab_type": "text"
      },
      "source": [
        "adding callback\n"
      ]
    },
    {
      "cell_type": "code",
      "metadata": {
        "id": "UydJYsefTD8j",
        "colab_type": "code",
        "colab": {}
      },
      "source": [
        "filepath=\"/content/drive/My Drive/Baby Cry/donateacry-corpus-master/U_net_arch.hdf5\"\n",
        "checkpoint = tf.keras.callbacks.ModelCheckpoint(filepath, monitor='val_accuracy', verbose=1, save_best_only=True, mode='max')\n",
        "callbacks_list = [checkpoint]"
      ],
      "execution_count": 0,
      "outputs": []
    },
    {
      "cell_type": "markdown",
      "metadata": {
        "id": "4o5vwo66TBvm",
        "colab_type": "text"
      },
      "source": [
        "fitting the model\n"
      ]
    },
    {
      "cell_type": "code",
      "metadata": {
        "id": "UVYbyNkKDkbu",
        "colab_type": "code",
        "outputId": "0d665ad1-add8-4977-f146-c4223818d9be",
        "colab": {
          "base_uri": "https://localhost:8080/",
          "height": 1000
        }
      },
      "source": [
        "STEP_SIZE_TRAIN=train_generator.n//train_generator.batch_size\n",
        "STEP_SIZE_VALID=valid_generator.n//valid_generator.batch_size\n",
        "\n",
        "autoencoder_train = U_net.fit(x = fixed_generator(train_generator),\n",
        "                epochs = 50,\n",
        "                verbose = 1,\n",
        "                callbacks=callbacks_list,\n",
        "                validation_data = fixed_generator(valid_generator),\n",
        "                shuffle = False, \n",
        "                initial_epoch=0, \n",
        "                steps_per_epoch=STEP_SIZE_TRAIN, \n",
        "                validation_steps=STEP_SIZE_VALID, \n",
        "                validation_freq=1, \n",
        "                max_queue_size=10,                                    \n",
        ")"
      ],
      "execution_count": 22,
      "outputs": [
        {
          "output_type": "stream",
          "text": [
            "Epoch 1/50\n",
            "47/47 [==============================] - ETA: 0s - loss: 0.0373WARNING:tensorflow:Can save best model only with val_accuracy available, skipping.\n",
            "47/47 [==============================] - 141s 3s/step - loss: 0.0373 - val_loss: 0.0346\n",
            "Epoch 2/50\n",
            "47/47 [==============================] - ETA: 0s - loss: 0.0051WARNING:tensorflow:Can save best model only with val_accuracy available, skipping.\n",
            "47/47 [==============================] - 21s 455ms/step - loss: 0.0051 - val_loss: 0.0051\n",
            "Epoch 3/50\n",
            "47/47 [==============================] - ETA: 0s - loss: 0.0030WARNING:tensorflow:Can save best model only with val_accuracy available, skipping.\n",
            "47/47 [==============================] - 21s 455ms/step - loss: 0.0030 - val_loss: 0.0038\n",
            "Epoch 4/50\n",
            "47/47 [==============================] - ETA: 0s - loss: 0.0024WARNING:tensorflow:Can save best model only with val_accuracy available, skipping.\n",
            "47/47 [==============================] - 21s 453ms/step - loss: 0.0024 - val_loss: 0.0036\n",
            "Epoch 5/50\n",
            "47/47 [==============================] - ETA: 0s - loss: 0.0021WARNING:tensorflow:Can save best model only with val_accuracy available, skipping.\n",
            "47/47 [==============================] - 22s 459ms/step - loss: 0.0021 - val_loss: 0.0035\n",
            "Epoch 6/50\n",
            "47/47 [==============================] - ETA: 0s - loss: 0.0018WARNING:tensorflow:Can save best model only with val_accuracy available, skipping.\n",
            "47/47 [==============================] - 22s 458ms/step - loss: 0.0018 - val_loss: 0.0031\n",
            "Epoch 7/50\n",
            "47/47 [==============================] - ETA: 0s - loss: 0.0016WARNING:tensorflow:Can save best model only with val_accuracy available, skipping.\n",
            "47/47 [==============================] - 22s 458ms/step - loss: 0.0016 - val_loss: 0.0029\n",
            "Epoch 8/50\n",
            "47/47 [==============================] - ETA: 0s - loss: 0.0015WARNING:tensorflow:Can save best model only with val_accuracy available, skipping.\n",
            "47/47 [==============================] - 22s 460ms/step - loss: 0.0015 - val_loss: 0.0028\n",
            "Epoch 9/50\n",
            "47/47 [==============================] - ETA: 0s - loss: 0.0014WARNING:tensorflow:Can save best model only with val_accuracy available, skipping.\n",
            "47/47 [==============================] - 22s 458ms/step - loss: 0.0014 - val_loss: 0.0027\n",
            "Epoch 10/50\n",
            "47/47 [==============================] - ETA: 0s - loss: 0.0013WARNING:tensorflow:Can save best model only with val_accuracy available, skipping.\n",
            "47/47 [==============================] - 22s 458ms/step - loss: 0.0013 - val_loss: 0.0024\n",
            "Epoch 11/50\n",
            "47/47 [==============================] - ETA: 0s - loss: 0.0012WARNING:tensorflow:Can save best model only with val_accuracy available, skipping.\n",
            "47/47 [==============================] - 22s 459ms/step - loss: 0.0012 - val_loss: 0.0022\n",
            "Epoch 12/50\n",
            "47/47 [==============================] - ETA: 0s - loss: 0.0011WARNING:tensorflow:Can save best model only with val_accuracy available, skipping.\n",
            "47/47 [==============================] - 22s 458ms/step - loss: 0.0011 - val_loss: 0.0020\n",
            "Epoch 13/50\n",
            "47/47 [==============================] - ETA: 0s - loss: 0.0010WARNING:tensorflow:Can save best model only with val_accuracy available, skipping.\n",
            "47/47 [==============================] - 22s 458ms/step - loss: 0.0010 - val_loss: 0.0020\n",
            "Epoch 14/50\n",
            "47/47 [==============================] - ETA: 0s - loss: 9.6717e-04WARNING:tensorflow:Can save best model only with val_accuracy available, skipping.\n",
            "47/47 [==============================] - 21s 455ms/step - loss: 9.6717e-04 - val_loss: 0.0019\n",
            "Epoch 15/50\n",
            "47/47 [==============================] - ETA: 0s - loss: 9.1713e-04WARNING:tensorflow:Can save best model only with val_accuracy available, skipping.\n",
            "47/47 [==============================] - 21s 456ms/step - loss: 9.1713e-04 - val_loss: 0.0019\n",
            "Epoch 16/50\n",
            "47/47 [==============================] - ETA: 0s - loss: 8.6913e-04WARNING:tensorflow:Can save best model only with val_accuracy available, skipping.\n",
            "47/47 [==============================] - 22s 459ms/step - loss: 8.6913e-04 - val_loss: 0.0018\n",
            "Epoch 17/50\n",
            "47/47 [==============================] - ETA: 0s - loss: 8.3088e-04WARNING:tensorflow:Can save best model only with val_accuracy available, skipping.\n",
            "47/47 [==============================] - 21s 457ms/step - loss: 8.3088e-04 - val_loss: 0.0017\n",
            "Epoch 18/50\n",
            "47/47 [==============================] - ETA: 0s - loss: 7.9380e-04WARNING:tensorflow:Can save best model only with val_accuracy available, skipping.\n",
            "47/47 [==============================] - 22s 458ms/step - loss: 7.9380e-04 - val_loss: 0.0017\n",
            "Epoch 19/50\n",
            "47/47 [==============================] - ETA: 0s - loss: 7.5866e-04WARNING:tensorflow:Can save best model only with val_accuracy available, skipping.\n",
            "47/47 [==============================] - 21s 456ms/step - loss: 7.5866e-04 - val_loss: 0.0016\n",
            "Epoch 20/50\n",
            "47/47 [==============================] - ETA: 0s - loss: 7.3263e-04WARNING:tensorflow:Can save best model only with val_accuracy available, skipping.\n",
            "47/47 [==============================] - 22s 460ms/step - loss: 7.3263e-04 - val_loss: 0.0017\n",
            "Epoch 21/50\n",
            "47/47 [==============================] - ETA: 0s - loss: 6.9519e-04WARNING:tensorflow:Can save best model only with val_accuracy available, skipping.\n",
            "47/47 [==============================] - 22s 459ms/step - loss: 6.9519e-04 - val_loss: 0.0015\n",
            "Epoch 22/50\n",
            "47/47 [==============================] - ETA: 0s - loss: 6.6822e-04WARNING:tensorflow:Can save best model only with val_accuracy available, skipping.\n",
            "47/47 [==============================] - 22s 459ms/step - loss: 6.6822e-04 - val_loss: 0.0014\n",
            "Epoch 23/50\n",
            "47/47 [==============================] - ETA: 0s - loss: 6.4456e-04WARNING:tensorflow:Can save best model only with val_accuracy available, skipping.\n",
            "47/47 [==============================] - 21s 457ms/step - loss: 6.4456e-04 - val_loss: 0.0014\n",
            "Epoch 24/50\n",
            "47/47 [==============================] - ETA: 0s - loss: 6.2016e-04WARNING:tensorflow:Can save best model only with val_accuracy available, skipping.\n",
            "47/47 [==============================] - 22s 462ms/step - loss: 6.2016e-04 - val_loss: 0.0014\n",
            "Epoch 25/50\n",
            "47/47 [==============================] - ETA: 0s - loss: 5.9523e-04WARNING:tensorflow:Can save best model only with val_accuracy available, skipping.\n",
            "47/47 [==============================] - 21s 453ms/step - loss: 5.9523e-04 - val_loss: 0.0015\n",
            "Epoch 26/50\n",
            "47/47 [==============================] - ETA: 0s - loss: 5.7408e-04WARNING:tensorflow:Can save best model only with val_accuracy available, skipping.\n",
            "47/47 [==============================] - 22s 459ms/step - loss: 5.7408e-04 - val_loss: 0.0014\n",
            "Epoch 27/50\n",
            "47/47 [==============================] - ETA: 0s - loss: 5.5610e-04WARNING:tensorflow:Can save best model only with val_accuracy available, skipping.\n",
            "47/47 [==============================] - 22s 459ms/step - loss: 5.5610e-04 - val_loss: 0.0013\n",
            "Epoch 28/50\n",
            "47/47 [==============================] - ETA: 0s - loss: 5.4344e-04WARNING:tensorflow:Can save best model only with val_accuracy available, skipping.\n",
            "47/47 [==============================] - 21s 457ms/step - loss: 5.4344e-04 - val_loss: 0.0012\n",
            "Epoch 29/50\n",
            "47/47 [==============================] - ETA: 0s - loss: 5.2657e-04WARNING:tensorflow:Can save best model only with val_accuracy available, skipping.\n",
            "47/47 [==============================] - 21s 456ms/step - loss: 5.2657e-04 - val_loss: 0.0012\n",
            "Epoch 30/50\n",
            "47/47 [==============================] - ETA: 0s - loss: 5.1523e-04WARNING:tensorflow:Can save best model only with val_accuracy available, skipping.\n",
            "47/47 [==============================] - 22s 459ms/step - loss: 5.1523e-04 - val_loss: 0.0011\n",
            "Epoch 31/50\n",
            "47/47 [==============================] - ETA: 0s - loss: 4.9484e-04WARNING:tensorflow:Can save best model only with val_accuracy available, skipping.\n",
            "47/47 [==============================] - 22s 460ms/step - loss: 4.9484e-04 - val_loss: 0.0012\n",
            "Epoch 32/50\n",
            "47/47 [==============================] - ETA: 0s - loss: 4.8959e-04WARNING:tensorflow:Can save best model only with val_accuracy available, skipping.\n",
            "47/47 [==============================] - 22s 461ms/step - loss: 4.8959e-04 - val_loss: 0.0012\n",
            "Epoch 33/50\n",
            "47/47 [==============================] - ETA: 0s - loss: 4.7535e-04WARNING:tensorflow:Can save best model only with val_accuracy available, skipping.\n",
            "47/47 [==============================] - 22s 460ms/step - loss: 4.7535e-04 - val_loss: 0.0011\n",
            "Epoch 34/50\n",
            "47/47 [==============================] - ETA: 0s - loss: 4.5753e-04WARNING:tensorflow:Can save best model only with val_accuracy available, skipping.\n",
            "47/47 [==============================] - 22s 459ms/step - loss: 4.5753e-04 - val_loss: 9.7700e-04\n",
            "Epoch 35/50\n",
            "47/47 [==============================] - ETA: 0s - loss: 4.4936e-04WARNING:tensorflow:Can save best model only with val_accuracy available, skipping.\n",
            "47/47 [==============================] - 22s 458ms/step - loss: 4.4936e-04 - val_loss: 9.6949e-04\n",
            "Epoch 36/50\n",
            "47/47 [==============================] - ETA: 0s - loss: 4.4048e-04WARNING:tensorflow:Can save best model only with val_accuracy available, skipping.\n",
            "47/47 [==============================] - 21s 456ms/step - loss: 4.4048e-04 - val_loss: 9.9365e-04\n",
            "Epoch 37/50\n",
            "47/47 [==============================] - ETA: 0s - loss: 4.3085e-04WARNING:tensorflow:Can save best model only with val_accuracy available, skipping.\n",
            "47/47 [==============================] - 22s 460ms/step - loss: 4.3085e-04 - val_loss: 0.0010\n",
            "Epoch 38/50\n",
            "47/47 [==============================] - ETA: 0s - loss: 4.2298e-04WARNING:tensorflow:Can save best model only with val_accuracy available, skipping.\n",
            "47/47 [==============================] - 22s 459ms/step - loss: 4.2298e-04 - val_loss: 8.8239e-04\n",
            "Epoch 39/50\n",
            "47/47 [==============================] - ETA: 0s - loss: 4.1425e-04WARNING:tensorflow:Can save best model only with val_accuracy available, skipping.\n",
            "47/47 [==============================] - 22s 460ms/step - loss: 4.1425e-04 - val_loss: 8.6128e-04\n",
            "Epoch 40/50\n",
            "47/47 [==============================] - ETA: 0s - loss: 4.0668e-04WARNING:tensorflow:Can save best model only with val_accuracy available, skipping.\n",
            "47/47 [==============================] - 22s 458ms/step - loss: 4.0668e-04 - val_loss: 8.4799e-04\n",
            "Epoch 41/50\n",
            "47/47 [==============================] - ETA: 0s - loss: 3.9977e-04WARNING:tensorflow:Can save best model only with val_accuracy available, skipping.\n",
            "47/47 [==============================] - 22s 458ms/step - loss: 3.9977e-04 - val_loss: 8.3176e-04\n",
            "Epoch 42/50\n",
            "47/47 [==============================] - ETA: 0s - loss: 3.8841e-04WARNING:tensorflow:Can save best model only with val_accuracy available, skipping.\n",
            "47/47 [==============================] - 22s 460ms/step - loss: 3.8841e-04 - val_loss: 7.8546e-04\n",
            "Epoch 43/50\n",
            "47/47 [==============================] - ETA: 0s - loss: 3.8025e-04WARNING:tensorflow:Can save best model only with val_accuracy available, skipping.\n",
            "47/47 [==============================] - 21s 455ms/step - loss: 3.8025e-04 - val_loss: 7.3754e-04\n",
            "Epoch 44/50\n",
            "47/47 [==============================] - ETA: 0s - loss: 3.7678e-04WARNING:tensorflow:Can save best model only with val_accuracy available, skipping.\n",
            "47/47 [==============================] - 22s 458ms/step - loss: 3.7678e-04 - val_loss: 7.4449e-04\n",
            "Epoch 45/50\n",
            "47/47 [==============================] - ETA: 0s - loss: 3.7056e-04WARNING:tensorflow:Can save best model only with val_accuracy available, skipping.\n",
            "47/47 [==============================] - 21s 457ms/step - loss: 3.7056e-04 - val_loss: 7.2012e-04\n",
            "Epoch 46/50\n",
            "47/47 [==============================] - ETA: 0s - loss: 3.6229e-04WARNING:tensorflow:Can save best model only with val_accuracy available, skipping.\n",
            "47/47 [==============================] - 21s 456ms/step - loss: 3.6229e-04 - val_loss: 6.9238e-04\n",
            "Epoch 47/50\n",
            "47/47 [==============================] - ETA: 0s - loss: 3.5568e-04WARNING:tensorflow:Can save best model only with val_accuracy available, skipping.\n",
            "47/47 [==============================] - 22s 458ms/step - loss: 3.5568e-04 - val_loss: 6.5001e-04\n",
            "Epoch 48/50\n",
            "47/47 [==============================] - ETA: 0s - loss: 3.4933e-04WARNING:tensorflow:Can save best model only with val_accuracy available, skipping.\n",
            "47/47 [==============================] - 22s 460ms/step - loss: 3.4933e-04 - val_loss: 6.1923e-04\n",
            "Epoch 49/50\n",
            "47/47 [==============================] - ETA: 0s - loss: 3.4276e-04WARNING:tensorflow:Can save best model only with val_accuracy available, skipping.\n",
            "47/47 [==============================] - 22s 460ms/step - loss: 3.4276e-04 - val_loss: 6.2787e-04\n",
            "Epoch 50/50\n",
            "47/47 [==============================] - ETA: 0s - loss: 3.3987e-04WARNING:tensorflow:Can save best model only with val_accuracy available, skipping.\n",
            "47/47 [==============================] - 22s 458ms/step - loss: 3.3987e-04 - val_loss: 5.9344e-04\n"
          ],
          "name": "stdout"
        }
      ]
    },
    {
      "cell_type": "code",
      "metadata": {
        "id": "mlq756ajqV_7",
        "colab_type": "code",
        "outputId": "97022327-1182-4e8c-b052-86056f859e42",
        "colab": {
          "base_uri": "https://localhost:8080/",
          "height": 281
        }
      },
      "source": [
        "from matplotlib import pyplot as plt\n",
        "import numpy as np\n",
        "\n",
        "loss = np.array(autoencoder_train.history['loss'])\n",
        "val_loss = np.array(autoencoder_train.history['val_loss'])\n",
        "epochs = np.array(range(50))\n",
        "plt.figure()\n",
        "plt.plot(epochs, loss, 'bo', label='Training loss')\n",
        "plt.plot(epochs, val_loss, 'b', label='Validation loss')\n",
        "plt.title('Training and validation loss')\n",
        "plt.legend()\n",
        "plt.show()"
      ],
      "execution_count": 23,
      "outputs": [
        {
          "output_type": "display_data",
          "data": {
            "image/png": "[encoded data removed]",
            "text/plain": [
              "<Figure size 432x288 with 1 Axes>"
            ]
          },
          "metadata": {
            "tags": [],
            "needs_background": "light"
          }
        }
      ]
    },
    {
      "cell_type": "code",
      "metadata": {
        "id": "BwS8WuIf1Rlc",
        "colab_type": "code",
        "colab": {}
      },
      "source": [
        "U_net.save_weights('U_net_arch.h5')"
      ],
      "execution_count": 0,
      "outputs": []
    },
    {
      "cell_type": "markdown",
      "metadata": {
        "id": "O5NTLBWwS2cz",
        "colab_type": "text"
      },
      "source": [
        "predict\n"
      ]
    },
    {
      "cell_type": "code",
      "metadata": {
        "id": "LsrsLETUv8Qb",
        "colab_type": "code",
        "outputId": "71d0a625-711d-467d-b6fe-7f97ffa05085",
        "colab": {
          "base_uri": "https://localhost:8080/",
          "height": 35
        }
      },
      "source": [
        "STEP_SIZE_TEST=test_generator.n//test_generator.batch_size\n",
        "test_generator.reset()\n",
        "pred= U_net.predict(x = test_generator, \n",
        "                         batch_size=1,\n",
        "                         verbose = 1,\n",
        "                         steps = STEP_SIZE_TEST,\n",
        "                         max_queue_size = 10\n",
        "                         )"
      ],
      "execution_count": 25,
      "outputs": [
        {
          "output_type": "stream",
          "text": [
            "154/154 [==============================] - 50s 327ms/step\n"
          ],
          "name": "stdout"
        }
      ]
    },
    {
      "cell_type": "code",
      "metadata": {
        "id": "E7tmk5Befry3",
        "colab_type": "code",
        "outputId": "2d634a1f-b47f-47a3-f3f0-e96771f7e88c",
        "colab": {
          "base_uri": "https://localhost:8080/",
          "height": 305
        }
      },
      "source": [
        "from keras.preprocessing import image\n",
        "\n",
        "recon_arr = pred[0]*255\n",
        "pred_img = image.array_to_img(recon_arr)\n",
        "pred_img.save('my.png')\n",
        "display(pred_img)"
      ],
      "execution_count": 26,
      "outputs": [
        {
          "output_type": "display_data",
          "data": {
            "image/png": "[encoded data removed]",
            "text/plain": [
              "<PIL.Image.Image image mode=RGB size=432x288 at 0x7F365B8740F0>"
            ]
          },
          "metadata": {
            "tags": []
          }
        }
      ]
    },
    {
      "cell_type": "markdown",
      "metadata": {
        "id": "7_DmBsUmWLj9",
        "colab_type": "text"
      },
      "source": [
        "Get the Encoded layer and flatten it for the features which will be used in the classification model\n"
      ]
    },
    {
      "cell_type": "code",
      "metadata": {
        "id": "ludvECZDVJB5",
        "colab_type": "code",
        "outputId": "bfb98ee9-9206-486a-f6e4-be182a86dd78",
        "colab": {
          "base_uri": "https://localhost:8080/",
          "height": 35
        }
      },
      "source": [
        "\n",
        "encoded = Model(inputs=U_net.input, outputs=U_net.get_layer('block_5_conv2').output)\n",
        "Y_test = encoded.predict(x = test_generator, \n",
        "                         batch_size=1,\n",
        "                         verbose = 1,\n",
        "                         steps = STEP_SIZE_TEST,\n",
        "                         max_queue_size = 10)"
      ],
      "execution_count": 27,
      "outputs": [
        {
          "output_type": "stream",
          "text": [
            "154/154 [==============================] - 1s 9ms/step\n"
          ],
          "name": "stdout"
        }
      ]
    },
    {
      "cell_type": "code",
      "metadata": {
        "id": "O6YQ86TzrW_h",
        "colab_type": "code",
        "outputId": "a9e1b3e8-53c6-42d7-a884-e142445689ec",
        "colab": {
          "base_uri": "https://localhost:8080/",
          "height": 35
        }
      },
      "source": [
        "Y_train = encoded.predict(x = train_generator, \n",
        "                         batch_size=10,\n",
        "                         verbose = 1,\n",
        "                         steps = STEP_SIZE_TRAIN,\n",
        "                         max_queue_size = 10)"
      ],
      "execution_count": 28,
      "outputs": [
        {
          "output_type": "stream",
          "text": [
            "47/47 [==============================] - 15s 318ms/step\n"
          ],
          "name": "stdout"
        }
      ]
    },
    {
      "cell_type": "code",
      "metadata": {
        "id": "VHeMkudUraEL",
        "colab_type": "code",
        "outputId": "cc820626-e02c-430d-a8b7-273c482dcc01",
        "colab": {
          "base_uri": "https://localhost:8080/",
          "height": 35
        }
      },
      "source": [
        "Y_valid = encoded.predict(x = valid_generator, \n",
        "                         batch_size=10,\n",
        "                         verbose = 1,\n",
        "                         steps = STEP_SIZE_VALID,\n",
        "                         max_queue_size = 10)"
      ],
      "execution_count": 29,
      "outputs": [
        {
          "output_type": "stream",
          "text": [
            "163/163 [==============================] - 2s 10ms/step\n"
          ],
          "name": "stdout"
        }
      ]
    },
    {
      "cell_type": "code",
      "metadata": {
        "id": "PkCTY2XA8dFB",
        "colab_type": "code",
        "colab": {}
      },
      "source": [
        "mean_encoded_test = np.mean(Y_test,axis = 3)\n",
        "mean_encoded_train = np.mean(Y_train,axis = 3)\n",
        "mean_encoded_valid = np.mean(Y_valid,axis = 3)"
      ],
      "execution_count": 0,
      "outputs": []
    },
    {
      "cell_type": "code",
      "metadata": {
        "id": "9TyhzrC9dsnZ",
        "colab_type": "code",
        "colab": {}
      },
      "source": [
        "flatten_encoded_test = np.reshape(mean_encoded_test,(mean_encoded_test.shape[0], np.multiply(mean_encoded_test.shape[1],mean_encoded_test.shape[2])))\n",
        "flatten_encoded_train = np.reshape(mean_encoded_train,(mean_encoded_train.shape[0], np.multiply(mean_encoded_train.shape[1],mean_encoded_train.shape[2])))\n",
        "flatten_encoded_valid = np.reshape(mean_encoded_valid,(mean_encoded_valid.shape[0], np.multiply(mean_encoded_valid.shape[1],mean_encoded_valid.shape[2])))"
      ],
      "execution_count": 0,
      "outputs": []
    },
    {
      "cell_type": "code",
      "metadata": {
        "id": "UX1sDWDJuojz",
        "colab_type": "code",
        "outputId": "59a5f33a-2703-408f-cdb5-c2352d47fb01",
        "colab": {
          "base_uri": "https://localhost:8080/",
          "height": 35
        }
      },
      "source": [
        "print(flatten_encoded_valid.shape)"
      ],
      "execution_count": 32,
      "outputs": [
        {
          "output_type": "stream",
          "text": [
            "(163, 486)\n"
          ],
          "name": "stdout"
        }
      ]
    },
    {
      "cell_type": "code",
      "metadata": {
        "id": "SUn5_Soue-1l",
        "colab_type": "code",
        "colab": {}
      },
      "source": [
        "#np.savetxt(\"encoded_features.csv\", flatten_encoded, delimiter=\",\")"
      ],
      "execution_count": 0,
      "outputs": []
    },
    {
      "cell_type": "markdown",
      "metadata": {
        "id": "i4SJfox0psb0",
        "colab_type": "text"
      },
      "source": [
        "Convert the encoded part to a data frame or to a numpy. Still working"
      ]
    },
    {
      "cell_type": "markdown",
      "metadata": {
        "id": "71v-vntXp4qm",
        "colab_type": "text"
      },
      "source": [
        "Use the obtained dataframe to feed and train the classifier.\n"
      ]
    },
    {
      "cell_type": "code",
      "metadata": {
        "id": "OxNaJj5ssx0Z",
        "colab_type": "code",
        "colab": {}
      },
      "source": [
        "import os\n",
        "def get_file_length(file_path):\n",
        "  path, dirs, files = next(os.walk(file_path))\n",
        "  count = len(files)\n",
        "  print(count)\n",
        "  return count\n"
      ],
      "execution_count": 0,
      "outputs": []
    },
    {
      "cell_type": "code",
      "metadata": {
        "id": "WS2fXhGhqAlM",
        "colab_type": "code",
        "outputId": "9ee2c113-94b0-4e16-9e21-2d347dab723e",
        "colab": {
          "base_uri": "https://localhost:8080/",
          "height": 106
        }
      },
      "source": [
        "belly_pain_count_test = get_file_length(r'/content/drive/My Drive/Baby Cry/donateacry-corpus-master/Mel_Spec_png/test/belly_pain')\n",
        "burping_count_test = get_file_length(r'/content/drive/My Drive/Baby Cry/donateacry-corpus-master/Mel_Spec_png/test/burping')\n",
        "discomfort_count_test = get_file_length(r'/content/drive/My Drive/Baby Cry/donateacry-corpus-master/Mel_Spec_png/test/discomfort')\n",
        "hungry_count_test = get_file_length(r'/content/drive/My Drive/Baby Cry/donateacry-corpus-master/Mel_Spec_png/test/hungry')\n",
        "tired_count_test = get_file_length(r'/content/drive/My Drive/Baby Cry/donateacry-corpus-master/Mel_Spec_png/test/tired')"
      ],
      "execution_count": 35,
      "outputs": [
        {
          "output_type": "stream",
          "text": [
            "16\n",
            "8\n",
            "27\n",
            "79\n",
            "24\n"
          ],
          "name": "stdout"
        }
      ]
    },
    {
      "cell_type": "code",
      "metadata": {
        "id": "kJbshMWAxLaW",
        "colab_type": "code",
        "outputId": "31dc639e-a956-49de-d779-09fa5322ed9f",
        "colab": {
          "base_uri": "https://localhost:8080/",
          "height": 106
        }
      },
      "source": [
        "belly_pain_count_train = get_file_length(r'/content/drive/My Drive/Baby Cry/donateacry-corpus-master/Mel_Spec_png/train/belly_pain')\n",
        "burping_count_train = get_file_length(r'/content/drive/My Drive/Baby Cry/donateacry-corpus-master/Mel_Spec_png/train/burping')\n",
        "discomfort_count_train = get_file_length(r'/content/drive/My Drive/Baby Cry/donateacry-corpus-master/Mel_Spec_png/train/discomfort')\n",
        "hungry_count_train = get_file_length(r'/content/drive/My Drive/Baby Cry/donateacry-corpus-master/Mel_Spec_png/train/hungry')\n",
        "tired_count_train = get_file_length(r'/content/drive/My Drive/Baby Cry/donateacry-corpus-master/Mel_Spec_png/train/tired')"
      ],
      "execution_count": 36,
      "outputs": [
        {
          "output_type": "stream",
          "text": [
            "48\n",
            "24\n",
            "91\n",
            "235\n",
            "72\n"
          ],
          "name": "stdout"
        }
      ]
    },
    {
      "cell_type": "code",
      "metadata": {
        "id": "f9Bq5WiHxMlY",
        "colab_type": "code",
        "outputId": "3527b7e0-1407-4f0f-9014-cfeaf2152bc9",
        "colab": {
          "base_uri": "https://localhost:8080/",
          "height": 106
        }
      },
      "source": [
        "belly_pain_count_valid = get_file_length(r'/content/drive/My Drive/Baby Cry/donateacry-corpus-master/Mel_Spec_png/val/belly_pain')\n",
        "burping_count_valid = get_file_length(r'/content/drive/My Drive/Baby Cry/donateacry-corpus-master/Mel_Spec_png/val/burping')\n",
        "discomfort_count_valid = get_file_length(r'/content/drive/My Drive/Baby Cry/donateacry-corpus-master/Mel_Spec_png/val/discomfort')\n",
        "hungry_count_valid = get_file_length(r'/content/drive/My Drive/Baby Cry/donateacry-corpus-master/Mel_Spec_png/val/hungry')\n",
        "tired_count_valid = get_file_length(r'/content/drive/My Drive/Baby Cry/donateacry-corpus-master/Mel_Spec_png/val/tired')"
      ],
      "execution_count": 37,
      "outputs": [
        {
          "output_type": "stream",
          "text": [
            "16\n",
            "8\n",
            "37\n",
            "78\n",
            "24\n"
          ],
          "name": "stdout"
        }
      ]
    },
    {
      "cell_type": "code",
      "metadata": {
        "id": "8N8LRv5Ivyer",
        "colab_type": "code",
        "colab": {}
      },
      "source": [
        "def get_labels(c1,c2,c3,c4,c5):\n",
        "  labels = np.zeros((c1,1))\n",
        "  labels = np.concatenate((labels,np.ones((c2,1))))\n",
        "  labels = np.concatenate((labels,2*np.ones((c3,1))))\n",
        "  labels = np.concatenate((labels,3*np.ones((c4,1))))\n",
        "  labels = np.concatenate((labels,4*np.ones((c5,1))))\n",
        "  print(labels.shape)\n",
        "  return labels\n",
        "  "
      ],
      "execution_count": 0,
      "outputs": []
    },
    {
      "cell_type": "code",
      "metadata": {
        "id": "X8GW1SzeH4Sk",
        "colab_type": "code",
        "outputId": "3c5f69c8-29c7-4239-8243-2dded118a89a",
        "colab": {
          "base_uri": "https://localhost:8080/",
          "height": 70
        }
      },
      "source": [
        "labels_test = get_labels(belly_pain_count_test , burping_count_test , discomfort_count_test , hungry_count_test , tired_count_test)\n",
        "labels_train = get_labels(belly_pain_count_train , burping_count_train , discomfort_count_train , hungry_count_train , tired_count_train)\n",
        "labels_valid = get_labels(belly_pain_count_valid , burping_count_valid , discomfort_count_valid , hungry_count_valid , tired_count_valid)"
      ],
      "execution_count": 39,
      "outputs": [
        {
          "output_type": "stream",
          "text": [
            "(154, 1)\n",
            "(470, 1)\n",
            "(163, 1)\n"
          ],
          "name": "stdout"
        }
      ]
    },
    {
      "cell_type": "markdown",
      "metadata": {
        "id": "uuRP2zCBZ7Nb",
        "colab_type": "text"
      },
      "source": [
        "# Training using KNN \n"
      ]
    },
    {
      "cell_type": "code",
      "metadata": {
        "id": "4z7tkI0RVptG",
        "colab_type": "code",
        "outputId": "69f0f982-937e-4ca2-af57-5de99ac3fd2a",
        "colab": {
          "base_uri": "https://localhost:8080/",
          "height": 126
        }
      },
      "source": [
        "from sklearn import neighbors\n",
        "\n",
        "clf = neighbors.KNeighborsClassifier(n_neighbors = 4, weights = 'distance') \n",
        "clf.fit(flatten_encoded_train,labels_train)\n",
        "\n",
        " "
      ],
      "execution_count": 46,
      "outputs": [
        {
          "output_type": "stream",
          "text": [
            "/usr/local/lib/python3.6/dist-packages/ipykernel_launcher.py:4: DataConversionWarning: A column-vector y was passed when a 1d array was expected. Please change the shape of y to (n_samples, ), for example using ravel().\n",
            "  after removing the cwd from sys.path.\n"
          ],
          "name": "stderr"
        },
        {
          "output_type": "execute_result",
          "data": {
            "text/plain": [
              "KNeighborsClassifier(algorithm='auto', leaf_size=30, metric='minkowski',\n",
              "                     metric_params=None, n_jobs=None, n_neighbors=4, p=2,\n",
              "                     weights='distance')"
            ]
          },
          "metadata": {
            "tags": []
          },
          "execution_count": 46
        }
      ]
    },
    {
      "cell_type": "code",
      "metadata": {
        "id": "rCY-nFyayd-Q",
        "colab_type": "code",
        "colab": {}
      },
      "source": [
        "predicted_valid = clf.predict(flatten_encoded_valid)\n",
        "predicted_test = clf.predict(flatten_encoded_test)"
      ],
      "execution_count": 0,
      "outputs": []
    },
    {
      "cell_type": "code",
      "metadata": {
        "id": "Htxb8Q10zajv",
        "colab_type": "code",
        "outputId": "07d58d57-b343-4563-cbd5-73760b872fcf",
        "colab": {
          "base_uri": "https://localhost:8080/",
          "height": 35
        }
      },
      "source": [
        "predicted_test = predicted_test.reshape((len(predicted_test),1))\n",
        "print(predicted_test.shape)"
      ],
      "execution_count": 48,
      "outputs": [
        {
          "output_type": "stream",
          "text": [
            "(154, 1)\n"
          ],
          "name": "stdout"
        }
      ]
    },
    {
      "cell_type": "code",
      "metadata": {
        "id": "gFBGdPGw2Bk-",
        "colab_type": "code",
        "outputId": "9c0b5a80-4afc-460c-f6fb-168e3c3d66d1",
        "colab": {
          "base_uri": "https://localhost:8080/",
          "height": 52
        }
      },
      "source": [
        "import sklearn\n",
        "acc_test = sklearn.metrics.accuracy_score(predicted_test,labels_test)\n",
        "print(acc_test)\n",
        "acc_valid = sklearn.metrics.accuracy_score(predicted_valid,labels_valid)\n",
        "print(acc_valid)\n"
      ],
      "execution_count": 49,
      "outputs": [
        {
          "output_type": "stream",
          "text": [
            "0.512987012987013\n",
            "0.4785276073619632\n"
          ],
          "name": "stdout"
        }
      ]
    }
  ]
}