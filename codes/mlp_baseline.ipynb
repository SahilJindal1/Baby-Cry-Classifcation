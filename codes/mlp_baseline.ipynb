{
 "cells": [
  {
   "cell_type": "code",
   "execution_count": 1,
   "metadata": {},
   "outputs": [],
   "source": [
    "import tensorflow as tf\n",
    "physical_devices = tf.config.experimental.list_physical_devices('GPU')\n",
    "tf.config.experimental.set_memory_growth(physical_devices[0], True)"
   ]
  },
  {
   "cell_type": "code",
   "execution_count": 2,
   "metadata": {},
   "outputs": [],
   "source": [
    "import tensorflow as tf\n",
    "from tensorflow.keras.preprocessing.image import ImageDataGenerator\n",
    "from tensorflow.keras.layers import AveragePooling2D, Dropout, Flatten, Dense, Input\n",
    "from tensorflow.keras.models import Model\n",
    "from tensorflow.keras.optimizers import Adam, SGD\n",
    "from tensorflow.keras.utils import to_categorical\n",
    "import numpy as np\n",
    "import os"
   ]
  },
  {
   "cell_type": "code",
   "execution_count": 3,
   "metadata": {},
   "outputs": [],
   "source": [
    "import os\n",
    "\n",
    "clip_folder1 = r'/home/user/Sahil/mean_var_kurt'\n",
    "data = []\n",
    "labels=  []\n",
    "\n",
    "for filename in os.listdir(clip_folder1):\n",
    "    fname = clip_folder1 + '/' + filename\n",
    "    labels.append(filename[-5])\n",
    "    x = np.load(fname)\n",
    "    data.append(x)"
   ]
  },
  {
   "cell_type": "code",
   "execution_count": 4,
   "metadata": {},
   "outputs": [
    {
     "name": "stdout",
     "output_type": "stream",
     "text": [
      "(5587, 384)\n",
      "(5587,)\n"
     ]
    }
   ],
   "source": [
    "data = np.array(data)\n",
    "labels = np.array(labels)\n",
    "print(data.shape)\n",
    "print(labels.shape)"
   ]
  },
  {
   "cell_type": "code",
   "execution_count": 5,
   "metadata": {},
   "outputs": [
    {
     "name": "stdout",
     "output_type": "stream",
     "text": [
      "(4469, 384) (4469,)\n",
      "(1118, 384) (1118,)\n"
     ]
    }
   ],
   "source": [
    "from sklearn.model_selection import train_test_split\n",
    "train_data, test_data, train_labels , test_labels = train_test_split(data, labels, test_size=0.2,random_state = 1)\n",
    "print (train_data.shape, train_labels.shape)\n",
    "print (test_data.shape, test_labels.shape)"
   ]
  },
  {
   "cell_type": "code",
   "execution_count": 6,
   "metadata": {},
   "outputs": [],
   "source": [
    "train_labels = to_categorical(train_labels)\n",
    "test_labels = to_categorical(test_labels)\n"
   ]
  },
  {
   "cell_type": "code",
   "execution_count": 7,
   "metadata": {
    "scrolled": false
   },
   "outputs": [],
   "source": [
    "initializer = tf.keras.initializers.Orthogonal()\n",
    "\n",
    "mlp_input = Input(shape=(384,))\n",
    "\n",
    "\n",
    "x = Dense(64, activation='softmax',kernel_initializer=initializer)(mlp_input)\n",
    "x = Dropout(0.2)(x)\n",
    "x = Dense(16, activation='softmax',kernel_initializer=initializer)(x)\n",
    "x = Dropout(0.2)(x)\n",
    "x = Dense(8, activation='softmax',kernel_initializer=initializer)(x)\n",
    "x = Dropout(0.2)(x)\n",
    "mlp_output = Dense(3, activation='softmax',kernel_initializer=initializer)(x)\n",
    "\n",
    "\n",
    "model = Model(inputs=mlp_input, outputs=mlp_output)"
   ]
  },
  {
   "cell_type": "code",
   "execution_count": 8,
   "metadata": {},
   "outputs": [],
   "source": [
    "regularizer = tf.keras.regularizers.l2(.01)\n",
    "\n",
    "for layer in model.layers:\n",
    "    if layer.trainable == True:\n",
    "        for attr in ['kernel_regularizer']:\n",
    "            if hasattr(layer, attr):\n",
    "                setattr(layer, attr, regularizer)"
   ]
  },
  {
   "cell_type": "code",
   "execution_count": 9,
   "metadata": {},
   "outputs": [
    {
     "name": "stdout",
     "output_type": "stream",
     "text": [
      "Model: \"model\"\n",
      "_________________________________________________________________\n",
      "Layer (type)                 Output Shape              Param #   \n",
      "=================================================================\n",
      "input_1 (InputLayer)         [(None, 384)]             0         \n",
      "_________________________________________________________________\n",
      "dense (Dense)                (None, 64)                24640     \n",
      "_________________________________________________________________\n",
      "dropout (Dropout)            (None, 64)                0         \n",
      "_________________________________________________________________\n",
      "dense_1 (Dense)              (None, 16)                1040      \n",
      "_________________________________________________________________\n",
      "dropout_1 (Dropout)          (None, 16)                0         \n",
      "_________________________________________________________________\n",
      "dense_2 (Dense)              (None, 8)                 136       \n",
      "_________________________________________________________________\n",
      "dropout_2 (Dropout)          (None, 8)                 0         \n",
      "_________________________________________________________________\n",
      "dense_3 (Dense)              (None, 3)                 27        \n",
      "=================================================================\n",
      "Total params: 25,843\n",
      "Trainable params: 25,843\n",
      "Non-trainable params: 0\n",
      "_________________________________________________________________\n"
     ]
    }
   ],
   "source": [
    "opt=Adam(lr=1e-4)\n",
    "model.compile(loss='categorical_crossentropy', optimizer=opt,metrics=[\"accuracy\"])\n",
    "model.summary()"
   ]
  },
  {
   "cell_type": "code",
   "execution_count": 10,
   "metadata": {},
   "outputs": [
    {
     "name": "stdout",
     "output_type": "stream",
     "text": [
      "Epoch 1/100\n",
      "140/140 - 1s - loss: 1.0061 - accuracy: 0.7507 - val_loss: 0.9881 - val_accuracy: 0.8050\n",
      "Epoch 2/100\n",
      "140/140 - 1s - loss: 0.9799 - accuracy: 0.7778 - val_loss: 0.9624 - val_accuracy: 0.8050\n",
      "Epoch 3/100\n",
      "140/140 - 1s - loss: 0.9555 - accuracy: 0.7814 - val_loss: 0.9381 - val_accuracy: 0.8050\n",
      "Epoch 4/100\n",
      "140/140 - 1s - loss: 0.9320 - accuracy: 0.7966 - val_loss: 0.9150 - val_accuracy: 0.8050\n",
      "Epoch 5/100\n",
      "140/140 - 1s - loss: 0.9094 - accuracy: 0.7975 - val_loss: 0.8930 - val_accuracy: 0.8050\n",
      "Epoch 6/100\n",
      "140/140 - 1s - loss: 0.8882 - accuracy: 0.7975 - val_loss: 0.8723 - val_accuracy: 0.8050\n",
      "Epoch 7/100\n",
      "140/140 - 1s - loss: 0.8695 - accuracy: 0.7975 - val_loss: 0.8527 - val_accuracy: 0.8050\n",
      "Epoch 8/100\n",
      "140/140 - 1s - loss: 0.8524 - accuracy: 0.7975 - val_loss: 0.8343 - val_accuracy: 0.8050\n",
      "Epoch 9/100\n",
      "140/140 - 1s - loss: 0.8363 - accuracy: 0.7975 - val_loss: 0.8170 - val_accuracy: 0.8050\n",
      "Epoch 10/100\n",
      "140/140 - 1s - loss: 0.8173 - accuracy: 0.7975 - val_loss: 0.8006 - val_accuracy: 0.8050\n",
      "Epoch 11/100\n",
      "140/140 - 1s - loss: 0.8051 - accuracy: 0.7975 - val_loss: 0.7854 - val_accuracy: 0.8050\n",
      "Epoch 12/100\n",
      "140/140 - 1s - loss: 0.7884 - accuracy: 0.7975 - val_loss: 0.7710 - val_accuracy: 0.8050\n",
      "Epoch 13/100\n",
      "140/140 - 1s - loss: 0.7771 - accuracy: 0.7975 - val_loss: 0.7577 - val_accuracy: 0.8050\n",
      "Epoch 14/100\n",
      "140/140 - 1s - loss: 0.7636 - accuracy: 0.7975 - val_loss: 0.7452 - val_accuracy: 0.8050\n",
      "Epoch 15/100\n",
      "140/140 - 1s - loss: 0.7526 - accuracy: 0.7975 - val_loss: 0.7337 - val_accuracy: 0.8050\n",
      "Epoch 16/100\n",
      "140/140 - 1s - loss: 0.7451 - accuracy: 0.7975 - val_loss: 0.7230 - val_accuracy: 0.8050\n",
      "Epoch 17/100\n",
      "140/140 - 1s - loss: 0.7366 - accuracy: 0.7975 - val_loss: 0.7131 - val_accuracy: 0.8050\n",
      "Epoch 18/100\n",
      "140/140 - 1s - loss: 0.7269 - accuracy: 0.7975 - val_loss: 0.7039 - val_accuracy: 0.8050\n",
      "Epoch 19/100\n",
      "140/140 - 1s - loss: 0.7129 - accuracy: 0.7975 - val_loss: 0.6952 - val_accuracy: 0.8050\n",
      "Epoch 20/100\n",
      "140/140 - 1s - loss: 0.7087 - accuracy: 0.7975 - val_loss: 0.6872 - val_accuracy: 0.8050\n",
      "Epoch 21/100\n",
      "140/140 - 1s - loss: 0.7040 - accuracy: 0.7975 - val_loss: 0.6800 - val_accuracy: 0.8050\n",
      "Epoch 22/100\n",
      "140/140 - 1s - loss: 0.6965 - accuracy: 0.7975 - val_loss: 0.6734 - val_accuracy: 0.8050\n",
      "Epoch 23/100\n",
      "140/140 - 1s - loss: 0.6875 - accuracy: 0.7975 - val_loss: 0.6672 - val_accuracy: 0.8050\n",
      "Epoch 24/100\n",
      "140/140 - 1s - loss: 0.6822 - accuracy: 0.7975 - val_loss: 0.6614 - val_accuracy: 0.8050\n",
      "Epoch 25/100\n",
      "140/140 - 1s - loss: 0.6801 - accuracy: 0.7975 - val_loss: 0.6563 - val_accuracy: 0.8050\n",
      "Epoch 26/100\n",
      "140/140 - 1s - loss: 0.6742 - accuracy: 0.7975 - val_loss: 0.6516 - val_accuracy: 0.8050\n",
      "Epoch 27/100\n",
      "140/140 - 1s - loss: 0.6754 - accuracy: 0.7975 - val_loss: 0.6474 - val_accuracy: 0.8050\n",
      "Epoch 28/100\n",
      "140/140 - 1s - loss: 0.6687 - accuracy: 0.7975 - val_loss: 0.6435 - val_accuracy: 0.8050\n",
      "Epoch 29/100\n",
      "140/140 - 1s - loss: 0.6688 - accuracy: 0.7975 - val_loss: 0.6400 - val_accuracy: 0.8050\n",
      "Epoch 30/100\n",
      "140/140 - 1s - loss: 0.6649 - accuracy: 0.7975 - val_loss: 0.6367 - val_accuracy: 0.8050\n",
      "Epoch 31/100\n",
      "140/140 - 1s - loss: 0.6600 - accuracy: 0.7975 - val_loss: 0.6337 - val_accuracy: 0.8050\n",
      "Epoch 32/100\n",
      "140/140 - 1s - loss: 0.6599 - accuracy: 0.7975 - val_loss: 0.6312 - val_accuracy: 0.8050\n",
      "Epoch 33/100\n",
      "140/140 - 1s - loss: 0.6604 - accuracy: 0.7975 - val_loss: 0.6287 - val_accuracy: 0.8050\n",
      "Epoch 34/100\n",
      "140/140 - 1s - loss: 0.6563 - accuracy: 0.7975 - val_loss: 0.6266 - val_accuracy: 0.8050\n",
      "Epoch 35/100\n",
      "140/140 - 1s - loss: 0.6541 - accuracy: 0.7975 - val_loss: 0.6246 - val_accuracy: 0.8050\n",
      "Epoch 36/100\n",
      "140/140 - 1s - loss: 0.6512 - accuracy: 0.7975 - val_loss: 0.6227 - val_accuracy: 0.8050\n",
      "Epoch 37/100\n",
      "140/140 - 1s - loss: 0.6523 - accuracy: 0.7975 - val_loss: 0.6211 - val_accuracy: 0.8050\n",
      "Epoch 38/100\n",
      "140/140 - 1s - loss: 0.6489 - accuracy: 0.7975 - val_loss: 0.6196 - val_accuracy: 0.8050\n",
      "Epoch 39/100\n",
      "140/140 - 1s - loss: 0.6490 - accuracy: 0.7975 - val_loss: 0.6183 - val_accuracy: 0.8050\n",
      "Epoch 40/100\n",
      "140/140 - 1s - loss: 0.6483 - accuracy: 0.7975 - val_loss: 0.6170 - val_accuracy: 0.8050\n",
      "Epoch 41/100\n",
      "140/140 - 1s - loss: 0.6443 - accuracy: 0.7975 - val_loss: 0.6159 - val_accuracy: 0.8050\n",
      "Epoch 42/100\n",
      "140/140 - 1s - loss: 0.6452 - accuracy: 0.7975 - val_loss: 0.6148 - val_accuracy: 0.8050\n",
      "Epoch 43/100\n",
      "140/140 - 1s - loss: 0.6486 - accuracy: 0.7975 - val_loss: 0.6139 - val_accuracy: 0.8050\n",
      "Epoch 44/100\n",
      "140/140 - 1s - loss: 0.6440 - accuracy: 0.7975 - val_loss: 0.6131 - val_accuracy: 0.8050\n",
      "Epoch 45/100\n",
      "140/140 - 1s - loss: 0.6421 - accuracy: 0.7975 - val_loss: 0.6123 - val_accuracy: 0.8050\n",
      "Epoch 46/100\n",
      "140/140 - 1s - loss: 0.6449 - accuracy: 0.7975 - val_loss: 0.6115 - val_accuracy: 0.8050\n",
      "Epoch 47/100\n",
      "140/140 - 1s - loss: 0.6400 - accuracy: 0.7975 - val_loss: 0.6108 - val_accuracy: 0.8050\n",
      "Epoch 48/100\n",
      "140/140 - 1s - loss: 0.6424 - accuracy: 0.7975 - val_loss: 0.6102 - val_accuracy: 0.8050\n",
      "Epoch 49/100\n",
      "140/140 - 1s - loss: 0.6450 - accuracy: 0.7975 - val_loss: 0.6097 - val_accuracy: 0.8050\n",
      "Epoch 50/100\n",
      "140/140 - 1s - loss: 0.6445 - accuracy: 0.7975 - val_loss: 0.6091 - val_accuracy: 0.8050\n",
      "Epoch 51/100\n",
      "140/140 - 1s - loss: 0.6380 - accuracy: 0.7975 - val_loss: 0.6085 - val_accuracy: 0.8050\n",
      "Epoch 52/100\n",
      "140/140 - 1s - loss: 0.6413 - accuracy: 0.7975 - val_loss: 0.6081 - val_accuracy: 0.8050\n",
      "Epoch 53/100\n",
      "140/140 - 1s - loss: 0.6381 - accuracy: 0.7975 - val_loss: 0.6076 - val_accuracy: 0.8050\n",
      "Epoch 54/100\n",
      "140/140 - 1s - loss: 0.6419 - accuracy: 0.7975 - val_loss: 0.6073 - val_accuracy: 0.8050\n",
      "Epoch 55/100\n",
      "140/140 - 1s - loss: 0.6405 - accuracy: 0.7975 - val_loss: 0.6069 - val_accuracy: 0.8050\n",
      "Epoch 56/100\n",
      "140/140 - 1s - loss: 0.6384 - accuracy: 0.7975 - val_loss: 0.6066 - val_accuracy: 0.8050\n",
      "Epoch 57/100\n",
      "140/140 - 1s - loss: 0.6364 - accuracy: 0.7975 - val_loss: 0.6062 - val_accuracy: 0.8050\n",
      "Epoch 58/100\n",
      "140/140 - 1s - loss: 0.6394 - accuracy: 0.7975 - val_loss: 0.6059 - val_accuracy: 0.8050\n",
      "Epoch 59/100\n",
      "140/140 - 1s - loss: 0.6403 - accuracy: 0.7975 - val_loss: 0.6056 - val_accuracy: 0.8050\n",
      "Epoch 60/100\n",
      "140/140 - 1s - loss: 0.6354 - accuracy: 0.7975 - val_loss: 0.6054 - val_accuracy: 0.8050\n",
      "Epoch 61/100\n",
      "140/140 - 1s - loss: 0.6395 - accuracy: 0.7975 - val_loss: 0.6052 - val_accuracy: 0.8050\n",
      "Epoch 62/100\n",
      "140/140 - 1s - loss: 0.6352 - accuracy: 0.7975 - val_loss: 0.6049 - val_accuracy: 0.8050\n",
      "Epoch 63/100\n",
      "140/140 - 1s - loss: 0.6334 - accuracy: 0.7975 - val_loss: 0.6046 - val_accuracy: 0.8050\n",
      "Epoch 64/100\n",
      "140/140 - 1s - loss: 0.6366 - accuracy: 0.7975 - val_loss: 0.6044 - val_accuracy: 0.8050\n",
      "Epoch 65/100\n",
      "140/140 - 1s - loss: 0.6353 - accuracy: 0.7975 - val_loss: 0.6043 - val_accuracy: 0.8050\n",
      "Epoch 66/100\n",
      "140/140 - 1s - loss: 0.6355 - accuracy: 0.7975 - val_loss: 0.6040 - val_accuracy: 0.8050\n",
      "Epoch 67/100\n",
      "140/140 - 1s - loss: 0.6350 - accuracy: 0.7975 - val_loss: 0.6039 - val_accuracy: 0.8050\n",
      "Epoch 68/100\n",
      "140/140 - 1s - loss: 0.6357 - accuracy: 0.7975 - val_loss: 0.6037 - val_accuracy: 0.8050\n",
      "Epoch 69/100\n",
      "140/140 - 1s - loss: 0.6341 - accuracy: 0.7975 - val_loss: 0.6036 - val_accuracy: 0.8050\n",
      "Epoch 70/100\n",
      "140/140 - 1s - loss: 0.6365 - accuracy: 0.7975 - val_loss: 0.6034 - val_accuracy: 0.8050\n",
      "Epoch 71/100\n",
      "140/140 - 1s - loss: 0.6334 - accuracy: 0.7975 - val_loss: 0.6033 - val_accuracy: 0.8050\n",
      "Epoch 72/100\n",
      "140/140 - 1s - loss: 0.6342 - accuracy: 0.7975 - val_loss: 0.6031 - val_accuracy: 0.8050\n",
      "Epoch 73/100\n",
      "140/140 - 1s - loss: 0.6347 - accuracy: 0.7975 - val_loss: 0.6030 - val_accuracy: 0.8050\n",
      "Epoch 74/100\n",
      "140/140 - 1s - loss: 0.6335 - accuracy: 0.7975 - val_loss: 0.6029 - val_accuracy: 0.8050\n",
      "Epoch 75/100\n",
      "140/140 - 1s - loss: 0.6327 - accuracy: 0.7975 - val_loss: 0.6028 - val_accuracy: 0.8050\n",
      "Epoch 76/100\n",
      "140/140 - 1s - loss: 0.6340 - accuracy: 0.7975 - val_loss: 0.6027 - val_accuracy: 0.8050\n",
      "Epoch 77/100\n",
      "140/140 - 1s - loss: 0.6377 - accuracy: 0.7975 - val_loss: 0.6026 - val_accuracy: 0.8050\n",
      "Epoch 78/100\n",
      "140/140 - 1s - loss: 0.6340 - accuracy: 0.7975 - val_loss: 0.6025 - val_accuracy: 0.8050\n",
      "Epoch 79/100\n",
      "140/140 - 1s - loss: 0.6341 - accuracy: 0.7975 - val_loss: 0.6024 - val_accuracy: 0.8050\n",
      "Epoch 80/100\n",
      "140/140 - 1s - loss: 0.6317 - accuracy: 0.7975 - val_loss: 0.6023 - val_accuracy: 0.8050\n",
      "Epoch 81/100\n",
      "140/140 - 1s - loss: 0.6316 - accuracy: 0.7975 - val_loss: 0.6022 - val_accuracy: 0.8050\n"
     ]
    },
    {
     "name": "stdout",
     "output_type": "stream",
     "text": [
      "Epoch 82/100\n",
      "140/140 - 1s - loss: 0.6327 - accuracy: 0.7975 - val_loss: 0.6022 - val_accuracy: 0.8050\n",
      "Epoch 83/100\n",
      "140/140 - 1s - loss: 0.6298 - accuracy: 0.7975 - val_loss: 0.6021 - val_accuracy: 0.8050\n",
      "Epoch 84/100\n",
      "140/140 - 1s - loss: 0.6314 - accuracy: 0.7975 - val_loss: 0.6020 - val_accuracy: 0.8050\n",
      "Epoch 85/100\n",
      "140/140 - 1s - loss: 0.6333 - accuracy: 0.7975 - val_loss: 0.6019 - val_accuracy: 0.8050\n",
      "Epoch 86/100\n",
      "140/140 - 1s - loss: 0.6335 - accuracy: 0.7975 - val_loss: 0.6019 - val_accuracy: 0.8050\n",
      "Epoch 87/100\n",
      "140/140 - 1s - loss: 0.6352 - accuracy: 0.7975 - val_loss: 0.6018 - val_accuracy: 0.8050\n",
      "Epoch 88/100\n",
      "140/140 - 1s - loss: 0.6347 - accuracy: 0.7975 - val_loss: 0.6018 - val_accuracy: 0.8050\n",
      "Epoch 89/100\n",
      "140/140 - 1s - loss: 0.6329 - accuracy: 0.7975 - val_loss: 0.6018 - val_accuracy: 0.8050\n",
      "Epoch 90/100\n",
      "140/140 - 1s - loss: 0.6303 - accuracy: 0.7975 - val_loss: 0.6017 - val_accuracy: 0.8050\n",
      "Epoch 91/100\n",
      "140/140 - 1s - loss: 0.6350 - accuracy: 0.7975 - val_loss: 0.6017 - val_accuracy: 0.8050\n",
      "Epoch 92/100\n",
      "140/140 - 1s - loss: 0.6340 - accuracy: 0.7975 - val_loss: 0.6016 - val_accuracy: 0.8050\n",
      "Epoch 93/100\n",
      "140/140 - 1s - loss: 0.6319 - accuracy: 0.7975 - val_loss: 0.6016 - val_accuracy: 0.8050\n",
      "Epoch 94/100\n",
      "140/140 - 1s - loss: 0.6308 - accuracy: 0.7975 - val_loss: 0.6015 - val_accuracy: 0.8050\n",
      "Epoch 95/100\n",
      "140/140 - 1s - loss: 0.6336 - accuracy: 0.7975 - val_loss: 0.6015 - val_accuracy: 0.8050\n",
      "Epoch 96/100\n",
      "140/140 - 1s - loss: 0.6303 - accuracy: 0.7975 - val_loss: 0.6014 - val_accuracy: 0.8050\n",
      "Epoch 97/100\n",
      "140/140 - 1s - loss: 0.6313 - accuracy: 0.7975 - val_loss: 0.6014 - val_accuracy: 0.8050\n",
      "Epoch 98/100\n",
      "140/140 - 1s - loss: 0.6334 - accuracy: 0.7975 - val_loss: 0.6014 - val_accuracy: 0.8050\n",
      "Epoch 99/100\n",
      "140/140 - 1s - loss: 0.6336 - accuracy: 0.7975 - val_loss: 0.6013 - val_accuracy: 0.8050\n",
      "Epoch 100/100\n",
      "140/140 - 1s - loss: 0.6298 - accuracy: 0.7975 - val_loss: 0.6013 - val_accuracy: 0.8050\n"
     ]
    }
   ],
   "source": [
    "history = model.fit(train_data, train_labels, batch_size=32, validation_data=(test_data, test_labels), epochs=100, verbose=2)"
   ]
  },
  {
   "cell_type": "code",
   "execution_count": 11,
   "metadata": {},
   "outputs": [
    {
     "name": "stdout",
     "output_type": "stream",
     "text": [
      "dict_keys(['loss', 'accuracy', 'val_loss', 'val_accuracy'])\n"
     ]
    },
    {
     "data": {
      "image/png": "[encoded data removed]",
      "text/plain": [
       "<Figure size 432x288 with 1 Axes>"
      ]
     },
     "metadata": {
      "needs_background": "light"
     },
     "output_type": "display_data"
    },
    {
     "data": {
      "image/png": "[encoded data removed]",
      "text/plain": [
       "<Figure size 432x288 with 1 Axes>"
      ]
     },
     "metadata": {
      "needs_background": "light"
     },
     "output_type": "display_data"
    }
   ],
   "source": [
    "import matplotlib.pyplot as plt\n",
    "print(history.history.keys())\n",
    "# summarize history for accuracy\n",
    "plt.plot(history.history['accuracy'])\n",
    "plt.plot(history.history['val_accuracy'])\n",
    "plt.title('model accuracy')\n",
    "plt.ylabel('accuracy')\n",
    "plt.xlabel('epoch')\n",
    "plt.legend(['train', 'test'], loc='upper left')\n",
    "plt.show()\n",
    "# summarize history for loss\n",
    "plt.plot(history.history['loss'])\n",
    "plt.plot(history.history['val_loss'])\n",
    "plt.title('model loss')\n",
    "plt.ylabel('loss')\n",
    "plt.xlabel('epoch')\n",
    "plt.legend(['train', 'test'], loc='upper left')\n",
    "plt.show()"
   ]
  },
  {
   "cell_type": "code",
   "execution_count": null,
   "metadata": {},
   "outputs": [],
   "source": []
  },
  {
   "cell_type": "code",
   "execution_count": null,
   "metadata": {},
   "outputs": [],
   "source": []
  }
 ],
 "metadata": {
  "kernelspec": {
   "display_name": "Python 3",
   "language": "python",
   "name": "python3"
  },
  "language_info": {
   "codemirror_mode": {
    "name": "ipython",
    "version": 3
   },
   "file_extension": ".py",
   "mimetype": "text/x-python",
   "name": "python",
   "nbconvert_exporter": "python",
   "pygments_lexer": "ipython3",
   "version": "3.8.5"
  }
 },
 "nbformat": 4,
 "nbformat_minor": 4
}
