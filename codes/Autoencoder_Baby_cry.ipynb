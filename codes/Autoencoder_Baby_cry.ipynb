{
  "nbformat": 4,
  "nbformat_minor": 0,
  "metadata": {
    "colab": {
      "name": "Autoencoder_Baby_cry.ipynb",
      "provenance": [],
      "collapsed_sections": [],
      "machine_shape": "hm"
    },
    "kernelspec": {
      "name": "python3",
      "display_name": "Python 3"
    },
    "accelerator": "GPU"
  },
  "cells": [
    {
      "cell_type": "code",
      "metadata": {
        "id": "-wlvam2Ezdzx",
        "colab_type": "code",
        "colab": {
          "base_uri": "https://localhost:8080/",
          "height": 121
        },
        "outputId": "b65feb61-df89-4732-e2dc-893b48951818"
      },
      "source": [
        "from google.colab import drive\n",
        "drive.mount('/content/drive')"
      ],
      "execution_count": null,
      "outputs": [
        {
          "output_type": "stream",
          "text": [
            "Go to this URL in a browser: https://accounts.google.com/o/oauth2/auth?client_id=947318989803-6bn6qk8qdgf4n4g3pfee6491hc0brc4i.apps.googleusercontent.com&redirect_uri=urn%3aietf%3awg%3aoauth%3a2.0%3aoob&response_type=code&scope=email%20https%3a%2f%2fwww.googleapis.com%2fauth%2fdocs.test%20https%3a%2f%2fwww.googleapis.com%2fauth%2fdrive%20https%3a%2f%2fwww.googleapis.com%2fauth%2fdrive.photos.readonly%20https%3a%2f%2fwww.googleapis.com%2fauth%2fpeopleapi.readonly\n",
            "\n",
            "Enter your authorization code:\n",
            "··········\n",
            "Mounted at /content/drive\n"
          ],
          "name": "stdout"
        }
      ]
    },
    {
      "cell_type": "markdown",
      "metadata": {
        "id": "uP_dt13S1B-4",
        "colab_type": "text"
      },
      "source": [
        "# Basic autoencoder"
      ]
    },
    {
      "cell_type": "code",
      "metadata": {
        "id": "isk27ecwC7xe",
        "colab_type": "code",
        "colab": {
          "base_uri": "https://localhost:8080/",
          "height": 54
        },
        "outputId": "aa738371-b3b5-47d8-e135-be67cd80498e"
      },
      "source": [
        "\"\"\"\n",
        "from tensorflow.keras.layers import Input, Dense, Conv2D, MaxPooling2D, UpSampling2D,Flatten,Reshape,Cropping2D,Conv2DTranspose\n",
        "from tensorflow.keras.models import Model\n",
        "from tensorflow.keras import backend as K\n",
        "\n",
        "input_file = Input(shape=(288,432, 3)) \n",
        "\n",
        "x = Conv2D(100, (3, 3), activation='elu', padding='same')(input_file) \n",
        "x = MaxPooling2D((2, 2), padding='valid')(x) \n",
        "x = Conv2D(80, (3, 3), activation='elu', padding='same')(x) \n",
        "x = MaxPooling2D((2, 2), padding='same')(x)\n",
        "x = Conv2D(40, (3, 3), activation='elu', padding='same')(x) \n",
        "x = MaxPooling2D((2, 2), padding='same')(x)\n",
        "x = Conv2D(20, (3, 3), activation='elu', padding='same')(x) \n",
        "x = MaxPooling2D((2, 2), padding='same')(x)\n",
        "x = Conv2D(10, (3, 3), activation='elu', padding='same')(x) \n",
        "#x = MaxPooling2D((2, 2), padding='same')(x)\n",
        "\n",
        "\n",
        "x = Flatten()(x)\n",
        "x = Dense(2430, activation='elu')(x)\n",
        "x = Dense(1215, activation='elu')(x)\n",
        "\n",
        "x = Dense(608, activation='elu')(x)\n",
        "x = Dense(304, activation='elu')(x)\n",
        "encoded = Dense(152, activation='elu')(x)\n",
        "\n",
        "#.flat 13x72x40 features\n",
        "# dense layer 10000-5000-2000-----128(200,300,500)\n",
        "# reshape 13x72x40 (unfold) \n",
        "\n",
        "x = Dense(304, activation='elu')(encoded)\n",
        "x = Dense(608, activation='elu')(x)\n",
        "x = Dense(1215, activation='elu')(x)\n",
        "x = Dense(2430, activation='elu')(x)\n",
        "x = Dense(4860, activation='elu')(x)\n",
        "\n",
        "x = Reshape((18,27 , 10))(x)\n",
        "x = Conv2DTranspose(20, (2, 2),strides = (2,2), activation='elu', padding='same')(x)\n",
        "#x = UpSampling2D((2, 2))(x)\n",
        "x = Conv2D(20, (3, 3), activation='elu', padding='same')(x)\n",
        "\n",
        "x = Conv2DTranspose(40, (2, 2),strides = (2,2), activation='elu', padding='same')(x)\n",
        "x = Conv2D(40, (3, 3), activation='elu', padding='same')(x)\n",
        "#x = UpSampling2D((2, 2))(x)\n",
        "#x = Cropping2D(cropping=((0, 0), (1, 1)), data_format=None)(x)\n",
        "x = Conv2DTranspose(80, (2, 2),strides = (2,2), activation='elu', padding='same')(x)\n",
        "x = Conv2D(80, (3, 3), activation='elu', padding='same')(x)\n",
        "\n",
        "x = Conv2DTranspose(100, (2, 2),strides = (2,2), activation='elu', padding='same')(x)\n",
        "x = Conv2D(100, (3, 3), activation='elu', padding='same')(x)\n",
        "\n",
        "#x = Conv2DTranspose(100, (2, 2),strides = (2,2), activation='elu', padding='same')(x)\n",
        "#x = Conv2D(100, (3, 3), activation='elu', padding='same')(x)\n",
        "#x = UpSampling2D((2, 2))(x)\n",
        "decoded = Conv2D(3, (1, 1), activation='sigmoid', padding='same')(x)\n",
        "\n",
        "autoencoder = Model(input_file, decoded)\n",
        "autoencoder.compile(optimizer='adam', loss='mse') #msse\n",
        "autoencoder.summary()\n",
        "# 100 epoch\n",
        "#encoder = model()\n",
        "#model.saveweights\n",
        "\"\"\""
      ],
      "execution_count": null,
      "outputs": [
        {
          "output_type": "execute_result",
          "data": {
            "text/plain": [
              "\"\\nfrom tensorflow.keras.layers import Input, Dense, Conv2D, MaxPooling2D, UpSampling2D,Flatten,Reshape,Cropping2D,Conv2DTranspose\\nfrom tensorflow.keras.models import Model\\nfrom tensorflow.keras import backend as K\\n\\ninput_file = Input(shape=(288,432, 3)) \\n\\nx = Conv2D(100, (3, 3), activation='elu', padding='same')(input_file) \\nx = MaxPooling2D((2, 2), padding='valid')(x) \\nx = Conv2D(80, (3, 3), activation='elu', padding='same')(x) \\nx = MaxPooling2D((2, 2), padding='same')(x)\\nx = Conv2D(40, (3, 3), activation='elu', padding='same')(x) \\nx = MaxPooling2D((2, 2), padding='same')(x)\\nx = Conv2D(20, (3, 3), activation='elu', padding='same')(x) \\nx = MaxPooling2D((2, 2), padding='same')(x)\\nx = Conv2D(10, (3, 3), activation='elu', padding='same')(x) \\n#x = MaxPooling2D((2, 2), padding='same')(x)\\n\\n\\nx = Flatten()(x)\\nx = Dense(2430, activation='elu')(x)\\nx = Dense(1215, activation='elu')(x)\\n\\nx = Dense(608, activation='elu')(x)\\nx = Dense(304, activation='elu')(x)\\nencoded = Dense(152, activation='elu')(x)\\n\\n#.flat 13x72x40 features\\n# dense layer 10000-5000-2000-----128(200,300,500)\\n# reshape 13x72x40 (unfold) \\n\\nx = Dense(304, activation='elu')(encoded)\\nx = Dense(608, activation='elu')(x)\\nx = Dense(1215, activation='elu')(x)\\nx = Dense(2430, activation='elu')(x)\\nx = Dense(4860, activation='elu')(x)\\n\\nx = Reshape((18,27 , 10))(x)\\nx = Conv2DTranspose(20, (2, 2),strides = (2,2), activation='elu', padding='same')(x)\\n#x = UpSampling2D((2, 2))(x)\\nx = Conv2D(20, (3, 3), activation='elu', padding='same')(x)\\n\\nx = Conv2DTranspose(40, (2, 2),strides = (2,2), activation='elu', padding='same')(x)\\nx = Conv2D(40, (3, 3), activation='elu', padding='same')(x)\\n#x = UpSampling2D((2, 2))(x)\\n#x = Cropping2D(cropping=((0, 0), (1, 1)), data_format=None)(x)\\nx = Conv2DTranspose(80, (2, 2),strides = (2,2), activation='elu', padding='same')(x)\\nx = Conv2D(80, (3, 3), activation='elu', padding='same')(x)\\n\\nx = Conv2DTranspose(100, (2, 2),strides = (2,2), activation='elu', padding='same')(x)\\nx = Conv2D(100, (3, 3), activation='elu', padding='same')(x)\\n\\n#x = Conv2DTranspose(100, (2, 2),strides = (2,2), activation='elu', padding='same')(x)\\n#x = Conv2D(100, (3, 3), activation='elu', padding='same')(x)\\n#x = UpSampling2D((2, 2))(x)\\ndecoded = Conv2D(3, (1, 1), activation='sigmoid', padding='same')(x)\\n\\nautoencoder = Model(input_file, decoded)\\nautoencoder.compile(optimizer='adam', loss='mse') #msse\\nautoencoder.summary()\\n# 100 epoch\\n#encoder = model()\\n#model.saveweights\\n\""
            ]
          },
          "metadata": {
            "tags": []
          },
          "execution_count": 3
        }
      ]
    },
    {
      "cell_type": "markdown",
      "metadata": {
        "id": "lemVdksPaQg2",
        "colab_type": "text"
      },
      "source": [
        "# Architecture by Vinayak Sir "
      ]
    },
    {
      "cell_type": "code",
      "metadata": {
        "id": "4xEw7Bu9s3pi",
        "colab_type": "code",
        "colab": {
          "base_uri": "https://localhost:8080/",
          "height": 54
        },
        "outputId": "e2d8216c-4137-4c0d-94b6-058f8032a773"
      },
      "source": [
        "\"\"\"\n",
        "import tensorflow.keras.layers as layers\n",
        "import tensorflow.keras.models as models\n",
        "from tensorflow.keras.initializers import orthogonal\n",
        "import tensorflow as tf\n",
        "\n",
        "\n",
        "def Conv2DLayer(x, filters, kernel, strides, padding, block_id, kernel_init=orthogonal()):\n",
        "    prefix = f'block_{block_id}_'\n",
        "    x = layers.Conv2D(filters, kernel_size=kernel, strides=strides, padding=padding,\n",
        "                      kernel_initializer=kernel_init, name=prefix+'conv')(x)\n",
        "    x = layers.LeakyReLU(name=prefix+'lrelu')(x)\n",
        "    x = layers.Dropout(0.2, name=prefix+'drop')((x))\n",
        "    x = layers.BatchNormalization(name=prefix+'conv_bn')(x)\n",
        "    return x\n",
        "\n",
        "def Transpose_Conv2D(x, filters, kernel, strides, padding, block_id, kernel_init=orthogonal()):\n",
        "    prefix = f'block_{block_id}_'\n",
        "    x = layers.Conv2DTranspose(filters, kernel_size=kernel, strides=strides, padding=padding,\n",
        "                               kernel_initializer=kernel_init, name=prefix+'de-conv')(x)\n",
        "    x = layers.LeakyReLU(name=prefix+'lrelu')(x)\n",
        "    x = layers.Dropout(0.2, name=prefix+'drop')((x))\n",
        "    x = layers.BatchNormalization(name=prefix+'conv_bn')(x)\n",
        "    return x\n",
        "\n",
        "\n",
        "\n",
        "def AutoEncdoer(input_shape):\n",
        "    inputs = layers.Input(shape=input_shape)\n",
        "    \n",
        "    # 256 x 256\n",
        "    conv1 = Conv2DLayer(inputs, 64, 3, strides=1, padding='same', block_id=1)\n",
        "    conv2 = Conv2DLayer(conv1, 64, 3, strides=2, padding='same', block_id=2)\n",
        "    \n",
        "    # 128 x 128\n",
        "    conv3 = Conv2DLayer(conv2, 128, 5, strides=2, padding='same', block_id=3)\n",
        "    \n",
        "    # 64 x 64\n",
        "    conv4 = Conv2DLayer(conv3, 128, 3, strides=1, padding='same', block_id=4)\n",
        "    conv5 = Conv2DLayer(conv4, 256, 5, strides=2, padding='same', block_id=5)\n",
        "    \n",
        "    # 32 x 32\n",
        "    conv6 = Conv2DLayer(conv5, 512, 3, strides=2, padding='same', block_id=6)\n",
        "    \n",
        "    # 16 x 16\n",
        "    deconv1 = Transpose_Conv2D(conv6, 512, 3, strides=2, padding='same', block_id=7)\n",
        "    \n",
        "    # 32 x 32\n",
        "    skip1 = layers.concatenate([deconv1, conv5], name='skip1')\n",
        "    conv7 = Conv2DLayer(skip1, 256, 3, strides=1, padding='same', block_id=8)\n",
        "    deconv2 = Transpose_Conv2D(conv7, 128, 3, strides=2, padding='same', block_id=9)\n",
        "    \n",
        "    # 64 x 64\n",
        "    skip2 = layers.concatenate([deconv2, conv3], name='skip2')\n",
        "    conv8 = Conv2DLayer(skip2, 128, 5, strides=1, padding='same', block_id=10)\n",
        "    deconv3 = Transpose_Conv2D(conv8, 64, 3, strides=2, padding='same', block_id=11)\n",
        "    \n",
        "    # 128 x 128\n",
        "    skip3 = layers.concatenate([deconv3, conv2], name='skip3')\n",
        "    conv9 = Conv2DLayer(skip3, 64, 5, strides=1, padding='same', block_id=12)\n",
        "    deconv4 = Transpose_Conv2D(conv9, 64, 3, strides=2, padding='same', block_id=13)\n",
        "    \n",
        "    # 256 x 256\n",
        "    skip3 = layers.concatenate([deconv4, conv1])\n",
        "    conv10 = layers.Conv2D(3, 3, strides=1, padding='same', activation='sigmoid',\n",
        "                       kernel_initializer=orthogonal(), name='final_conv')(skip3)\n",
        "\n",
        "    \n",
        "    return models.Model(inputs=inputs, outputs=conv10)\n",
        "\n",
        "input_shape = (288,432)\n",
        "autoencoder = AutoEncdoer((*input_shape, 3))\n",
        "autoencoder.compile(optimizer='adam', loss='mse') #msse\n",
        "autoencoder.summary()\n",
        "\"\"\""
      ],
      "execution_count": null,
      "outputs": [
        {
          "output_type": "execute_result",
          "data": {
            "text/plain": [
              "\"\\nimport tensorflow.keras.layers as layers\\nimport tensorflow.keras.models as models\\nfrom tensorflow.keras.initializers import orthogonal\\nimport tensorflow as tf\\n\\n\\ndef Conv2DLayer(x, filters, kernel, strides, padding, block_id, kernel_init=orthogonal()):\\n    prefix = f'block_{block_id}_'\\n    x = layers.Conv2D(filters, kernel_size=kernel, strides=strides, padding=padding,\\n                      kernel_initializer=kernel_init, name=prefix+'conv')(x)\\n    x = layers.LeakyReLU(name=prefix+'lrelu')(x)\\n    x = layers.Dropout(0.2, name=prefix+'drop')((x))\\n    x = layers.BatchNormalization(name=prefix+'conv_bn')(x)\\n    return x\\n\\ndef Transpose_Conv2D(x, filters, kernel, strides, padding, block_id, kernel_init=orthogonal()):\\n    prefix = f'block_{block_id}_'\\n    x = layers.Conv2DTranspose(filters, kernel_size=kernel, strides=strides, padding=padding,\\n                               kernel_initializer=kernel_init, name=prefix+'de-conv')(x)\\n    x = layers.LeakyReLU(name=prefix+'lrelu')(x)\\n    x = layers.Dropout(0.2, name=prefix+'drop')((x))\\n    x = layers.BatchNormalization(name=prefix+'conv_bn')(x)\\n    return x\\n\\n\\n\\ndef AutoEncdoer(input_shape):\\n    inputs = layers.Input(shape=input_shape)\\n    \\n    # 256 x 256\\n    conv1 = Conv2DLayer(inputs, 64, 3, strides=1, padding='same', block_id=1)\\n    conv2 = Conv2DLayer(conv1, 64, 3, strides=2, padding='same', block_id=2)\\n    \\n    # 128 x 128\\n    conv3 = Conv2DLayer(conv2, 128, 5, strides=2, padding='same', block_id=3)\\n    \\n    # 64 x 64\\n    conv4 = Conv2DLayer(conv3, 128, 3, strides=1, padding='same', block_id=4)\\n    conv5 = Conv2DLayer(conv4, 256, 5, strides=2, padding='same', block_id=5)\\n    \\n    # 32 x 32\\n    conv6 = Conv2DLayer(conv5, 512, 3, strides=2, padding='same', block_id=6)\\n    \\n    # 16 x 16\\n    deconv1 = Transpose_Conv2D(conv6, 512, 3, strides=2, padding='same', block_id=7)\\n    \\n    # 32 x 32\\n    skip1 = layers.concatenate([deconv1, conv5], name='skip1')\\n    conv7 = Conv2DLayer(skip1, 256, 3, strides=1, padding='same', block_id=8)\\n    deconv2 = Transpose_Conv2D(conv7, 128, 3, strides=2, padding='same', block_id=9)\\n    \\n    # 64 x 64\\n    skip2 = layers.concatenate([deconv2, conv3], name='skip2')\\n    conv8 = Conv2DLayer(skip2, 128, 5, strides=1, padding='same', block_id=10)\\n    deconv3 = Transpose_Conv2D(conv8, 64, 3, strides=2, padding='same', block_id=11)\\n    \\n    # 128 x 128\\n    skip3 = layers.concatenate([deconv3, conv2], name='skip3')\\n    conv9 = Conv2DLayer(skip3, 64, 5, strides=1, padding='same', block_id=12)\\n    deconv4 = Transpose_Conv2D(conv9, 64, 3, strides=2, padding='same', block_id=13)\\n    \\n    # 256 x 256\\n    skip3 = layers.concatenate([deconv4, conv1])\\n    conv10 = layers.Conv2D(3, 3, strides=1, padding='same', activation='sigmoid',\\n                       kernel_initializer=orthogonal(), name='final_conv')(skip3)\\n\\n    \\n    return models.Model(inputs=inputs, outputs=conv10)\\n\\ninput_shape = (288,432)\\nautoencoder = AutoEncdoer((*input_shape, 3))\\nautoencoder.compile(optimizer='adam', loss='mse') #msse\\nautoencoder.summary()\\n\""
            ]
          },
          "metadata": {
            "tags": []
          },
          "execution_count": 4
        }
      ]
    },
    {
      "cell_type": "markdown",
      "metadata": {
        "id": "y0gzWM7tkqoV",
        "colab_type": "text"
      },
      "source": [
        "# U-Net ARCHITECTURE"
      ]
    },
    {
      "cell_type": "markdown",
      "metadata": {
        "id": "W7P9EDn8pOIa",
        "colab_type": "text"
      },
      "source": [
        "Things to change : \n",
        "Change padding to valid and build model again\n",
        "\n",
        "\n"
      ]
    },
    {
      "cell_type": "code",
      "metadata": {
        "id": "aG6Sz2sHk99z",
        "colab_type": "code",
        "colab": {
          "base_uri": "https://localhost:8080/",
          "height": 1000
        },
        "outputId": "249b6938-f29f-49a1-88ad-ce29512bf3e7"
      },
      "source": [
        "import tensorflow as tf\n",
        "from tensorflow.keras.layers import Input, Dense, Conv2D, MaxPooling2D, UpSampling2D,Flatten,Reshape,Cropping2D,Conv2DTranspose,concatenate,BatchNormalization\n",
        "from tensorflow.keras.models import Model\n",
        "from tensorflow.keras import backend as K\n",
        "from tensorflow.keras.initializers import orthogonal\n",
        "\n",
        "input_file = Input(shape=(288,432, 3))\n",
        "\n",
        "def Contract(x, filters, kernel , strides, padding, block_id, kernel_init=orthogonal()):\n",
        "  prefix = f'block_{block_id}_'\n",
        "  x = tf.keras.layers.Conv2D(filters= filters,kernel_size = kernel, strides = strides, kernel_initializer=kernel_init,\n",
        "                             activation = None , padding = padding, name= prefix+'conv1_contract')(x)                           \n",
        "  x = tf.keras.layers.Conv2D(filters= filters,kernel_size = kernel, strides = strides, kernel_initializer=kernel_init,\n",
        "                             activation = None, padding = padding,  name= prefix+'conv2_contract')(x)\n",
        "  x = tf.keras.layers.BatchNormalization(name=prefix+'conv_bn_contract')(x)\n",
        "  x = tf.keras.layers.Dropout(0.2 ,name = prefix +'dropout_contract')(x)\n",
        "  x = tf.keras.layers.LeakyReLU(name=prefix+'lrelu_contract')(x)\n",
        "  return x\n",
        "\n",
        "def Expand(x , y , filters, kernel, trans_kernel,strides, padding, block_id, kernel_init=orthogonal()):\n",
        "  prefix = f'block_{block_id}_'\n",
        "  x = tf.keras.layers.Conv2DTranspose(filters,trans_kernel,strides = strides,kernel_initializer = kernel_init, \n",
        "                                      padding = padding,name = prefix + 'trans_conv2d_expand')(x)\n",
        "  x = tf.keras.layers.concatenate([x,y],name = prefix + 'concatenate_expand')\n",
        "  x = tf.keras.layers.Conv2D(filters,kernel_size = kernel,activation = None ,kernel_initializer = kernel_init,\n",
        "                             padding = padding,name = prefix + 'conv2d_1_expand')(x)\n",
        "  x = tf.keras.layers.Conv2D(filters,kernel_size=kernel,activation = None ,kernel_initializer = kernel_init,\n",
        "                             padding = padding,name = prefix + 'conv2d_2_expand')(x)\n",
        "  x = tf.keras.layers.BatchNormalization(name=prefix+'conv_bn_expand')(x)\n",
        "  x = tf.keras.layers.LeakyReLU(name=prefix+'lrelu_expand')(x)\n",
        "  x = tf.keras.layers.Dropout(0.2, name=prefix+'dropout_expand')((x))\n",
        "  return x\n",
        "\n",
        "\n",
        "def U_net_arch(input_shape):\n",
        "  inputs = Input(shape=input_shape)\n",
        "  \n",
        "  #contracting path\n",
        "  \n",
        "  c1 = Contract(inputs, 8, 3 , strides = 1, padding='same', block_id=1)\n",
        "  p1 = tf.keras.layers.MaxPooling2D((2,2),name = 'block_1_max_pool')(c1)\n",
        "\n",
        "  c2 = Contract(p1, 16, 3 , strides = 1, padding='same', block_id=2)\n",
        "  p2 = tf.keras.layers.MaxPooling2D((2,2),name = 'block_2_max_pool')(c2)\n",
        "\n",
        "  c3 = Contract(p2, 32, 3 , strides = 1, padding='same', block_id=3)\n",
        "  p3 = tf.keras.layers.MaxPooling2D((2,2),name = 'block_3_max_pool')(c3)\n",
        "\n",
        "  c4 = Contract(p3, 64, 3 , strides = 1, padding='same', block_id=4)\n",
        "  p4 = tf.keras.layers.MaxPooling2D((2,2),name = 'block_4_max_pool')(c4)\n",
        "\n",
        "  c5 = Contract(p4, 128, 3 , strides = 1, padding='same', block_id=5)\n",
        "\n",
        "  #Dense layers to reduce the bottleneck features\n",
        "  \"\"\"\n",
        "  x = Flatten()(c5)\n",
        "  #x = Dense(62208, activation='elu',name = 'Dense1')(x)\n",
        "  #x = Dense(31104, activation='elu',name = 'Dense2')(x)\n",
        "  x = Dense(15552, activation='elu',name = 'Dense3')(x)\n",
        "  x = Dense(7776, activation='elu',name = 'Dense4')(x)\n",
        "  x = Dense(3888, activation='elu',name = 'Dense5')(x)\n",
        "  x = Dense(1944, activation='elu',name = 'Dense6')(x)\n",
        "  x = Dense(972, activation='elu',name = 'Dense7')(x)\n",
        "  x = Dense(486, activation='elu',name = 'Dense8')(x)\n",
        "  bottleneck = Dense(243, activation='elu',name = 'Dense9_bottleneck')(x)\n",
        "\n",
        "\n",
        "  x = Dense(486, activation='elu',name = 'reverseDense9')(bottleneck)\n",
        "  x = Dense(972, activation='elu',name = 'reverseDense8')(x)\n",
        "  x = Dense(1944, activation='elu',name = 'reverseDense7')(x)\n",
        "  x = Dense(3888, activation='elu',name = 'reverseDense6')(x)\n",
        "  x = Dense(7776, activation='elu',name = 'reverseDense5')(x)\n",
        "  x = Dense(15552, activation='elu',name = 'reverseDense4')(x)\n",
        "  x = Dense(31104, activation='elu',name = 'reverseDense3')(x)\n",
        "  #x = Dense(62208, activation='elu',name = 'reverseDense2')(x)\n",
        "  #x = Dense(124416, activation='elu',name = 'reverseDense1')(x)\n",
        "  \n",
        "  c5 = Reshape((18,27 , 256))(x)\n",
        "  \"\"\"\n",
        "  #expanding path\n",
        "  \n",
        "  c6 = Expand(c5, c4, 64, 3 , (2,2), strides = (2,2), padding='same', block_id = 6)\n",
        "  \n",
        "  c7 = Expand(c6, c3, 32, 3 , (2,2), strides = (2,2), padding='same', block_id = 7)\n",
        "  \n",
        "  c8 = Expand(c7, c2, 16, 3 , (2,2), strides = (2,2), padding='same', block_id = 8)\n",
        "\n",
        "  c9 = Expand(c8, c1, 8, 3 , (2,2), strides = (2,2), padding='same', block_id = 9)\n",
        "  \n",
        "  outputs = tf.keras.layers.Conv2D(3,(1,1),activation = 'sigmoid')(c9)\n",
        "  \n",
        "  return Model(inputs=inputs, outputs=outputs) \n",
        "\n",
        "input_shape = (288,432)\n",
        "U_net = U_net_arch((*input_shape,3))\n",
        "\n",
        "U_net.compile(optimizer='adam', loss='mse') #msse\n",
        "\n",
        "U_net.summary()\n",
        "\n",
        "\n",
        "\n",
        "\n"
      ],
      "execution_count": null,
      "outputs": [
        {
          "output_type": "stream",
          "text": [
            "Model: \"model\"\n",
            "__________________________________________________________________________________________________\n",
            "Layer (type)                    Output Shape         Param #     Connected to                     \n",
            "==================================================================================================\n",
            "input_2 (InputLayer)            [(None, 288, 432, 3) 0                                            \n",
            "__________________________________________________________________________________________________\n",
            "block_1_conv1_contract (Conv2D) (None, 288, 432, 8)  224         input_2[0][0]                    \n",
            "__________________________________________________________________________________________________\n",
            "block_1_conv2_contract (Conv2D) (None, 288, 432, 8)  584         block_1_conv1_contract[0][0]     \n",
            "__________________________________________________________________________________________________\n",
            "block_1_conv_bn_contract (Batch (None, 288, 432, 8)  32          block_1_conv2_contract[0][0]     \n",
            "__________________________________________________________________________________________________\n",
            "block_1_dropout_contract (Dropo (None, 288, 432, 8)  0           block_1_conv_bn_contract[0][0]   \n",
            "__________________________________________________________________________________________________\n",
            "block_1_lrelu_contract (LeakyRe (None, 288, 432, 8)  0           block_1_dropout_contract[0][0]   \n",
            "__________________________________________________________________________________________________\n",
            "block_1_max_pool (MaxPooling2D) (None, 144, 216, 8)  0           block_1_lrelu_contract[0][0]     \n",
            "__________________________________________________________________________________________________\n",
            "block_2_conv1_contract (Conv2D) (None, 144, 216, 16) 1168        block_1_max_pool[0][0]           \n",
            "__________________________________________________________________________________________________\n",
            "block_2_conv2_contract (Conv2D) (None, 144, 216, 16) 2320        block_2_conv1_contract[0][0]     \n",
            "__________________________________________________________________________________________________\n",
            "block_2_conv_bn_contract (Batch (None, 144, 216, 16) 64          block_2_conv2_contract[0][0]     \n",
            "__________________________________________________________________________________________________\n",
            "block_2_dropout_contract (Dropo (None, 144, 216, 16) 0           block_2_conv_bn_contract[0][0]   \n",
            "__________________________________________________________________________________________________\n",
            "block_2_lrelu_contract (LeakyRe (None, 144, 216, 16) 0           block_2_dropout_contract[0][0]   \n",
            "__________________________________________________________________________________________________\n",
            "block_2_max_pool (MaxPooling2D) (None, 72, 108, 16)  0           block_2_lrelu_contract[0][0]     \n",
            "__________________________________________________________________________________________________\n",
            "block_3_conv1_contract (Conv2D) (None, 72, 108, 32)  4640        block_2_max_pool[0][0]           \n",
            "__________________________________________________________________________________________________\n",
            "block_3_conv2_contract (Conv2D) (None, 72, 108, 32)  9248        block_3_conv1_contract[0][0]     \n",
            "__________________________________________________________________________________________________\n",
            "block_3_conv_bn_contract (Batch (None, 72, 108, 32)  128         block_3_conv2_contract[0][0]     \n",
            "__________________________________________________________________________________________________\n",
            "block_3_dropout_contract (Dropo (None, 72, 108, 32)  0           block_3_conv_bn_contract[0][0]   \n",
            "__________________________________________________________________________________________________\n",
            "block_3_lrelu_contract (LeakyRe (None, 72, 108, 32)  0           block_3_dropout_contract[0][0]   \n",
            "__________________________________________________________________________________________________\n",
            "block_3_max_pool (MaxPooling2D) (None, 36, 54, 32)   0           block_3_lrelu_contract[0][0]     \n",
            "__________________________________________________________________________________________________\n",
            "block_4_conv1_contract (Conv2D) (None, 36, 54, 64)   18496       block_3_max_pool[0][0]           \n",
            "__________________________________________________________________________________________________\n",
            "block_4_conv2_contract (Conv2D) (None, 36, 54, 64)   36928       block_4_conv1_contract[0][0]     \n",
            "__________________________________________________________________________________________________\n",
            "block_4_conv_bn_contract (Batch (None, 36, 54, 64)   256         block_4_conv2_contract[0][0]     \n",
            "__________________________________________________________________________________________________\n",
            "block_4_dropout_contract (Dropo (None, 36, 54, 64)   0           block_4_conv_bn_contract[0][0]   \n",
            "__________________________________________________________________________________________________\n",
            "block_4_lrelu_contract (LeakyRe (None, 36, 54, 64)   0           block_4_dropout_contract[0][0]   \n",
            "__________________________________________________________________________________________________\n",
            "block_4_max_pool (MaxPooling2D) (None, 18, 27, 64)   0           block_4_lrelu_contract[0][0]     \n",
            "__________________________________________________________________________________________________\n",
            "block_5_conv1_contract (Conv2D) (None, 18, 27, 128)  73856       block_4_max_pool[0][0]           \n",
            "__________________________________________________________________________________________________\n",
            "block_5_conv2_contract (Conv2D) (None, 18, 27, 128)  147584      block_5_conv1_contract[0][0]     \n",
            "__________________________________________________________________________________________________\n",
            "block_5_conv_bn_contract (Batch (None, 18, 27, 128)  512         block_5_conv2_contract[0][0]     \n",
            "__________________________________________________________________________________________________\n",
            "block_5_dropout_contract (Dropo (None, 18, 27, 128)  0           block_5_conv_bn_contract[0][0]   \n",
            "__________________________________________________________________________________________________\n",
            "block_5_lrelu_contract (LeakyRe (None, 18, 27, 128)  0           block_5_dropout_contract[0][0]   \n",
            "__________________________________________________________________________________________________\n",
            "block_6_trans_conv2d_expand (Co (None, 36, 54, 64)   32832       block_5_lrelu_contract[0][0]     \n",
            "__________________________________________________________________________________________________\n",
            "block_6_concatenate_expand (Con (None, 36, 54, 128)  0           block_6_trans_conv2d_expand[0][0]\n",
            "                                                                 block_4_lrelu_contract[0][0]     \n",
            "__________________________________________________________________________________________________\n",
            "block_6_conv2d_1_expand (Conv2D (None, 36, 54, 64)   73792       block_6_concatenate_expand[0][0] \n",
            "__________________________________________________________________________________________________\n",
            "block_6_conv2d_2_expand (Conv2D (None, 36, 54, 64)   36928       block_6_conv2d_1_expand[0][0]    \n",
            "__________________________________________________________________________________________________\n",
            "block_6_conv_bn_expand (BatchNo (None, 36, 54, 64)   256         block_6_conv2d_2_expand[0][0]    \n",
            "__________________________________________________________________________________________________\n",
            "block_6_lrelu_expand (LeakyReLU (None, 36, 54, 64)   0           block_6_conv_bn_expand[0][0]     \n",
            "__________________________________________________________________________________________________\n",
            "block_6_dropout_expand (Dropout (None, 36, 54, 64)   0           block_6_lrelu_expand[0][0]       \n",
            "__________________________________________________________________________________________________\n",
            "block_7_trans_conv2d_expand (Co (None, 72, 108, 32)  8224        block_6_dropout_expand[0][0]     \n",
            "__________________________________________________________________________________________________\n",
            "block_7_concatenate_expand (Con (None, 72, 108, 64)  0           block_7_trans_conv2d_expand[0][0]\n",
            "                                                                 block_3_lrelu_contract[0][0]     \n",
            "__________________________________________________________________________________________________\n",
            "block_7_conv2d_1_expand (Conv2D (None, 72, 108, 32)  18464       block_7_concatenate_expand[0][0] \n",
            "__________________________________________________________________________________________________\n",
            "block_7_conv2d_2_expand (Conv2D (None, 72, 108, 32)  9248        block_7_conv2d_1_expand[0][0]    \n",
            "__________________________________________________________________________________________________\n",
            "block_7_conv_bn_expand (BatchNo (None, 72, 108, 32)  128         block_7_conv2d_2_expand[0][0]    \n",
            "__________________________________________________________________________________________________\n",
            "block_7_lrelu_expand (LeakyReLU (None, 72, 108, 32)  0           block_7_conv_bn_expand[0][0]     \n",
            "__________________________________________________________________________________________________\n",
            "block_7_dropout_expand (Dropout (None, 72, 108, 32)  0           block_7_lrelu_expand[0][0]       \n",
            "__________________________________________________________________________________________________\n",
            "block_8_trans_conv2d_expand (Co (None, 144, 216, 16) 2064        block_7_dropout_expand[0][0]     \n",
            "__________________________________________________________________________________________________\n",
            "block_8_concatenate_expand (Con (None, 144, 216, 32) 0           block_8_trans_conv2d_expand[0][0]\n",
            "                                                                 block_2_lrelu_contract[0][0]     \n",
            "__________________________________________________________________________________________________\n",
            "block_8_conv2d_1_expand (Conv2D (None, 144, 216, 16) 4624        block_8_concatenate_expand[0][0] \n",
            "__________________________________________________________________________________________________\n",
            "block_8_conv2d_2_expand (Conv2D (None, 144, 216, 16) 2320        block_8_conv2d_1_expand[0][0]    \n",
            "__________________________________________________________________________________________________\n",
            "block_8_conv_bn_expand (BatchNo (None, 144, 216, 16) 64          block_8_conv2d_2_expand[0][0]    \n",
            "__________________________________________________________________________________________________\n",
            "block_8_lrelu_expand (LeakyReLU (None, 144, 216, 16) 0           block_8_conv_bn_expand[0][0]     \n",
            "__________________________________________________________________________________________________\n",
            "block_8_dropout_expand (Dropout (None, 144, 216, 16) 0           block_8_lrelu_expand[0][0]       \n",
            "__________________________________________________________________________________________________\n",
            "block_9_trans_conv2d_expand (Co (None, 288, 432, 8)  520         block_8_dropout_expand[0][0]     \n",
            "__________________________________________________________________________________________________\n",
            "block_9_concatenate_expand (Con (None, 288, 432, 16) 0           block_9_trans_conv2d_expand[0][0]\n",
            "                                                                 block_1_lrelu_contract[0][0]     \n",
            "__________________________________________________________________________________________________\n",
            "block_9_conv2d_1_expand (Conv2D (None, 288, 432, 8)  1160        block_9_concatenate_expand[0][0] \n",
            "__________________________________________________________________________________________________\n",
            "block_9_conv2d_2_expand (Conv2D (None, 288, 432, 8)  584         block_9_conv2d_1_expand[0][0]    \n",
            "__________________________________________________________________________________________________\n",
            "block_9_conv_bn_expand (BatchNo (None, 288, 432, 8)  32          block_9_conv2d_2_expand[0][0]    \n",
            "__________________________________________________________________________________________________\n",
            "block_9_lrelu_expand (LeakyReLU (None, 288, 432, 8)  0           block_9_conv_bn_expand[0][0]     \n",
            "__________________________________________________________________________________________________\n",
            "block_9_dropout_expand (Dropout (None, 288, 432, 8)  0           block_9_lrelu_expand[0][0]       \n",
            "__________________________________________________________________________________________________\n",
            "conv2d (Conv2D)                 (None, 288, 432, 3)  27          block_9_dropout_expand[0][0]     \n",
            "==================================================================================================\n",
            "Total params: 487,307\n",
            "Trainable params: 486,571\n",
            "Non-trainable params: 736\n",
            "__________________________________________________________________________________________________\n"
          ],
          "name": "stdout"
        }
      ]
    },
    {
      "cell_type": "markdown",
      "metadata": {
        "id": "hPfrGGhfh0ER",
        "colab_type": "text"
      },
      "source": [
        "# U-net architecture \n",
        "\n",
        "### Done with padding  = 'valid'\n",
        "\n",
        "Note that here the input dimension is not equal to the output dimension"
      ]
    },
    {
      "cell_type": "code",
      "metadata": {
        "id": "_N1m0nEoiDyx",
        "colab_type": "code",
        "colab": {
          "base_uri": "https://localhost:8080/",
          "height": 54
        },
        "outputId": "138f5478-9c00-4526-da40-e3c7cca4864d"
      },
      "source": [
        "\"\"\"\n",
        "import tensorflow as tf\n",
        "from tensorflow.keras.layers import Input, Dense, Conv2D, MaxPooling2D, UpSampling2D,Flatten,Reshape,Cropping2D,Conv2DTranspose,concatenate,ZeroPadding2D\n",
        "from tensorflow.keras.models import Model\n",
        "from tensorflow.keras import backend as K\n",
        "from tensorflow.keras.initializers import orthogonal\n",
        "\n",
        "input_file = Input(shape=(288,432, 3))\n",
        "\n",
        "def Contract(x, filters, kernel , strides, padding, block_id, kernel_init=orthogonal()):\n",
        "    prefix = f'block_{block_id}_'\n",
        "    x = tf.keras.layers.Conv2D(filters= filters,kernel_size = kernel, strides = strides, kernel_initializer=kernel_init,\n",
        "                             activation = 'elu', padding = padding, name= prefix+'conv1')(x)                           \n",
        "    x = tf.keras.layers.Conv2D(filters= filters,kernel_size = kernel, strides = strides, kernel_initializer=kernel_init,\n",
        "                             activation = 'elu', padding = padding,  name= prefix+'conv2')(x)\n",
        "    #x = tf.keras.layers.Dropout(0.3 ,name = prefix +'dropout')(x)\n",
        "    x = tf.keras.layers.LeakyReLU(name=prefix+'lrelu')(x)\n",
        "    return x\n",
        "\n",
        "def Expand(x , y , filters, kernel, trans_kernel,strides, padding, block_id, kernel_init=orthogonal()):\n",
        "    prefix = f'block_{block_id}_'\n",
        "    x = tf.keras.layers.Conv2DTranspose(filters,trans_kernel,strides = strides,kernel_initializer = kernel_init, \n",
        "                                      padding = padding,name = prefix + 'trans_conv2d')(x)\n",
        "    x = tf.keras.layers.concatenate([x,y],name = prefix + 'concatenate')\n",
        "    x = tf.keras.layers.Conv2D(filters,kernel_size = kernel,activation = 'elu',kernel_initializer = kernel_init,\n",
        "                             padding = padding,name = prefix + 'conv2d_1')(x)\n",
        "    x = tf.keras.layers.Conv2D(filters,kernel_size=kernel,activation = 'elu',kernel_initializer = kernel_init,\n",
        "                                 padding = padding,name = prefix + 'conv2d_2')(x)\n",
        "    x = tf.keras.layers.Conv2D(filters,kernel_size=kernel,activation = 'elu',kernel_initializer = kernel_init,\n",
        "                                 padding = padding,name = prefix + 'conv2d_3')(x)   \n",
        "    #x = tf.keras.layers.Dropout(0.3, name=prefix+'dropout')((x))\n",
        "    x = tf.keras.layers.LeakyReLU(name=prefix+'lrelu')(x)\n",
        "    \n",
        "    return x\n",
        "\n",
        "\n",
        "def U_net_arch(input_shape):\n",
        "    inputs = Input(shape=input_shape)\n",
        "\n",
        "    #contracting path\n",
        "\n",
        "    c1 = Contract(inputs, 16, 3 , strides = 1, padding='valid', block_id=1)\n",
        "    p1 = tf.keras.layers.MaxPooling2D((2,2),name = 'block_1_max_pool')(c1)\n",
        "\n",
        "    c2 = Contract(p1, 32, 3 , strides = 1, padding='valid', block_id=2)\n",
        "    p2 = tf.keras.layers.MaxPooling2D((2,2),name = 'block_2_max_pool')(c2)\n",
        "\n",
        "    c3 = Contract(p2, 64, 3 , strides = 1, padding='valid', block_id=3)\n",
        "    p3 = tf.keras.layers.MaxPooling2D((2,2),name = 'block_3_max_pool')(c3)\n",
        "\n",
        "    c5 = Contract(p3, 128, 3 , strides = 1, padding='valid', block_id=5)\n",
        "\n",
        "      #expanding path\n",
        "\n",
        "    c3 = tf.keras.layers.Cropping2D(cropping=((4, 5), (4, 5)))(c3)\n",
        "    c7 = Expand(c5, c3, 64, 3 , (2,2), strides = (2,2), padding='valid', block_id = 7)\n",
        "    c2 = tf.keras.layers.Cropping2D(cropping=((19, 19), (19, 19)))(c2)\n",
        "    c8 = Expand(c7, c2, 32, 3 , (2,2), strides = (2,2), padding='valid', block_id = 8)\n",
        "    c1 = tf.keras.layers.Cropping2D(cropping=((48, 48), (48, 48)))(c1)\n",
        "    c9 = Expand(c8, c1, 16, 3 , (2,2), strides = (2,2), padding='valid', block_id = 9)\n",
        "    outputs = tf.keras.layers.Conv2D(3,(1,1),activation = 'sigmoid')(c9)\n",
        "    outputs = tf.keras.layers.ZeroPadding2D(((53, 53),(53,53)))(outputs)\n",
        "\n",
        "    return Model(inputs=inputs, outputs=outputs) \n",
        "\n",
        "input_shape = (288,432)\n",
        "U_net = U_net_arch((*input_shape,3))\n",
        "\n",
        "U_net.compile(optimizer='adam', loss='mse') #msse\n",
        "\n",
        "U_net.summary()\n",
        "\n",
        "\"\"\"\n",
        "\n",
        "\n"
      ],
      "execution_count": null,
      "outputs": [
        {
          "output_type": "execute_result",
          "data": {
            "text/plain": [
              "\"\\nimport tensorflow as tf\\nfrom tensorflow.keras.layers import Input, Dense, Conv2D, MaxPooling2D, UpSampling2D,Flatten,Reshape,Cropping2D,Conv2DTranspose,concatenate,ZeroPadding2D\\nfrom tensorflow.keras.models import Model\\nfrom tensorflow.keras import backend as K\\nfrom tensorflow.keras.initializers import orthogonal\\n\\ninput_file = Input(shape=(288,432, 3))\\n\\ndef Contract(x, filters, kernel , strides, padding, block_id, kernel_init=orthogonal()):\\n    prefix = f'block_{block_id}_'\\n    x = tf.keras.layers.Conv2D(filters= filters,kernel_size = kernel, strides = strides, kernel_initializer=kernel_init,\\n                             activation = 'elu', padding = padding, name= prefix+'conv1')(x)                           \\n    x = tf.keras.layers.Conv2D(filters= filters,kernel_size = kernel, strides = strides, kernel_initializer=kernel_init,\\n                             activation = 'elu', padding = padding,  name= prefix+'conv2')(x)\\n    #x = tf.keras.layers.Dropout(0.3 ,name = prefix +'dropout')(x)\\n    x = tf.keras.layers.LeakyReLU(name=prefix+'lrelu')(x)\\n    return x\\n\\ndef Expand(x , y , filters, kernel, trans_kernel,strides, padding, block_id, kernel_init=orthogonal()):\\n    prefix = f'block_{block_id}_'\\n    x = tf.keras.layers.Conv2DTranspose(filters,trans_kernel,strides = strides,kernel_initializer = kernel_init, \\n                                      padding = padding,name = prefix + 'trans_conv2d')(x)\\n    x = tf.keras.layers.concatenate([x,y],name = prefix + 'concatenate')\\n    x = tf.keras.layers.Conv2D(filters,kernel_size = kernel,activation = 'elu',kernel_initializer = kernel_init,\\n                             padding = padding,name = prefix + 'conv2d_1')(x)\\n    x = tf.keras.layers.Conv2D(filters,kernel_size=kernel,activation = 'elu',kernel_initializer = kernel_init,\\n                                 padding = padding,name = prefix + 'conv2d_2')(x)\\n    x = tf.keras.layers.Conv2D(filters,kernel_size=kernel,activation = 'elu',kernel_initializer = kernel_init,\\n                                 padding = padding,name = prefix + 'conv2d_3')(x)   \\n    #x = tf.keras.layers.Dropout(0.3, name=prefix+'dropout')((x))\\n    x = tf.keras.layers.LeakyReLU(name=prefix+'lrelu')(x)\\n    \\n    return x\\n\\n\\ndef U_net_arch(input_shape):\\n    inputs = Input(shape=input_shape)\\n\\n    #contracting path\\n\\n    c1 = Contract(inputs, 16, 3 , strides = 1, padding='valid', block_id=1)\\n    p1 = tf.keras.layers.MaxPooling2D((2,2),name = 'block_1_max_pool')(c1)\\n\\n    c2 = Contract(p1, 32, 3 , strides = 1, padding='valid', block_id=2)\\n    p2 = tf.keras.layers.MaxPooling2D((2,2),name = 'block_2_max_pool')(c2)\\n\\n    c3 = Contract(p2, 64, 3 , strides = 1, padding='valid', block_id=3)\\n    p3 = tf.keras.layers.MaxPooling2D((2,2),name = 'block_3_max_pool')(c3)\\n\\n    c5 = Contract(p3, 128, 3 , strides = 1, padding='valid', block_id=5)\\n\\n      #expanding path\\n\\n    c3 = tf.keras.layers.Cropping2D(cropping=((4, 5), (4, 5)))(c3)\\n    c7 = Expand(c5, c3, 64, 3 , (2,2), strides = (2,2), padding='valid', block_id = 7)\\n    c2 = tf.keras.layers.Cropping2D(cropping=((19, 19), (19, 19)))(c2)\\n    c8 = Expand(c7, c2, 32, 3 , (2,2), strides = (2,2), padding='valid', block_id = 8)\\n    c1 = tf.keras.layers.Cropping2D(cropping=((48, 48), (48, 48)))(c1)\\n    c9 = Expand(c8, c1, 16, 3 , (2,2), strides = (2,2), padding='valid', block_id = 9)\\n    outputs = tf.keras.layers.Conv2D(3,(1,1),activation = 'sigmoid')(c9)\\n    outputs = tf.keras.layers.ZeroPadding2D(((53, 53),(53,53)))(outputs)\\n\\n    return Model(inputs=inputs, outputs=outputs) \\n\\ninput_shape = (288,432)\\nU_net = U_net_arch((*input_shape,3))\\n\\nU_net.compile(optimizer='adam', loss='mse') #msse\\n\\nU_net.summary()\\n\\n\""
            ]
          },
          "metadata": {
            "tags": []
          },
          "execution_count": 6
        }
      ]
    },
    {
      "cell_type": "code",
      "metadata": {
        "id": "a8kRcKeaDTVa",
        "colab_type": "code",
        "colab": {}
      },
      "source": [
        "#required to yeild same input as target and discard labels\n",
        "def fixed_generator(generator):\n",
        "    for batch in generator:\n",
        "        yield (batch, batch)"
      ],
      "execution_count": null,
      "outputs": []
    },
    {
      "cell_type": "code",
      "metadata": {
        "id": "E5suj4k_DT37",
        "colab_type": "code",
        "colab": {
          "base_uri": "https://localhost:8080/",
          "height": 34
        },
        "outputId": "f22bdcfd-26be-4fb3-9930-baf38f324d6b"
      },
      "source": [
        "from keras.preprocessing.image import ImageDataGenerator\n",
        "train_datagen = ImageDataGenerator(\n",
        "        rescale=1./255,\n",
        "        shear_range=0.2,\n",
        "        zoom_range=0.2,\n",
        "        horizontal_flip=False)"
      ],
      "execution_count": null,
      "outputs": [
        {
          "output_type": "stream",
          "text": [
            "Using TensorFlow backend.\n"
          ],
          "name": "stderr"
        }
      ]
    },
    {
      "cell_type": "code",
      "metadata": {
        "id": "mhhOixTYDYBA",
        "colab_type": "code",
        "colab": {}
      },
      "source": [
        "valid_datagen = ImageDataGenerator(rescale=1./255) \n",
        "test_datagen = ImageDataGenerator(rescale=1./255)"
      ],
      "execution_count": null,
      "outputs": []
    },
    {
      "cell_type": "code",
      "metadata": {
        "id": "ZoSzeP6NDaS_",
        "colab_type": "code",
        "colab": {
          "base_uri": "https://localhost:8080/",
          "height": 34
        },
        "outputId": "294513d0-e70b-4f49-e3a5-3734f497738f"
      },
      "source": [
        "train_generator = train_datagen.flow_from_directory(\n",
        "    directory=r\"/content/drive/My Drive/Baby Cry/donateacry-corpus-master/03-06-2020 Image Files/train\",\n",
        "    target_size=(288,432),\n",
        "    color_mode=\"rgb\",\n",
        "    batch_size=27,\n",
        "    class_mode='input',\n",
        "    shuffle=False,\n",
        "    seed=42\n",
        ")\n",
        "\n"
      ],
      "execution_count": null,
      "outputs": [
        {
          "output_type": "stream",
          "text": [
            "Found 497 images belonging to 5 classes.\n"
          ],
          "name": "stdout"
        }
      ]
    },
    {
      "cell_type": "code",
      "metadata": {
        "id": "2u5RKPRtwpJZ",
        "colab_type": "code",
        "colab": {
          "base_uri": "https://localhost:8080/",
          "height": 178
        },
        "outputId": "53c7897e-4953-4a13-eecf-2d20954c3eda"
      },
      "source": [
        "#print(train_generator.filenames)\n",
        "print(train_generator.shape)"
      ],
      "execution_count": null,
      "outputs": [
        {
          "output_type": "error",
          "ename": "AttributeError",
          "evalue": "ignored",
          "traceback": [
            "\u001b[0;31m---------------------------------------------------------------------------\u001b[0m",
            "\u001b[0;31mAttributeError\u001b[0m                            Traceback (most recent call last)",
            "\u001b[0;32m<ipython-input-11-3cc634722551>\u001b[0m in \u001b[0;36m<module>\u001b[0;34m()\u001b[0m\n\u001b[1;32m      1\u001b[0m \u001b[0;31m#print(train_generator.filenames)\u001b[0m\u001b[0;34m\u001b[0m\u001b[0;34m\u001b[0m\u001b[0;34m\u001b[0m\u001b[0m\n\u001b[0;32m----> 2\u001b[0;31m \u001b[0mprint\u001b[0m\u001b[0;34m(\u001b[0m\u001b[0mtrain_generator\u001b[0m\u001b[0;34m.\u001b[0m\u001b[0mshape\u001b[0m\u001b[0;34m)\u001b[0m\u001b[0;34m\u001b[0m\u001b[0;34m\u001b[0m\u001b[0m\n\u001b[0m",
            "\u001b[0;31mAttributeError\u001b[0m: 'DirectoryIterator' object has no attribute 'shape'"
          ]
        }
      ]
    },
    {
      "cell_type": "code",
      "metadata": {
        "id": "STDFNSptDbAB",
        "colab_type": "code",
        "colab": {
          "base_uri": "https://localhost:8080/",
          "height": 34
        },
        "outputId": "8644eb79-e159-4764-d09b-882007eed12a"
      },
      "source": [
        "valid_generator = valid_datagen.flow_from_directory(\n",
        "    directory=r\"/content/drive/My Drive/Baby Cry/donateacry-corpus-master/03-06-2020 Image Files/val\",\n",
        "    target_size=(288,432),\n",
        "    color_mode=\"rgb\",\n",
        "    batch_size=25,\n",
        "    class_mode='input',\n",
        "    shuffle=False,\n",
        "    seed=42\n",
        ")"
      ],
      "execution_count": null,
      "outputs": [
        {
          "output_type": "stream",
          "text": [
            "Found 174 images belonging to 5 classes.\n"
          ],
          "name": "stdout"
        }
      ]
    },
    {
      "cell_type": "code",
      "metadata": {
        "id": "9apsFxzsDeKi",
        "colab_type": "code",
        "colab": {
          "base_uri": "https://localhost:8080/",
          "height": 34
        },
        "outputId": "d22a02ae-cb7d-4287-d1a4-f513aab036f5"
      },
      "source": [
        "test_generator = test_datagen.flow_from_directory(\n",
        "    directory=r\"/content/drive/My Drive/Baby Cry/donateacry-corpus-master/03-06-2020 Image Files/test\",\n",
        "    target_size=(288,432),\n",
        "    color_mode=\"rgb\",\n",
        "    batch_size=31,\n",
        "    class_mode=None,\n",
        "    shuffle=False,\n",
        "    seed=42\n",
        ")"
      ],
      "execution_count": null,
      "outputs": [
        {
          "output_type": "stream",
          "text": [
            "Found 171 images belonging to 5 classes.\n"
          ],
          "name": "stdout"
        }
      ]
    },
    {
      "cell_type": "code",
      "metadata": {
        "id": "rFxw8tbLDiJJ",
        "colab_type": "code",
        "colab": {
          "base_uri": "https://localhost:8080/",
          "height": 538
        },
        "outputId": "08d94cd4-af5d-4cd8-f3a7-943d36cc3c1e"
      },
      "source": [
        "from tensorflow.python.client import device_lib\n",
        "print(device_lib.list_local_devices())"
      ],
      "execution_count": null,
      "outputs": [
        {
          "output_type": "stream",
          "text": [
            "[name: \"/device:CPU:0\"\n",
            "device_type: \"CPU\"\n",
            "memory_limit: 268435456\n",
            "locality {\n",
            "}\n",
            "incarnation: 3959767809405922166\n",
            ", name: \"/device:XLA_CPU:0\"\n",
            "device_type: \"XLA_CPU\"\n",
            "memory_limit: 17179869184\n",
            "locality {\n",
            "}\n",
            "incarnation: 3729416545265142005\n",
            "physical_device_desc: \"device: XLA_CPU device\"\n",
            ", name: \"/device:XLA_GPU:0\"\n",
            "device_type: \"XLA_GPU\"\n",
            "memory_limit: 17179869184\n",
            "locality {\n",
            "}\n",
            "incarnation: 7498896769886341181\n",
            "physical_device_desc: \"device: XLA_GPU device\"\n",
            ", name: \"/device:GPU:0\"\n",
            "device_type: \"GPU\"\n",
            "memory_limit: 15701463552\n",
            "locality {\n",
            "  bus_id: 1\n",
            "  links {\n",
            "  }\n",
            "}\n",
            "incarnation: 16417951106099833135\n",
            "physical_device_desc: \"device: 0, name: Tesla P100-PCIE-16GB, pci bus id: 0000:00:04.0, compute capability: 6.0\"\n",
            "]\n"
          ],
          "name": "stdout"
        }
      ]
    },
    {
      "cell_type": "markdown",
      "metadata": {
        "id": "NltaEeXxS_97",
        "colab_type": "text"
      },
      "source": [
        "adding callback (accuracy decreasing)\n"
      ]
    },
    {
      "cell_type": "code",
      "metadata": {
        "id": "UydJYsefTD8j",
        "colab_type": "code",
        "colab": {
          "base_uri": "https://localhost:8080/",
          "height": 54
        },
        "outputId": "a1293b2e-1d12-47a9-d148-5c407a79b36a"
      },
      "source": [
        "\"\"\"\n",
        "filepath=\"/content/drive/My Drive/Baby Cry/donateacry-corpus-master/U_net_arch.hdf5\"\n",
        "checkpoint = tf.keras.callbacks.ModelCheckpoint(filepath, monitor='val_accuracy', verbose=1, save_best_only=True, mode='max')\n",
        "callbacks_list = [checkpoint]\n",
        "\"\"\""
      ],
      "execution_count": null,
      "outputs": [
        {
          "output_type": "execute_result",
          "data": {
            "text/plain": [
              "'\\nfilepath=\"/content/drive/My Drive/Baby Cry/donateacry-corpus-master/U_net_arch.hdf5\"\\ncheckpoint = tf.keras.callbacks.ModelCheckpoint(filepath, monitor=\\'val_accuracy\\', verbose=1, save_best_only=True, mode=\\'max\\')\\ncallbacks_list = [checkpoint]\\n'"
            ]
          },
          "metadata": {
            "tags": []
          },
          "execution_count": 15
        }
      ]
    },
    {
      "cell_type": "markdown",
      "metadata": {
        "id": "4o5vwo66TBvm",
        "colab_type": "text"
      },
      "source": [
        "fitting the model\n"
      ]
    },
    {
      "cell_type": "code",
      "metadata": {
        "id": "UVYbyNkKDkbu",
        "colab_type": "code",
        "colab": {
          "base_uri": "https://localhost:8080/",
          "height": 1000
        },
        "outputId": "ca4ba834-584d-400f-efcf-55cd6d4de394"
      },
      "source": [
        "STEP_SIZE_TRAIN=train_generator.n//train_generator.batch_size\n",
        "STEP_SIZE_VALID=valid_generator.n//valid_generator.batch_size\n",
        "\n",
        "autoencoder_train = U_net.fit(x = fixed_generator(train_generator),\n",
        "                epochs = 50,\n",
        "                verbose = 1,\n",
        "                callbacks=None,\n",
        "                validation_data = fixed_generator(valid_generator),\n",
        "                shuffle = False, \n",
        "                initial_epoch=0, \n",
        "                steps_per_epoch=STEP_SIZE_TRAIN, \n",
        "                validation_steps=STEP_SIZE_VALID,  \n",
        "                max_queue_size=None,                                    \n",
        ")"
      ],
      "execution_count": null,
      "outputs": [
        {
          "output_type": "stream",
          "text": [
            "Epoch 1/50\n",
            "18/18 [==============================] - 200s 11s/step - loss: 0.0753 - val_loss: 0.2185\n",
            "Epoch 2/50\n",
            "18/18 [==============================] - 15s 839ms/step - loss: 0.0466 - val_loss: 0.0794\n",
            "Epoch 3/50\n",
            "18/18 [==============================] - 15s 832ms/step - loss: 0.0394 - val_loss: 0.0476\n",
            "Epoch 4/50\n",
            "18/18 [==============================] - 15s 853ms/step - loss: 0.0344 - val_loss: 0.0328\n",
            "Epoch 5/50\n",
            "18/18 [==============================] - 15s 839ms/step - loss: 0.0302 - val_loss: 0.0231\n",
            "Epoch 6/50\n",
            "18/18 [==============================] - 15s 834ms/step - loss: 0.0272 - val_loss: 0.0180\n",
            "Epoch 7/50\n",
            "18/18 [==============================] - 15s 832ms/step - loss: 0.0247 - val_loss: 0.0168\n",
            "Epoch 8/50\n",
            "18/18 [==============================] - 15s 856ms/step - loss: 0.0223 - val_loss: 0.0161\n",
            "Epoch 9/50\n",
            "18/18 [==============================] - 15s 830ms/step - loss: 0.0205 - val_loss: 0.0157\n",
            "Epoch 10/50\n",
            "18/18 [==============================] - 15s 826ms/step - loss: 0.0188 - val_loss: 0.0159\n",
            "Epoch 11/50\n",
            "18/18 [==============================] - 15s 832ms/step - loss: 0.0173 - val_loss: 0.0154\n",
            "Epoch 12/50\n",
            "18/18 [==============================] - 15s 824ms/step - loss: 0.0160 - val_loss: 0.0148\n",
            "Epoch 13/50\n",
            "18/18 [==============================] - 15s 834ms/step - loss: 0.0148 - val_loss: 0.0137\n",
            "Epoch 14/50\n",
            "18/18 [==============================] - 15s 830ms/step - loss: 0.0141 - val_loss: 0.0129\n",
            "Epoch 15/50\n",
            "18/18 [==============================] - 15s 828ms/step - loss: 0.0131 - val_loss: 0.0125\n",
            "Epoch 16/50\n",
            "18/18 [==============================] - 15s 830ms/step - loss: 0.0122 - val_loss: 0.0106\n",
            "Epoch 17/50\n",
            "18/18 [==============================] - 15s 829ms/step - loss: 0.0115 - val_loss: 0.0100\n",
            "Epoch 18/50\n",
            "18/18 [==============================] - 15s 822ms/step - loss: 0.0109 - val_loss: 0.0091\n",
            "Epoch 19/50\n",
            "18/18 [==============================] - 15s 816ms/step - loss: 0.0104 - val_loss: 0.0083\n",
            "Epoch 20/50\n",
            "18/18 [==============================] - 15s 845ms/step - loss: 0.0098 - val_loss: 0.0086\n",
            "Epoch 21/50\n",
            "18/18 [==============================] - 15s 856ms/step - loss: 0.0098 - val_loss: 0.0084\n",
            "Epoch 22/50\n",
            "18/18 [==============================] - 15s 825ms/step - loss: 0.0095 - val_loss: 0.0070\n",
            "Epoch 23/50\n",
            "18/18 [==============================] - 15s 838ms/step - loss: 0.0088 - val_loss: 0.0050\n",
            "Epoch 24/50\n",
            "18/18 [==============================] - 15s 809ms/step - loss: 0.0086 - val_loss: 0.0056\n",
            "Epoch 25/50\n",
            "18/18 [==============================] - 15s 809ms/step - loss: 0.0080 - val_loss: 0.0050\n",
            "Epoch 26/50\n",
            "18/18 [==============================] - 15s 811ms/step - loss: 0.0078 - val_loss: 0.0064\n",
            "Epoch 27/50\n",
            "18/18 [==============================] - 15s 808ms/step - loss: 0.0077 - val_loss: 0.0043\n",
            "Epoch 28/50\n",
            "18/18 [==============================] - 15s 820ms/step - loss: 0.0076 - val_loss: 0.0040\n",
            "Epoch 29/50\n",
            "18/18 [==============================] - 15s 821ms/step - loss: 0.0074 - val_loss: 0.0034\n",
            "Epoch 30/50\n",
            "18/18 [==============================] - 14s 802ms/step - loss: 0.0070 - val_loss: 0.0033\n",
            "Epoch 31/50\n",
            "18/18 [==============================] - 14s 805ms/step - loss: 0.0072 - val_loss: 0.0044\n",
            "Epoch 32/50\n",
            "18/18 [==============================] - 15s 810ms/step - loss: 0.0070 - val_loss: 0.0034\n",
            "Epoch 33/50\n",
            "18/18 [==============================] - 15s 811ms/step - loss: 0.0066 - val_loss: 0.0030\n",
            "Epoch 34/50\n",
            "18/18 [==============================] - 15s 813ms/step - loss: 0.0062 - val_loss: 0.0031\n",
            "Epoch 35/50\n",
            "18/18 [==============================] - 15s 811ms/step - loss: 0.0060 - val_loss: 0.0035\n",
            "Epoch 36/50\n",
            "18/18 [==============================] - 15s 811ms/step - loss: 0.0060 - val_loss: 0.0033\n",
            "Epoch 37/50\n",
            "18/18 [==============================] - 15s 815ms/step - loss: 0.0059 - val_loss: 0.0037\n",
            "Epoch 38/50\n",
            "18/18 [==============================] - 15s 806ms/step - loss: 0.0058 - val_loss: 0.0032\n",
            "Epoch 39/50\n",
            "18/18 [==============================] - 15s 844ms/step - loss: 0.0055 - val_loss: 0.0033\n",
            "Epoch 40/50\n",
            "18/18 [==============================] - 15s 834ms/step - loss: 0.0054 - val_loss: 0.0030\n",
            "Epoch 41/50\n",
            "18/18 [==============================] - 14s 805ms/step - loss: 0.0053 - val_loss: 0.0028\n",
            "Epoch 42/50\n",
            "18/18 [==============================] - 15s 806ms/step - loss: 0.0053 - val_loss: 0.0036\n",
            "Epoch 43/50\n",
            "18/18 [==============================] - 14s 802ms/step - loss: 0.0055 - val_loss: 0.0026\n",
            "Epoch 44/50\n",
            "18/18 [==============================] - 14s 795ms/step - loss: 0.0051 - val_loss: 0.0028\n",
            "Epoch 45/50\n",
            "18/18 [==============================] - 14s 802ms/step - loss: 0.0051 - val_loss: 0.0026\n",
            "Epoch 46/50\n",
            "18/18 [==============================] - 14s 802ms/step - loss: 0.0052 - val_loss: 0.0026\n",
            "Epoch 47/50\n",
            "18/18 [==============================] - 14s 804ms/step - loss: 0.0050 - val_loss: 0.0022\n",
            "Epoch 48/50\n",
            "18/18 [==============================] - 15s 811ms/step - loss: 0.0050 - val_loss: 0.0021\n",
            "Epoch 49/50\n",
            "18/18 [==============================] - 15s 810ms/step - loss: 0.0047 - val_loss: 0.0020\n",
            "Epoch 50/50\n",
            "18/18 [==============================] - 15s 816ms/step - loss: 0.0047 - val_loss: 0.0021\n"
          ],
          "name": "stdout"
        }
      ]
    },
    {
      "cell_type": "code",
      "metadata": {
        "id": "mlq756ajqV_7",
        "colab_type": "code",
        "colab": {
          "base_uri": "https://localhost:8080/",
          "height": 281
        },
        "outputId": "6c1c8988-ac35-445b-948e-f63055558f0d"
      },
      "source": [
        "from matplotlib import pyplot as plt\n",
        "import numpy as np\n",
        "\n",
        "loss = np.array(autoencoder_train.history['loss'])\n",
        "val_loss = np.array(autoencoder_train.history['val_loss'])\n",
        "epochs = np.array(range(50))\n",
        "plt.figure()\n",
        "plt.plot(epochs, loss, 'bo', label='Training loss')\n",
        "plt.plot(epochs, val_loss, 'b', label='Validation loss')\n",
        "plt.title('Training and validation loss')\n",
        "plt.legend()\n",
        "plt.show()"
      ],
      "execution_count": null,
      "outputs": [
        {
          "output_type": "display_data",
          "data": {
            "image/png": "[encoded data removed]",
            "text/plain": [
              "<Figure size 432x288 with 1 Axes>"
            ]
          },
          "metadata": {
            "tags": [],
            "needs_background": "light"
          }
        }
      ]
    },
    {
      "cell_type": "code",
      "metadata": {
        "id": "BwS8WuIf1Rlc",
        "colab_type": "code",
        "colab": {}
      },
      "source": [
        "U_net.save_weights('U_net_arch.h5')"
      ],
      "execution_count": null,
      "outputs": []
    },
    {
      "cell_type": "code",
      "metadata": {
        "id": "tZUGV6chnNP8",
        "colab_type": "code",
        "colab": {}
      },
      "source": [
        "from google.colab import files\n",
        "files.download('/content/U_net_arch.h5') "
      ],
      "execution_count": null,
      "outputs": []
    },
    {
      "cell_type": "markdown",
      "metadata": {
        "id": "O5NTLBWwS2cz",
        "colab_type": "text"
      },
      "source": [
        "predict\n"
      ]
    },
    {
      "cell_type": "code",
      "metadata": {
        "id": "LsrsLETUv8Qb",
        "colab_type": "code",
        "colab": {
          "base_uri": "https://localhost:8080/",
          "height": 34
        },
        "outputId": "de629b09-9158-4dce-c262-99b5233722da"
      },
      "source": [
        "STEP_SIZE_TEST=test_generator.n//test_generator.batch_size\n",
        "test_generator.reset()\n",
        "pred= U_net.predict(x = test_generator, \n",
        "                         batch_size=1,\n",
        "                         verbose = 1,\n",
        "                         steps = STEP_SIZE_TEST,\n",
        "                         max_queue_size = 10\n",
        "                         )"
      ],
      "execution_count": null,
      "outputs": [
        {
          "output_type": "stream",
          "text": [
            "5/5 [==============================] - 44s 9s/step\n"
          ],
          "name": "stdout"
        }
      ]
    },
    {
      "cell_type": "code",
      "metadata": {
        "id": "E7tmk5Befry3",
        "colab_type": "code",
        "colab": {
          "base_uri": "https://localhost:8080/",
          "height": 305
        },
        "outputId": "a6f63f32-6fa1-400f-c446-eaa3d226cbbd"
      },
      "source": [
        "from keras.preprocessing import image\n",
        "\n",
        "recon_arr = pred[0]*255\n",
        "pred_img = image.array_to_img(recon_arr)\n",
        "pred_img.save('my.png')\n",
        "display(pred_img)"
      ],
      "execution_count": null,
      "outputs": [
        {
          "output_type": "display_data",
          "data": {
            "image/png": "[encoded data removed]",
            "text/plain": [
              "<PIL.Image.Image image mode=RGB size=432x288 at 0x7F3B017E3C18>"
            ]
          },
          "metadata": {
            "tags": []
          }
        }
      ]
    },
    {
      "cell_type": "markdown",
      "metadata": {
        "id": "7_DmBsUmWLj9",
        "colab_type": "text"
      },
      "source": [
        "Get the Encoded layer and flatten it for the features which will be used in the classification model\n"
      ]
    },
    {
      "cell_type": "code",
      "metadata": {
        "id": "ludvECZDVJB5",
        "colab_type": "code",
        "colab": {
          "base_uri": "https://localhost:8080/",
          "height": 34
        },
        "outputId": "52ac4991-c7a2-454a-fbad-e9265f43a0ba"
      },
      "source": [
        "\n",
        "encoded = Model(inputs=U_net.input, outputs=U_net.get_layer('block_5_conv2').output)\n",
        "Y_test = encoded.predict(x = test_generator, \n",
        "                         batch_size=1,\n",
        "                         verbose = 1,\n",
        "                         steps = STEP_SIZE_TEST,\n",
        "                         max_queue_size = None)"
      ],
      "execution_count": null,
      "outputs": [
        {
          "output_type": "stream",
          "text": [
            "5/5 [==============================] - 1s 159ms/step\n"
          ],
          "name": "stdout"
        }
      ]
    },
    {
      "cell_type": "code",
      "metadata": {
        "id": "2EveyTqN5VyT",
        "colab_type": "code",
        "colab": {
          "base_uri": "https://localhost:8080/",
          "height": 34
        },
        "outputId": "d8bf6f27-b16d-47e8-def1-e991e466bd84"
      },
      "source": [
        "print(Y_test.shape)"
      ],
      "execution_count": null,
      "outputs": [
        {
          "output_type": "stream",
          "text": [
            "(155, 18, 27, 128)\n"
          ],
          "name": "stdout"
        }
      ]
    },
    {
      "cell_type": "code",
      "metadata": {
        "id": "O6YQ86TzrW_h",
        "colab_type": "code",
        "colab": {
          "base_uri": "https://localhost:8080/",
          "height": 34
        },
        "outputId": "31bff66f-d241-4e8c-b714-a59607ef315b"
      },
      "source": [
        "Y_train = encoded.predict(x = train_generator, \n",
        "                         batch_size=1,\n",
        "                         verbose = 1,\n",
        "                         steps = STEP_SIZE_TRAIN,\n",
        "                         max_queue_size = None)"
      ],
      "execution_count": null,
      "outputs": [
        {
          "output_type": "stream",
          "text": [
            "18/18 [==============================] - 14s 755ms/step\n"
          ],
          "name": "stdout"
        }
      ]
    },
    {
      "cell_type": "code",
      "metadata": {
        "id": "zK3elWCeqtKg",
        "colab_type": "code",
        "colab": {
          "base_uri": "https://localhost:8080/",
          "height": 34
        },
        "outputId": "11a50b9c-112c-4759-f7a6-dfc9b8197516"
      },
      "source": [
        "print(Y_train.shape)"
      ],
      "execution_count": null,
      "outputs": [
        {
          "output_type": "stream",
          "text": [
            "(486, 18, 27, 128)\n"
          ],
          "name": "stdout"
        }
      ]
    },
    {
      "cell_type": "code",
      "metadata": {
        "id": "VHeMkudUraEL",
        "colab_type": "code",
        "colab": {
          "base_uri": "https://localhost:8080/",
          "height": 34
        },
        "outputId": "879f77b9-c410-4813-d0e5-6a1cdb1842df"
      },
      "source": [
        "Y_valid = encoded.predict(x = valid_generator, \n",
        "                         batch_size=1,\n",
        "                         verbose = 1,\n",
        "                         steps = STEP_SIZE_VALID,\n",
        "                         max_queue_size = None)"
      ],
      "execution_count": null,
      "outputs": [
        {
          "output_type": "stream",
          "text": [
            "6/6 [==============================] - 1s 146ms/step\n"
          ],
          "name": "stdout"
        }
      ]
    },
    {
      "cell_type": "code",
      "metadata": {
        "id": "PkCTY2XA8dFB",
        "colab_type": "code",
        "colab": {
          "base_uri": "https://localhost:8080/",
          "height": 54
        },
        "outputId": "645f959e-0fe4-43ac-ff2a-63c10b2da3f8"
      },
      "source": [
        "\"\"\"\n",
        "mean_encoded_test = np.mean(Y_test,axis = 3)\n",
        "mean_encoded_train = np.mean(Y_train,axis = 3)\n",
        "mean_encoded_valid = np.mean(Y_valid,axis = 3)\n",
        "\n",
        "flatten_encoded_test = mean_encoded_test.reshape(mean_encoded_test.shape[0],-1)\n",
        "flatten_encoded_train = mean_encoded_train.reshape(mean_encoded_train.shape[0],-1)\n",
        "flatten_encoded_valid = mean_encoded_valid.reshape(mean_encoded_valid.shape[0],-1)\n",
        "\"\"\""
      ],
      "execution_count": null,
      "outputs": [
        {
          "output_type": "execute_result",
          "data": {
            "text/plain": [
              "'\\nmean_encoded_test = np.mean(Y_test,axis = 3)\\nmean_encoded_train = np.mean(Y_train,axis = 3)\\nmean_encoded_valid = np.mean(Y_valid,axis = 3)\\n\\nflatten_encoded_test = mean_encoded_test.reshape(mean_encoded_test.shape[0],-1)\\nflatten_encoded_train = mean_encoded_train.reshape(mean_encoded_train.shape[0],-1)\\nflatten_encoded_valid = mean_encoded_valid.reshape(mean_encoded_valid.shape[0],-1)\\n'"
            ]
          },
          "metadata": {
            "tags": []
          },
          "execution_count": 26
        }
      ]
    },
    {
      "cell_type": "code",
      "metadata": {
        "id": "6BwHWJgivehW",
        "colab_type": "code",
        "colab": {}
      },
      "source": [
        "flatten_encoded_test = Y_test.reshape(Y_test.shape[0],-1)\n",
        "flatten_encoded_train = Y_train.reshape(Y_train.shape[0],-1)\n",
        "flatten_encoded_valid = Y_valid.reshape(Y_valid.shape[0],-1)"
      ],
      "execution_count": null,
      "outputs": []
    },
    {
      "cell_type": "code",
      "metadata": {
        "id": "UX1sDWDJuojz",
        "colab_type": "code",
        "colab": {
          "base_uri": "https://localhost:8080/",
          "height": 34
        },
        "outputId": "3e0c761d-138c-43ae-9833-154634c584af"
      },
      "source": [
        "print(flatten_encoded_valid.shape)"
      ],
      "execution_count": null,
      "outputs": [
        {
          "output_type": "stream",
          "text": [
            "(150, 62208)\n"
          ],
          "name": "stdout"
        }
      ]
    },
    {
      "cell_type": "code",
      "metadata": {
        "id": "SUn5_Soue-1l",
        "colab_type": "code",
        "colab": {}
      },
      "source": [
        "#np.savetxt(\"encoded_features.csv\", flatten_encoded, delimiter=\",\")"
      ],
      "execution_count": null,
      "outputs": []
    },
    {
      "cell_type": "markdown",
      "metadata": {
        "id": "Mpqrg06T-cFs",
        "colab_type": "text"
      },
      "source": [
        "Labels\n"
      ]
    },
    {
      "cell_type": "code",
      "metadata": {
        "id": "OxNaJj5ssx0Z",
        "colab_type": "code",
        "colab": {}
      },
      "source": [
        "import os\n",
        "def get_file_length(file_path):\n",
        "  path, dirs, files = next(os.walk(file_path))\n",
        "  count = len(files)\n",
        "  #print(count)\n",
        "  return count\n"
      ],
      "execution_count": null,
      "outputs": []
    },
    {
      "cell_type": "code",
      "metadata": {
        "id": "8N8LRv5Ivyer",
        "colab_type": "code",
        "colab": {}
      },
      "source": [
        "def get_labels(c1,c2,c3,c4,c5):\n",
        "  labels = np.zeros((c1,1))\n",
        "  labels = np.concatenate((labels,np.ones((c2,1))))\n",
        "  labels = np.concatenate((labels,2*np.ones((c3,1))))\n",
        "  labels = np.concatenate((labels,3*np.ones((c4,1))))\n",
        "  labels = np.concatenate((labels,4*np.ones((c5,1))))\n",
        "  #print(labels.shape)\n",
        "  return labels\n",
        "  "
      ],
      "execution_count": null,
      "outputs": []
    },
    {
      "cell_type": "code",
      "metadata": {
        "id": "WS2fXhGhqAlM",
        "colab_type": "code",
        "colab": {}
      },
      "source": [
        "# File Length \n",
        "belly_pain_count_test = get_file_length(r'/content/drive/My Drive/Baby Cry/donateacry-corpus-master/png/test/belly_pain')\n",
        "burping_count_test = get_file_length(r'/content/drive/My Drive/Baby Cry/donateacry-corpus-master/png/test/burping')\n",
        "discomfort_count_test = get_file_length(r'/content/drive/My Drive/Baby Cry/donateacry-corpus-master/png/test/discomfort')\n",
        "hungry_count_test = get_file_length(r'/content/drive/My Drive/Baby Cry/donateacry-corpus-master/png/test/hungry')\n",
        "tired_count_test = get_file_length(r'/content/drive/My Drive/Baby Cry/donateacry-corpus-master/png/test/tired')\n",
        "belly_pain_count_train = get_file_length(r'/content/drive/My Drive/Baby Cry/donateacry-corpus-master/png/train/belly_pain')\n",
        "burping_count_train = get_file_length(r'/content/drive/My Drive/Baby Cry/donateacry-corpus-master/png/train/burping')\n",
        "discomfort_count_train = get_file_length(r'/content/drive/My Drive/Baby Cry/donateacry-corpus-master/png/train/discomfort')\n",
        "hungry_count_train = get_file_length(r'/content/drive/My Drive/Baby Cry/donateacry-corpus-master/png/train/hungry')\n",
        "tired_count_train = get_file_length(r'/content/drive/My Drive/Baby Cry/donateacry-corpus-master/png/train/tired')\n",
        "belly_pain_count_valid = get_file_length(r'/content/drive/My Drive/Baby Cry/donateacry-corpus-master/png/val/belly_pain')\n",
        "burping_count_valid = get_file_length(r'/content/drive/My Drive/Baby Cry/donateacry-corpus-master/png/val/burping')\n",
        "discomfort_count_valid = get_file_length(r'/content/drive/My Drive/Baby Cry/donateacry-corpus-master/png/val/discomfort')\n",
        "hungry_count_valid = get_file_length(r'/content/drive/My Drive/Baby Cry/donateacry-corpus-master/png/val/hungry')\n",
        "tired_count_valid = get_file_length(r'/content/drive/My Drive/Baby Cry/donateacry-corpus-master/png/val/tired')"
      ],
      "execution_count": null,
      "outputs": []
    },
    {
      "cell_type": "code",
      "metadata": {
        "id": "X8GW1SzeH4Sk",
        "colab_type": "code",
        "colab": {}
      },
      "source": [
        "labels_test = get_labels(belly_pain_count_test , burping_count_test , discomfort_count_test , hungry_count_test , tired_count_test)\n",
        "labels_train = get_labels(belly_pain_count_train , burping_count_train , discomfort_count_train , hungry_count_train , tired_count_train)\n",
        "labels_valid = get_labels(belly_pain_count_valid , burping_count_valid , discomfort_count_valid , hungry_count_valid , tired_count_valid)"
      ],
      "execution_count": null,
      "outputs": []
    },
    {
      "cell_type": "markdown",
      "metadata": {
        "id": "9UvXWrszsbuN",
        "colab_type": "text"
      },
      "source": [
        "Dimensionality reduction and representation using PCA/t-SNE "
      ]
    },
    {
      "cell_type": "code",
      "metadata": {
        "id": "7c1r0fCmsjia",
        "colab_type": "code",
        "colab": {
          "base_uri": "https://localhost:8080/",
          "height": 441
        },
        "outputId": "76ee644e-1bc7-4736-e107-adcc72ade82c"
      },
      "source": [
        "from sklearn.decomposition import PCA\n",
        "from sklearn.manifold import TSNE\n",
        "%matplotlib inline\n",
        "import matplotlib.pyplot as plt\n",
        "from mpl_toolkits.mplot3d import Axes3D\n",
        "import seaborn as sns\n",
        "\n",
        "# flatten the orignal \n",
        "flatten_orig_encoded_test = Y_test.reshape(Y_test.shape[0], -1)\n",
        "flatten_orig_encoded_train = Y_train.reshape(Y_train.shape[0], -1)\n",
        "flatten_orig_encoded_valid = Y_valid.reshape(Y_valid.shape[0], -1)\n",
        "print(flatten_orig_encoded_test.shape)\n",
        "\n",
        "\n",
        "\n",
        "import pandas as pd\n",
        "\n",
        "#converting to a dataframe to plot easily\n",
        "\n",
        "# https://towardsdatascience.com/visualising-high-dimensional-datasets-using-pca-and-t-sne-in-python-8ef87e7915b\n",
        "\n",
        "feat_cols = [ 'feature'+str(i) for i in range(flatten_orig_encoded_test.shape[1]) ]\n",
        "df_test = pd.DataFrame(flatten_orig_encoded_test,columns=feat_cols)\n",
        "df_test['y'] = labels_test\n",
        "df_test['label'] = df_test['y'].apply(lambda i: str(i))\n",
        "print('Size of the dataframe: {}'.format(df_test.shape))\n",
        "\n",
        "#------------------------------------------------------------------------\n",
        "\"\"\"\n",
        "feat_cols = [ 'feature'+str(i) for i in range(flatten_orig_encoded_valid.shape[1]) ]\n",
        "df_valid = pd.DataFrame(flatten_orig_encoded_valid,columns=feat_cols)\n",
        "df_valid['y'] = labels_valid[0:175]\n",
        "df_valid['label'] = df_valid['y'].apply(lambda i: str(i))\n",
        "print('Size of the dataframe: {}'.format(df_valid.shape))\n",
        "\"\"\"\n",
        "#-----------------------------------------------------------------\n",
        "pca_test = PCA(n_components=10)\n",
        "pca_result_test = pca_test.fit_transform(df_test[feat_cols].values)\n",
        "df_test['pca-'+str(1)] = pca_result_test[:,0]\n",
        "df_test['pca-'+str(2)] = pca_result_test[:,1] \n",
        "df_test['pca-'+str(3)] = pca_result_test[:,2]\n",
        "df_test['pca-'+str(4)] = pca_result_test[:,3]\n",
        "df_test['pca-'+str(5)] = pca_result_test[:,4] \n",
        "df_test['pca-'+str(6)] = pca_result_test[:,5]\n",
        "print('Explained variation per principal component: {}'.format(pca_test.explained_variance_ratio_))\n",
        "#-------------------------------------------------------------------\n"
      ],
      "execution_count": null,
      "outputs": [
        {
          "output_type": "stream",
          "text": [
            "(155, 62208)\n"
          ],
          "name": "stdout"
        },
        {
          "output_type": "stream",
          "text": [
            "/usr/local/lib/python3.6/dist-packages/statsmodels/tools/_testing.py:19: FutureWarning: pandas.util.testing is deprecated. Use the functions in the public API at pandas.testing instead.\n",
            "  import pandas.util.testing as tm\n"
          ],
          "name": "stderr"
        },
        {
          "output_type": "error",
          "ename": "ValueError",
          "evalue": "ignored",
          "traceback": [
            "\u001b[0;31m---------------------------------------------------------------------------\u001b[0m",
            "\u001b[0;31mValueError\u001b[0m                                Traceback (most recent call last)",
            "\u001b[0;32m<ipython-input-26-cf67f0c11c76>\u001b[0m in \u001b[0;36m<module>\u001b[0;34m()\u001b[0m\n\u001b[1;32m     22\u001b[0m \u001b[0mfeat_cols\u001b[0m \u001b[0;34m=\u001b[0m \u001b[0;34m[\u001b[0m \u001b[0;34m'feature'\u001b[0m\u001b[0;34m+\u001b[0m\u001b[0mstr\u001b[0m\u001b[0;34m(\u001b[0m\u001b[0mi\u001b[0m\u001b[0;34m)\u001b[0m \u001b[0;32mfor\u001b[0m \u001b[0mi\u001b[0m \u001b[0;32min\u001b[0m \u001b[0mrange\u001b[0m\u001b[0;34m(\u001b[0m\u001b[0mflatten_orig_encoded_test\u001b[0m\u001b[0;34m.\u001b[0m\u001b[0mshape\u001b[0m\u001b[0;34m[\u001b[0m\u001b[0;36m1\u001b[0m\u001b[0;34m]\u001b[0m\u001b[0;34m)\u001b[0m \u001b[0;34m]\u001b[0m\u001b[0;34m\u001b[0m\u001b[0;34m\u001b[0m\u001b[0m\n\u001b[1;32m     23\u001b[0m \u001b[0mdf_test\u001b[0m \u001b[0;34m=\u001b[0m \u001b[0mpd\u001b[0m\u001b[0;34m.\u001b[0m\u001b[0mDataFrame\u001b[0m\u001b[0;34m(\u001b[0m\u001b[0mflatten_orig_encoded_test\u001b[0m\u001b[0;34m,\u001b[0m\u001b[0mcolumns\u001b[0m\u001b[0;34m=\u001b[0m\u001b[0mfeat_cols\u001b[0m\u001b[0;34m)\u001b[0m\u001b[0;34m\u001b[0m\u001b[0;34m\u001b[0m\u001b[0m\n\u001b[0;32m---> 24\u001b[0;31m \u001b[0mdf_test\u001b[0m\u001b[0;34m[\u001b[0m\u001b[0;34m'y'\u001b[0m\u001b[0;34m]\u001b[0m \u001b[0;34m=\u001b[0m \u001b[0mlabels_test\u001b[0m\u001b[0;34m\u001b[0m\u001b[0;34m\u001b[0m\u001b[0m\n\u001b[0m\u001b[1;32m     25\u001b[0m \u001b[0mdf_test\u001b[0m\u001b[0;34m[\u001b[0m\u001b[0;34m'label'\u001b[0m\u001b[0;34m]\u001b[0m \u001b[0;34m=\u001b[0m \u001b[0mdf_test\u001b[0m\u001b[0;34m[\u001b[0m\u001b[0;34m'y'\u001b[0m\u001b[0;34m]\u001b[0m\u001b[0;34m.\u001b[0m\u001b[0mapply\u001b[0m\u001b[0;34m(\u001b[0m\u001b[0;32mlambda\u001b[0m \u001b[0mi\u001b[0m\u001b[0;34m:\u001b[0m \u001b[0mstr\u001b[0m\u001b[0;34m(\u001b[0m\u001b[0mi\u001b[0m\u001b[0;34m)\u001b[0m\u001b[0;34m)\u001b[0m\u001b[0;34m\u001b[0m\u001b[0;34m\u001b[0m\u001b[0m\n\u001b[1;32m     26\u001b[0m \u001b[0mprint\u001b[0m\u001b[0;34m(\u001b[0m\u001b[0;34m'Size of the dataframe: {}'\u001b[0m\u001b[0;34m.\u001b[0m\u001b[0mformat\u001b[0m\u001b[0;34m(\u001b[0m\u001b[0mdf_test\u001b[0m\u001b[0;34m.\u001b[0m\u001b[0mshape\u001b[0m\u001b[0;34m)\u001b[0m\u001b[0;34m)\u001b[0m\u001b[0;34m\u001b[0m\u001b[0;34m\u001b[0m\u001b[0m\n",
            "\u001b[0;32m/usr/local/lib/python3.6/dist-packages/pandas/core/frame.py\u001b[0m in \u001b[0;36m__setitem__\u001b[0;34m(self, key, value)\u001b[0m\n\u001b[1;32m   2936\u001b[0m         \u001b[0;32melse\u001b[0m\u001b[0;34m:\u001b[0m\u001b[0;34m\u001b[0m\u001b[0;34m\u001b[0m\u001b[0m\n\u001b[1;32m   2937\u001b[0m             \u001b[0;31m# set column\u001b[0m\u001b[0;34m\u001b[0m\u001b[0;34m\u001b[0m\u001b[0;34m\u001b[0m\u001b[0m\n\u001b[0;32m-> 2938\u001b[0;31m             \u001b[0mself\u001b[0m\u001b[0;34m.\u001b[0m\u001b[0m_set_item\u001b[0m\u001b[0;34m(\u001b[0m\u001b[0mkey\u001b[0m\u001b[0;34m,\u001b[0m \u001b[0mvalue\u001b[0m\u001b[0;34m)\u001b[0m\u001b[0;34m\u001b[0m\u001b[0;34m\u001b[0m\u001b[0m\n\u001b[0m\u001b[1;32m   2939\u001b[0m \u001b[0;34m\u001b[0m\u001b[0m\n\u001b[1;32m   2940\u001b[0m     \u001b[0;32mdef\u001b[0m \u001b[0m_setitem_slice\u001b[0m\u001b[0;34m(\u001b[0m\u001b[0mself\u001b[0m\u001b[0;34m,\u001b[0m \u001b[0mkey\u001b[0m\u001b[0;34m,\u001b[0m \u001b[0mvalue\u001b[0m\u001b[0;34m)\u001b[0m\u001b[0;34m:\u001b[0m\u001b[0;34m\u001b[0m\u001b[0;34m\u001b[0m\u001b[0m\n",
            "\u001b[0;32m/usr/local/lib/python3.6/dist-packages/pandas/core/frame.py\u001b[0m in \u001b[0;36m_set_item\u001b[0;34m(self, key, value)\u001b[0m\n\u001b[1;32m   2998\u001b[0m \u001b[0;34m\u001b[0m\u001b[0m\n\u001b[1;32m   2999\u001b[0m         \u001b[0mself\u001b[0m\u001b[0;34m.\u001b[0m\u001b[0m_ensure_valid_index\u001b[0m\u001b[0;34m(\u001b[0m\u001b[0mvalue\u001b[0m\u001b[0;34m)\u001b[0m\u001b[0;34m\u001b[0m\u001b[0;34m\u001b[0m\u001b[0m\n\u001b[0;32m-> 3000\u001b[0;31m         \u001b[0mvalue\u001b[0m \u001b[0;34m=\u001b[0m \u001b[0mself\u001b[0m\u001b[0;34m.\u001b[0m\u001b[0m_sanitize_column\u001b[0m\u001b[0;34m(\u001b[0m\u001b[0mkey\u001b[0m\u001b[0;34m,\u001b[0m \u001b[0mvalue\u001b[0m\u001b[0;34m)\u001b[0m\u001b[0;34m\u001b[0m\u001b[0;34m\u001b[0m\u001b[0m\n\u001b[0m\u001b[1;32m   3001\u001b[0m         \u001b[0mNDFrame\u001b[0m\u001b[0;34m.\u001b[0m\u001b[0m_set_item\u001b[0m\u001b[0;34m(\u001b[0m\u001b[0mself\u001b[0m\u001b[0;34m,\u001b[0m \u001b[0mkey\u001b[0m\u001b[0;34m,\u001b[0m \u001b[0mvalue\u001b[0m\u001b[0;34m)\u001b[0m\u001b[0;34m\u001b[0m\u001b[0;34m\u001b[0m\u001b[0m\n\u001b[1;32m   3002\u001b[0m \u001b[0;34m\u001b[0m\u001b[0m\n",
            "\u001b[0;32m/usr/local/lib/python3.6/dist-packages/pandas/core/frame.py\u001b[0m in \u001b[0;36m_sanitize_column\u001b[0;34m(self, key, value, broadcast)\u001b[0m\n\u001b[1;32m   3634\u001b[0m \u001b[0;34m\u001b[0m\u001b[0m\n\u001b[1;32m   3635\u001b[0m             \u001b[0;31m# turn me into an ndarray\u001b[0m\u001b[0;34m\u001b[0m\u001b[0;34m\u001b[0m\u001b[0;34m\u001b[0m\u001b[0m\n\u001b[0;32m-> 3636\u001b[0;31m             \u001b[0mvalue\u001b[0m \u001b[0;34m=\u001b[0m \u001b[0msanitize_index\u001b[0m\u001b[0;34m(\u001b[0m\u001b[0mvalue\u001b[0m\u001b[0;34m,\u001b[0m \u001b[0mself\u001b[0m\u001b[0;34m.\u001b[0m\u001b[0mindex\u001b[0m\u001b[0;34m,\u001b[0m \u001b[0mcopy\u001b[0m\u001b[0;34m=\u001b[0m\u001b[0;32mFalse\u001b[0m\u001b[0;34m)\u001b[0m\u001b[0;34m\u001b[0m\u001b[0;34m\u001b[0m\u001b[0m\n\u001b[0m\u001b[1;32m   3637\u001b[0m             \u001b[0;32mif\u001b[0m \u001b[0;32mnot\u001b[0m \u001b[0misinstance\u001b[0m\u001b[0;34m(\u001b[0m\u001b[0mvalue\u001b[0m\u001b[0;34m,\u001b[0m \u001b[0;34m(\u001b[0m\u001b[0mnp\u001b[0m\u001b[0;34m.\u001b[0m\u001b[0mndarray\u001b[0m\u001b[0;34m,\u001b[0m \u001b[0mIndex\u001b[0m\u001b[0;34m)\u001b[0m\u001b[0;34m)\u001b[0m\u001b[0;34m:\u001b[0m\u001b[0;34m\u001b[0m\u001b[0;34m\u001b[0m\u001b[0m\n\u001b[1;32m   3638\u001b[0m                 \u001b[0;32mif\u001b[0m \u001b[0misinstance\u001b[0m\u001b[0;34m(\u001b[0m\u001b[0mvalue\u001b[0m\u001b[0;34m,\u001b[0m \u001b[0mlist\u001b[0m\u001b[0;34m)\u001b[0m \u001b[0;32mand\u001b[0m \u001b[0mlen\u001b[0m\u001b[0;34m(\u001b[0m\u001b[0mvalue\u001b[0m\u001b[0;34m)\u001b[0m \u001b[0;34m>\u001b[0m \u001b[0;36m0\u001b[0m\u001b[0;34m:\u001b[0m\u001b[0;34m\u001b[0m\u001b[0;34m\u001b[0m\u001b[0m\n",
            "\u001b[0;32m/usr/local/lib/python3.6/dist-packages/pandas/core/internals/construction.py\u001b[0m in \u001b[0;36msanitize_index\u001b[0;34m(data, index, copy)\u001b[0m\n\u001b[1;32m    609\u001b[0m \u001b[0;34m\u001b[0m\u001b[0m\n\u001b[1;32m    610\u001b[0m     \u001b[0;32mif\u001b[0m \u001b[0mlen\u001b[0m\u001b[0;34m(\u001b[0m\u001b[0mdata\u001b[0m\u001b[0;34m)\u001b[0m \u001b[0;34m!=\u001b[0m \u001b[0mlen\u001b[0m\u001b[0;34m(\u001b[0m\u001b[0mindex\u001b[0m\u001b[0;34m)\u001b[0m\u001b[0;34m:\u001b[0m\u001b[0;34m\u001b[0m\u001b[0;34m\u001b[0m\u001b[0m\n\u001b[0;32m--> 611\u001b[0;31m         \u001b[0;32mraise\u001b[0m \u001b[0mValueError\u001b[0m\u001b[0;34m(\u001b[0m\u001b[0;34m\"Length of values does not match length of index\"\u001b[0m\u001b[0;34m)\u001b[0m\u001b[0;34m\u001b[0m\u001b[0;34m\u001b[0m\u001b[0m\n\u001b[0m\u001b[1;32m    612\u001b[0m \u001b[0;34m\u001b[0m\u001b[0m\n\u001b[1;32m    613\u001b[0m     \u001b[0;32mif\u001b[0m \u001b[0misinstance\u001b[0m\u001b[0;34m(\u001b[0m\u001b[0mdata\u001b[0m\u001b[0;34m,\u001b[0m \u001b[0mABCIndexClass\u001b[0m\u001b[0;34m)\u001b[0m \u001b[0;32mand\u001b[0m \u001b[0;32mnot\u001b[0m \u001b[0mcopy\u001b[0m\u001b[0;34m:\u001b[0m\u001b[0;34m\u001b[0m\u001b[0;34m\u001b[0m\u001b[0m\n",
            "\u001b[0;31mValueError\u001b[0m: Length of values does not match length of index"
          ]
        }
      ]
    },
    {
      "cell_type": "code",
      "metadata": {
        "id": "CSsIHhOsLzUa",
        "colab_type": "code",
        "colab": {
          "base_uri": "https://localhost:8080/",
          "height": 67
        },
        "outputId": "4973bb07-b832-4c6f-a133-602ddd9c9cb3"
      },
      "source": [
        "\n",
        "feat_cols = [ 'feature'+str(i) for i in range(flatten_orig_encoded_train.shape[1]) ]\n",
        "df_train = pd.DataFrame(flatten_orig_encoded_train,columns=feat_cols)\n",
        "df_train['y'] = labels_train[0:540]\n",
        "df_train['label'] = df_train['y'].apply(lambda i: str(i))\n",
        "print('Size of the dataframe: {}'.format(df_train.shape))\n",
        "\n",
        "pca_train = PCA(n_components = 10)\n",
        "pca_result_train = pca_train.fit_transform(df_train[feat_cols].values)\n",
        "df_train['pca-'+str(1)] = pca_result_train[:,0]\n",
        "df_train['pca-'+str(2)] = pca_result_train[:,1] \n",
        "df_train['pca-'+str(3)] = pca_result_train[:,2]\n",
        "df_train['pca-'+str(4)] = pca_result_train[:,3]\n",
        "df_train['pca-'+str(5)] = pca_result_train[:,4] \n",
        "df_train['pca-'+str(6)] = pca_result_train[:,5]\n",
        "print('Explained variation per principal component: {}'.format(pca_train.explained_variance_ratio_))"
      ],
      "execution_count": null,
      "outputs": [
        {
          "output_type": "stream",
          "text": [
            "Size of the dataframe: (540, 124418)\n",
            "Explained variation per principal component: [0.57674974 0.17651898 0.05825965 0.03318185 0.01788197 0.0150546\n",
            " 0.01227596 0.00844524 0.0065871  0.00618282]\n"
          ],
          "name": "stdout"
        }
      ]
    },
    {
      "cell_type": "markdown",
      "metadata": {
        "id": "P-5jf_5SGKuf",
        "colab_type": "text"
      },
      "source": [
        "Get numpy PCA results"
      ]
    },
    {
      "cell_type": "code",
      "metadata": {
        "id": "dQydsXEQGPvQ",
        "colab_type": "code",
        "colab": {
          "base_uri": "https://localhost:8080/",
          "height": 34
        },
        "outputId": "ca65ab47-2f83-4759-a002-186e01a0a165"
      },
      "source": [
        "PCA1 = df_test['pca-'+str(1)].to_numpy()\n",
        "PCA2 = df_test['pca-'+str(2)].to_numpy()\n",
        "PCA3 = df_test['pca-'+str(3)].to_numpy()\n",
        "PCA4 = df_test['pca-'+str(4)].to_numpy()\n",
        "PCA5 = df_test['pca-'+str(5)].to_numpy()\n",
        "PCA6 = df_test['pca-'+str(6)].to_numpy()\n",
        "\n",
        "PCA1  =np.reshape(PCA1,(PCA1.shape[0],1))\n",
        "PCA2  =np.reshape(PCA2,(PCA2.shape[0],1))\n",
        "PCA3  =np.reshape(PCA3,(PCA3.shape[0],1))\n",
        "PCA4  =np.reshape(PCA4,(PCA4.shape[0],1))\n",
        "PCA5  =np.reshape(PCA5,(PCA5.shape[0],1))\n",
        "PCA6  =np.reshape(PCA6,(PCA6.shape[0],1))\n",
        "\n",
        "PCA_test_results = np.concatenate((PCA1,PCA2,PCA3,PCA4,PCA5,PCA6),axis = 1)\n",
        "print(PCA_test_results.shape)"
      ],
      "execution_count": null,
      "outputs": [
        {
          "output_type": "stream",
          "text": [
            "(186, 6)\n"
          ],
          "name": "stdout"
        }
      ]
    },
    {
      "cell_type": "code",
      "metadata": {
        "id": "siq1R88fNkOS",
        "colab_type": "code",
        "colab": {
          "base_uri": "https://localhost:8080/",
          "height": 34
        },
        "outputId": "19a41965-c43c-4f21-ca9f-091f673678e3"
      },
      "source": [
        "PCA1 = df_train['pca-'+str(1)].to_numpy()\n",
        "PCA2 = df_train['pca-'+str(2)].to_numpy()\n",
        "PCA3 = df_train['pca-'+str(3)].to_numpy()\n",
        "PCA4 = df_train['pca-'+str(4)].to_numpy()\n",
        "PCA5 = df_train['pca-'+str(5)].to_numpy()\n",
        "PCA6 = df_train['pca-'+str(6)].to_numpy()\n",
        "\n",
        "PCA1  =np.reshape(PCA1,(PCA1.shape[0],1))\n",
        "PCA2  =np.reshape(PCA2,(PCA2.shape[0],1))\n",
        "PCA3  =np.reshape(PCA3,(PCA3.shape[0],1))\n",
        "PCA4  =np.reshape(PCA4,(PCA4.shape[0],1))\n",
        "PCA5  =np.reshape(PCA5,(PCA5.shape[0],1))\n",
        "PCA6  =np.reshape(PCA6,(PCA6.shape[0],1))\n",
        "\n",
        "PCA_train_results = np.concatenate((PCA1,PCA2,PCA3,PCA4,PCA5,PCA6),axis = 1)\n",
        "print(PCA_train_results.shape)"
      ],
      "execution_count": null,
      "outputs": [
        {
          "output_type": "stream",
          "text": [
            "(540, 6)\n"
          ],
          "name": "stdout"
        }
      ]
    },
    {
      "cell_type": "markdown",
      "metadata": {
        "id": "uuRP2zCBZ7Nb",
        "colab_type": "text"
      },
      "source": [
        "# Differenct Classifiers\n",
        "\n"
      ]
    },
    {
      "cell_type": "markdown",
      "metadata": {
        "id": "z0nUccgBU-T2",
        "colab_type": "text"
      },
      "source": [
        "KNN\n"
      ]
    },
    {
      "cell_type": "code",
      "metadata": {
        "id": "4z7tkI0RVptG",
        "colab_type": "code",
        "colab": {
          "base_uri": "https://localhost:8080/",
          "height": 54
        },
        "outputId": "31012f99-1b09-4ccf-f4bb-e20bb63c3374"
      },
      "source": [
        "\"\"\"\n",
        "from sklearn import neighbors\n",
        "\n",
        "clf = neighbors.KNeighborsClassifier(n_neighbors = 4, weights = 'distance') \n",
        "clf.fit(flatten_encoded_train,labels_train[0:540])\n",
        "\"\"\""
      ],
      "execution_count": null,
      "outputs": [
        {
          "output_type": "execute_result",
          "data": {
            "text/plain": [
              "\"\\nfrom sklearn import neighbors\\n\\nclf = neighbors.KNeighborsClassifier(n_neighbors = 4, weights = 'distance') \\nclf.fit(flatten_encoded_train,labels_train[0:540])\\n\""
            ]
          },
          "metadata": {
            "tags": []
          },
          "execution_count": 38
        }
      ]
    },
    {
      "cell_type": "markdown",
      "metadata": {
        "id": "yXVSz0OjVADS",
        "colab_type": "text"
      },
      "source": [
        "SVM\n"
      ]
    },
    {
      "cell_type": "code",
      "metadata": {
        "id": "Gg2la01xVBfy",
        "colab_type": "code",
        "colab": {
          "base_uri": "https://localhost:8080/",
          "height": 138
        },
        "outputId": "2b7d7995-0fc2-40ef-988c-545bb5ededff"
      },
      "source": [
        "from sklearn import svm\n",
        "\n",
        "clf = svm.SVC(C= 5.0, kernel='rbf', gamma='scale',\n",
        "                coef0=0.0, shrinking=True, probability=False,tol=0.001,\n",
        "                cache_size=200, class_weight=None, verbose=False, max_iter=-1,\n",
        "                decision_function_shape='ovr', break_ties=True, random_state=None)\n",
        "clf.fit(flatten_encoded_train,labels_train[0:486])"
      ],
      "execution_count": null,
      "outputs": [
        {
          "output_type": "stream",
          "text": [
            "/usr/local/lib/python3.6/dist-packages/sklearn/utils/validation.py:760: DataConversionWarning: A column-vector y was passed when a 1d array was expected. Please change the shape of y to (n_samples, ), for example using ravel().\n",
            "  y = column_or_1d(y, warn=True)\n"
          ],
          "name": "stderr"
        },
        {
          "output_type": "execute_result",
          "data": {
            "text/plain": [
              "SVC(C=5.0, break_ties=True, cache_size=200, class_weight=None, coef0=0.0,\n",
              "    decision_function_shape='ovr', degree=3, gamma='scale', kernel='rbf',\n",
              "    max_iter=-1, probability=False, random_state=None, shrinking=True,\n",
              "    tol=0.001, verbose=False)"
            ]
          },
          "metadata": {
            "tags": []
          },
          "execution_count": 29
        }
      ]
    },
    {
      "cell_type": "markdown",
      "metadata": {
        "id": "NfTLM4kzVB4v",
        "colab_type": "text"
      },
      "source": [
        "Random Forest"
      ]
    },
    {
      "cell_type": "code",
      "metadata": {
        "id": "OipwQzLLVHZ5",
        "colab_type": "code",
        "colab": {
          "base_uri": "https://localhost:8080/",
          "height": 54
        },
        "outputId": "baf87555-3ebe-4dbd-98cc-d77bb2df1adc"
      },
      "source": [
        "\"\"\"\n",
        "from sklearn.ensemble import RandomForestClassifier\n",
        "clf = RandomForestClassifier(n_estimators=100, criterion='gini', max_depth=None,\n",
        "                             min_samples_split=2, min_samples_leaf=1, min_weight_fraction_leaf=0.0,\n",
        "                             max_features='auto', max_leaf_nodes=None, min_impurity_decrease=0.0,\n",
        "                             min_impurity_split=None, bootstrap=True, oob_score=False,\n",
        "                             n_jobs=None, random_state=None, verbose=0, warm_start=False,\n",
        "                             class_weight=None, ccp_alpha=0.0, max_samples=None)\n",
        "\n",
        "clf.fit(flatten_encoded_train,labels_train[0:540])\n",
        "\"\"\""
      ],
      "execution_count": null,
      "outputs": [
        {
          "output_type": "execute_result",
          "data": {
            "text/plain": [
              "\"\\nfrom sklearn.ensemble import RandomForestClassifier\\nclf = RandomForestClassifier(n_estimators=100, criterion='gini', max_depth=None,\\n                             min_samples_split=2, min_samples_leaf=1, min_weight_fraction_leaf=0.0,\\n                             max_features='auto', max_leaf_nodes=None, min_impurity_decrease=0.0,\\n                             min_impurity_split=None, bootstrap=True, oob_score=False,\\n                             n_jobs=None, random_state=None, verbose=0, warm_start=False,\\n                             class_weight=None, ccp_alpha=0.0, max_samples=None)\\n\\nclf.fit(flatten_encoded_train,labels_train[0:540])\\n\""
            ]
          },
          "metadata": {
            "tags": []
          },
          "execution_count": 40
        }
      ]
    },
    {
      "cell_type": "code",
      "metadata": {
        "id": "rCY-nFyayd-Q",
        "colab_type": "code",
        "colab": {}
      },
      "source": [
        "#predicted_valid = clf.predict(flatten_encoded_valid)\n",
        "predicted_test = clf.predict(flatten_encoded_test)"
      ],
      "execution_count": null,
      "outputs": []
    },
    {
      "cell_type": "code",
      "metadata": {
        "id": "Htxb8Q10zajv",
        "colab_type": "code",
        "colab": {
          "base_uri": "https://localhost:8080/",
          "height": 34
        },
        "outputId": "65bb584c-2a62-4697-ab3d-9cce4f4ffa70"
      },
      "source": [
        "predicted_test = predicted_test.reshape((len(predicted_test),1))\n",
        "print(predicted_test.shape)"
      ],
      "execution_count": null,
      "outputs": [
        {
          "output_type": "stream",
          "text": [
            "(155, 1)\n"
          ],
          "name": "stdout"
        }
      ]
    },
    {
      "cell_type": "code",
      "metadata": {
        "id": "gFBGdPGw2Bk-",
        "colab_type": "code",
        "colab": {
          "base_uri": "https://localhost:8080/",
          "height": 34
        },
        "outputId": "89d04301-c145-495f-9dbc-fb1da5cf0893"
      },
      "source": [
        "import sklearn\n",
        "acc_test = sklearn.metrics.accuracy_score(predicted_test,labels_test[0:155])\n",
        "print(acc_test)\n",
        "#acc_valid = sklearn.metrics.accuracy_score(predicted_valid,labels_valid[0:170])\n",
        "#print(acc_valid)\n"
      ],
      "execution_count": null,
      "outputs": [
        {
          "output_type": "stream",
          "text": [
            "0.4967741935483871\n"
          ],
          "name": "stdout"
        }
      ]
    },
    {
      "cell_type": "code",
      "metadata": {
        "id": "M7oYlteU_jrW",
        "colab_type": "code",
        "colab": {}
      },
      "source": [
        "rndperm = np.random.permutation(df_test.shape[0])\n",
        "plt.figure(figsize=(16,10))\n",
        "sns.scatterplot(\n",
        "    x=\"pca-one\", y=\"pca-two\",\n",
        "    hue=\"y\",\n",
        "    palette=sns.color_palette(\"hls\", 5),\n",
        "    data=df_test.loc[rndperm,:],\n",
        "    legend=\"full\",\n",
        "    alpha=1\n",
        ")"
      ],
      "execution_count": null,
      "outputs": []
    },
    {
      "cell_type": "code",
      "metadata": {
        "id": "oFzapOB6B8ob",
        "colab_type": "code",
        "colab": {}
      },
      "source": [
        "\"\"\"\n",
        "plt.figure(figsize=(16,10))\n",
        "sns.scatterplot(\n",
        "    x=\"pca-one\", y=\"pca-two\",\n",
        "    hue=\"y\",\n",
        "    palette=sns.color_palette(\"hls\", 5),\n",
        "    data=df_train.loc[rndperm,:],\n",
        "    legend=\"full\",\n",
        "    alpha=1\n",
        ")\n",
        "\"\"\""
      ],
      "execution_count": null,
      "outputs": []
    },
    {
      "cell_type": "code",
      "metadata": {
        "id": "KHmNBk9iApBw",
        "colab_type": "code",
        "colab": {}
      },
      "source": [
        "ax = plt.figure(figsize=(16,10)).gca(projection='3d')\n",
        "ax.scatter(\n",
        "    xs=df_test.loc[rndperm,:][\"pca-one\"], \n",
        "    ys=df_test.loc[rndperm,:][\"pca-two\"], \n",
        "    zs=df_test.loc[rndperm,:][\"pca-three\"], \n",
        "    c=df_test.loc[rndperm,:][\"y\"], \n",
        "    cmap='tab10'\n",
        ")\n",
        "ax.set_xlabel('pca-one')\n",
        "ax.set_ylabel('pca-two')\n",
        "ax.set_zlabel('pca-three')\n",
        "plt.show()"
      ],
      "execution_count": null,
      "outputs": []
    },
    {
      "cell_type": "markdown",
      "metadata": {
        "id": "GvPvQTrdQei0",
        "colab_type": "text"
      },
      "source": [
        "t-SNE"
      ]
    },
    {
      "cell_type": "code",
      "metadata": {
        "id": "825B4UheVEfK",
        "colab_type": "code",
        "colab": {}
      },
      "source": [
        "N = 10000\n",
        "df_subset = df_test.loc[rndperm[:N],:].copy()\n",
        "data_subset = df_subset[feat_cols].values\n",
        "pca = PCA(n_components=3)\n",
        "pca_result = pca.fit_transform(data_subset)\n",
        "df_subset['pca-one'] = pca_result[:,0]\n",
        "df_subset['pca-two'] = pca_result[:,1] \n",
        "df_subset['pca-three'] = pca_result[:,2]\n",
        "print('Explained variation per principal component: {}'.format(pca.explained_variance_ratio_))"
      ],
      "execution_count": null,
      "outputs": []
    },
    {
      "cell_type": "code",
      "metadata": {
        "id": "mAVnu06MVZVb",
        "colab_type": "code",
        "colab": {}
      },
      "source": [
        "import time\n",
        "time_start = time.time()\n",
        "tsne = TSNE(n_components=2, verbose=1, perplexity=40, n_iter=300)\n",
        "tsne_results = tsne.fit_transform(data_subset)\n",
        "print('t-SNE done! Time elapsed: {} seconds'.format(time.time()-time_start))"
      ],
      "execution_count": null,
      "outputs": []
    },
    {
      "cell_type": "code",
      "metadata": {
        "id": "0T3hhOKVVjHf",
        "colab_type": "code",
        "colab": {}
      },
      "source": [
        "df_subset['tsne-2d-one'] = tsne_results[:,0]\n",
        "df_subset['tsne-2d-two'] = tsne_results[:,1]\n",
        "plt.figure(figsize=(16,10))\n",
        "sns.scatterplot(\n",
        "    x=\"tsne-2d-one\", y=\"tsne-2d-two\",\n",
        "    hue=\"y\",\n",
        "    palette=sns.color_palette(\"hls\", 5),\n",
        "    data=df_subset,\n",
        "    legend=\"full\",\n",
        "    alpha=1\n",
        ")"
      ],
      "execution_count": null,
      "outputs": []
    },
    {
      "cell_type": "code",
      "metadata": {
        "id": "r4clbJnzsQNO",
        "colab_type": "code",
        "colab": {}
      },
      "source": [
        "print(df_subset.shape)"
      ],
      "execution_count": null,
      "outputs": []
    },
    {
      "cell_type": "code",
      "metadata": {
        "id": "EGyg3g5sVmnE",
        "colab_type": "code",
        "colab": {}
      },
      "source": [
        "plt.figure(figsize=(16,7))\n",
        "ax1 = plt.subplot(1, 2, 1)\n",
        "sns.scatterplot(\n",
        "    x=\"pca-one\", y=\"pca-two\",\n",
        "    hue=\"y\",\n",
        "    palette=sns.color_palette(\"hls\", 5),\n",
        "    data=df_subset,\n",
        "    legend=\"full\",\n",
        "    alpha=1,\n",
        "    ax=ax1\n",
        ")\n",
        "ax2 = plt.subplot(1, 2, 2)\n",
        "sns.scatterplot(\n",
        "    x=\"tsne-2d-one\", y=\"tsne-2d-two\",\n",
        "    hue=\"y\",\n",
        "    palette=sns.color_palette(\"hls\", 5),\n",
        "    data=df_subset,\n",
        "    legend=\"full\",\n",
        "    alpha=1,\n",
        "    ax=ax2\n",
        ")\n"
      ],
      "execution_count": null,
      "outputs": []
    },
    {
      "cell_type": "code",
      "metadata": {
        "id": "4EtlmtKaQgEB",
        "colab_type": "code",
        "colab": {}
      },
      "source": [
        "pca_50 = PCA(n_components=50)\n",
        "pca_result_50 = pca_50.fit_transform(data_subset)\n",
        "print('Cumulative explained variation for 50 principal components: {}'.format(np.sum(pca_50.explained_variance_ratio_)))"
      ],
      "execution_count": null,
      "outputs": []
    }
  ]
}