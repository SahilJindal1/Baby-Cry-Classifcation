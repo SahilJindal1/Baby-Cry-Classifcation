{
 "cells": [
  {
   "cell_type": "code",
   "execution_count": 1,
   "metadata": {},
   "outputs": [],
   "source": [
    "import tensorflow as tf\n",
    "physical_devices = tf.config.experimental.list_physical_devices('GPU')\n",
    "tf.config.experimental.set_memory_growth(physical_devices[0], True)"
   ]
  },
  {
   "cell_type": "code",
   "execution_count": 2,
   "metadata": {},
   "outputs": [],
   "source": [
    "import tensorflow as tf\n",
    "from tensorflow.keras.preprocessing.image import ImageDataGenerator\n",
    "from tensorflow.keras.layers import AveragePooling2D, Dropout, Flatten, Dense, Input\n",
    "from tensorflow.keras.models import Model\n",
    "from tensorflow.keras.optimizers import Adam, SGD\n",
    "from tensorflow.keras.utils import to_categorical\n",
    "import numpy as np\n",
    "import os"
   ]
  },
  {
   "cell_type": "code",
   "execution_count": null,
   "metadata": {},
   "outputs": [],
   "source": []
  },
  {
   "cell_type": "code",
   "execution_count": null,
   "metadata": {},
   "outputs": [],
   "source": []
  },
  {
   "cell_type": "code",
   "execution_count": 3,
   "metadata": {},
   "outputs": [],
   "source": [
    "import numpy as np\n",
    "\n",
    "import os\n",
    "\n",
    "clip_folder1 = r'/home/user/Sahil/orig_mean_var_kurt_skew'\n",
    "\n",
    "data_68 = []\n",
    "labels_68=  []\n",
    "\n",
    "for filename in os.listdir(clip_folder1):\n",
    "    fname = clip_folder1 + '/' + filename\n",
    "    labels_68.append(filename[-5])\n",
    "    x = np.load(fname)\n",
    "    data_68.append(x)"
   ]
  },
  {
   "cell_type": "code",
   "execution_count": 4,
   "metadata": {},
   "outputs": [],
   "source": [
    "clip_folder2 = r'/home/user/Sahil/mean_var_kurt_skew'\n",
    "\n",
    "data_dct = []\n",
    "labels_dct=  []\n",
    "\n",
    "for filename in os.listdir(clip_folder2):\n",
    "    fname = clip_folder2 + '/' + filename\n",
    "    labels_dct.append(filename[-5])\n",
    "    x = np.load(fname)\n",
    "    data_dct.append(x)"
   ]
  },
  {
   "cell_type": "code",
   "execution_count": 5,
   "metadata": {},
   "outputs": [
    {
     "data": {
      "text/plain": [
       "True"
      ]
     },
     "execution_count": 5,
     "metadata": {},
     "output_type": "execute_result"
    }
   ],
   "source": [
    "labels_dct ==labels_68"
   ]
  },
  {
   "cell_type": "code",
   "execution_count": 6,
   "metadata": {},
   "outputs": [
    {
     "name": "stdout",
     "output_type": "stream",
     "text": [
      "(5587, 272)\n",
      "(5587, 512)\n"
     ]
    }
   ],
   "source": [
    "data_68 = np.array(data_68)\n",
    "labels = np.array(labels_68)\n",
    "data_dct = np.array(data_dct)\n",
    "print(data_68.shape)\n",
    "print(data_dct.shape)"
   ]
  },
  {
   "cell_type": "code",
   "execution_count": 7,
   "metadata": {},
   "outputs": [
    {
     "name": "stdout",
     "output_type": "stream",
     "text": [
      "(5587, 784)\n"
     ]
    }
   ],
   "source": [
    "data = np.concatenate((data_dct,data_68),axis = -1)\n",
    "print (data.shape)"
   ]
  },
  {
   "cell_type": "code",
   "execution_count": null,
   "metadata": {},
   "outputs": [],
   "source": []
  },
  {
   "cell_type": "code",
   "execution_count": 8,
   "metadata": {},
   "outputs": [
    {
     "name": "stdout",
     "output_type": "stream",
     "text": [
      "(4469, 784) (4469,)\n",
      "(1118, 784) (1118,)\n"
     ]
    }
   ],
   "source": [
    "from sklearn.model_selection import train_test_split\n",
    "train_data, test_data, train_labels , test_labels = train_test_split(data, labels, test_size=0.2,random_state = 1)\n",
    "print (train_data.shape, train_labels.shape)\n",
    "print (test_data.shape, test_labels.shape)"
   ]
  },
  {
   "cell_type": "code",
   "execution_count": 9,
   "metadata": {},
   "outputs": [],
   "source": [
    "train_labels = to_categorical(train_labels)\n",
    "test_labels = to_categorical(test_labels)\n"
   ]
  },
  {
   "cell_type": "code",
   "execution_count": 10,
   "metadata": {},
   "outputs": [],
   "source": [
    "initializer = tf.keras.initializers.Orthogonal()\n",
    "\n",
    "mlp_input = Input(shape=(784,))\n",
    "\n",
    "\n",
    "x = Dense(512, activation='softmax',kernel_initializer=initializer)(mlp_input)\n",
    "x = Dropout(0.2)(x)\n",
    "x = Dense(128, activation='softmax',kernel_initializer=initializer)(x)\n",
    "x = Dropout(0.2)(x)\n",
    "x = Dense(32, activation='softmax',kernel_initializer=initializer)(x)\n",
    "x = Dropout(0.2)(x)\n",
    "x = Dense(8, activation='softmax',kernel_initializer=initializer)(x)\n",
    "x = Dropout(0.2)(x)\n",
    "mlp_output = Dense(3, activation='softmax',kernel_initializer=initializer)(x)\n",
    "\n",
    "\n",
    "model = Model(inputs=mlp_input, outputs=mlp_output)\n",
    "\n",
    "regularizer = tf.keras.regularizers.l2(.01)\n",
    "\n",
    "for layer in model.layers:\n",
    "    if layer.trainable == True:\n",
    "        for attr in ['kernel_regularizer']:\n",
    "            if hasattr(layer, attr):\n",
    "                setattr(layer, attr, regularizer)"
   ]
  },
  {
   "cell_type": "code",
   "execution_count": 11,
   "metadata": {},
   "outputs": [
    {
     "name": "stdout",
     "output_type": "stream",
     "text": [
      "Model: \"model\"\n",
      "_________________________________________________________________\n",
      "Layer (type)                 Output Shape              Param #   \n",
      "=================================================================\n",
      "input_1 (InputLayer)         [(None, 784)]             0         \n",
      "_________________________________________________________________\n",
      "dense (Dense)                (None, 512)               401920    \n",
      "_________________________________________________________________\n",
      "dropout (Dropout)            (None, 512)               0         \n",
      "_________________________________________________________________\n",
      "dense_1 (Dense)              (None, 128)               65664     \n",
      "_________________________________________________________________\n",
      "dropout_1 (Dropout)          (None, 128)               0         \n",
      "_________________________________________________________________\n",
      "dense_2 (Dense)              (None, 32)                4128      \n",
      "_________________________________________________________________\n",
      "dropout_2 (Dropout)          (None, 32)                0         \n",
      "_________________________________________________________________\n",
      "dense_3 (Dense)              (None, 8)                 264       \n",
      "_________________________________________________________________\n",
      "dropout_3 (Dropout)          (None, 8)                 0         \n",
      "_________________________________________________________________\n",
      "dense_4 (Dense)              (None, 3)                 27        \n",
      "=================================================================\n",
      "Total params: 472,003\n",
      "Trainable params: 472,003\n",
      "Non-trainable params: 0\n",
      "_________________________________________________________________\n"
     ]
    }
   ],
   "source": [
    "opt=Adam(lr=1e-4)\n",
    "model.compile(loss='categorical_crossentropy', optimizer=opt,metrics=[\"accuracy\"])\n",
    "model.summary()\n"
   ]
  },
  {
   "cell_type": "code",
   "execution_count": 12,
   "metadata": {},
   "outputs": [
    {
     "name": "stdout",
     "output_type": "stream",
     "text": [
      "Epoch 1/100\n",
      "140/140 - 1s - loss: 1.0612 - accuracy: 0.4437 - val_loss: 1.0464 - val_accuracy: 0.8050\n",
      "Epoch 2/100\n",
      "140/140 - 1s - loss: 1.0316 - accuracy: 0.6469 - val_loss: 1.0187 - val_accuracy: 0.8050\n",
      "Epoch 3/100\n",
      "140/140 - 1s - loss: 1.0066 - accuracy: 0.7407 - val_loss: 0.9921 - val_accuracy: 0.8050\n",
      "Epoch 4/100\n",
      "140/140 - 1s - loss: 0.9800 - accuracy: 0.7769 - val_loss: 0.9669 - val_accuracy: 0.8050\n",
      "Epoch 5/100\n",
      "140/140 - 1s - loss: 0.9579 - accuracy: 0.7926 - val_loss: 0.9430 - val_accuracy: 0.8050\n",
      "Epoch 6/100\n",
      "140/140 - 1s - loss: 0.9336 - accuracy: 0.7953 - val_loss: 0.9203 - val_accuracy: 0.8050\n",
      "Epoch 7/100\n",
      "140/140 - 1s - loss: 0.9138 - accuracy: 0.7968 - val_loss: 0.8989 - val_accuracy: 0.8050\n",
      "Epoch 8/100\n",
      "140/140 - 1s - loss: 0.8927 - accuracy: 0.7975 - val_loss: 0.8788 - val_accuracy: 0.8050\n",
      "Epoch 9/100\n",
      "140/140 - 1s - loss: 0.8749 - accuracy: 0.7975 - val_loss: 0.8598 - val_accuracy: 0.8050\n",
      "Epoch 10/100\n",
      "140/140 - 1s - loss: 0.8551 - accuracy: 0.7975 - val_loss: 0.8418 - val_accuracy: 0.8050\n",
      "Epoch 11/100\n",
      "140/140 - 1s - loss: 0.8396 - accuracy: 0.7975 - val_loss: 0.8250 - val_accuracy: 0.8050\n",
      "Epoch 12/100\n",
      "140/140 - 1s - loss: 0.8232 - accuracy: 0.7975 - val_loss: 0.8091 - val_accuracy: 0.8050\n",
      "Epoch 13/100\n",
      "140/140 - 1s - loss: 0.8076 - accuracy: 0.7975 - val_loss: 0.7942 - val_accuracy: 0.8050\n",
      "Epoch 14/100\n",
      "140/140 - 1s - loss: 0.7960 - accuracy: 0.7975 - val_loss: 0.7805 - val_accuracy: 0.8050\n",
      "Epoch 15/100\n",
      "140/140 - 1s - loss: 0.7825 - accuracy: 0.7975 - val_loss: 0.7676 - val_accuracy: 0.8050\n",
      "Epoch 16/100\n",
      "140/140 - 1s - loss: 0.7721 - accuracy: 0.7975 - val_loss: 0.7555 - val_accuracy: 0.8050\n",
      "Epoch 17/100\n",
      "140/140 - 1s - loss: 0.7609 - accuracy: 0.7975 - val_loss: 0.7443 - val_accuracy: 0.8050\n",
      "Epoch 18/100\n",
      "140/140 - 1s - loss: 0.7491 - accuracy: 0.7975 - val_loss: 0.7337 - val_accuracy: 0.8050\n",
      "Epoch 19/100\n",
      "140/140 - 1s - loss: 0.7399 - accuracy: 0.7975 - val_loss: 0.7240 - val_accuracy: 0.8050\n",
      "Epoch 20/100\n",
      "140/140 - 1s - loss: 0.7310 - accuracy: 0.7975 - val_loss: 0.7150 - val_accuracy: 0.8050\n",
      "Epoch 21/100\n",
      "140/140 - 1s - loss: 0.7257 - accuracy: 0.7975 - val_loss: 0.7066 - val_accuracy: 0.8050\n",
      "Epoch 22/100\n",
      "140/140 - 1s - loss: 0.7154 - accuracy: 0.7975 - val_loss: 0.6988 - val_accuracy: 0.8050\n",
      "Epoch 23/100\n",
      "140/140 - 1s - loss: 0.7111 - accuracy: 0.7975 - val_loss: 0.6916 - val_accuracy: 0.8050\n",
      "Epoch 24/100\n",
      "140/140 - 1s - loss: 0.7020 - accuracy: 0.7975 - val_loss: 0.6849 - val_accuracy: 0.8050\n",
      "Epoch 25/100\n",
      "140/140 - 1s - loss: 0.6988 - accuracy: 0.7975 - val_loss: 0.6787 - val_accuracy: 0.8050\n",
      "Epoch 26/100\n",
      "140/140 - 1s - loss: 0.6935 - accuracy: 0.7975 - val_loss: 0.6730 - val_accuracy: 0.8050\n",
      "Epoch 27/100\n",
      "140/140 - 1s - loss: 0.6878 - accuracy: 0.7975 - val_loss: 0.6677 - val_accuracy: 0.8050\n",
      "Epoch 28/100\n",
      "140/140 - 1s - loss: 0.6810 - accuracy: 0.7975 - val_loss: 0.6629 - val_accuracy: 0.8050\n",
      "Epoch 29/100\n",
      "140/140 - 1s - loss: 0.6808 - accuracy: 0.7975 - val_loss: 0.6584 - val_accuracy: 0.8050\n",
      "Epoch 30/100\n",
      "140/140 - 1s - loss: 0.6749 - accuracy: 0.7975 - val_loss: 0.6542 - val_accuracy: 0.8050\n",
      "Epoch 31/100\n",
      "140/140 - 1s - loss: 0.6730 - accuracy: 0.7975 - val_loss: 0.6504 - val_accuracy: 0.8050\n",
      "Epoch 32/100\n",
      "140/140 - 1s - loss: 0.6686 - accuracy: 0.7975 - val_loss: 0.6469 - val_accuracy: 0.8050\n",
      "Epoch 33/100\n",
      "140/140 - 1s - loss: 0.6647 - accuracy: 0.7975 - val_loss: 0.6436 - val_accuracy: 0.8050\n",
      "Epoch 34/100\n",
      "140/140 - 1s - loss: 0.6601 - accuracy: 0.7975 - val_loss: 0.6405 - val_accuracy: 0.8050\n",
      "Epoch 35/100\n",
      "140/140 - 1s - loss: 0.6617 - accuracy: 0.7975 - val_loss: 0.6377 - val_accuracy: 0.8050\n",
      "Epoch 36/100\n",
      "140/140 - 1s - loss: 0.6588 - accuracy: 0.7975 - val_loss: 0.6351 - val_accuracy: 0.8050\n",
      "Epoch 37/100\n",
      "140/140 - 1s - loss: 0.6552 - accuracy: 0.7975 - val_loss: 0.6328 - val_accuracy: 0.8050\n",
      "Epoch 38/100\n",
      "140/140 - 1s - loss: 0.6563 - accuracy: 0.7975 - val_loss: 0.6306 - val_accuracy: 0.8050\n",
      "Epoch 39/100\n",
      "140/140 - 1s - loss: 0.6545 - accuracy: 0.7975 - val_loss: 0.6285 - val_accuracy: 0.8050\n",
      "Epoch 40/100\n",
      "140/140 - 1s - loss: 0.6514 - accuracy: 0.7975 - val_loss: 0.6266 - val_accuracy: 0.8050\n",
      "Epoch 41/100\n",
      "140/140 - 1s - loss: 0.6502 - accuracy: 0.7975 - val_loss: 0.6248 - val_accuracy: 0.8050\n",
      "Epoch 42/100\n",
      "140/140 - 1s - loss: 0.6469 - accuracy: 0.7975 - val_loss: 0.6232 - val_accuracy: 0.8050\n",
      "Epoch 43/100\n",
      "140/140 - 1s - loss: 0.6438 - accuracy: 0.7975 - val_loss: 0.6216 - val_accuracy: 0.8050\n",
      "Epoch 44/100\n",
      "140/140 - 1s - loss: 0.6444 - accuracy: 0.7975 - val_loss: 0.6202 - val_accuracy: 0.8050\n",
      "Epoch 45/100\n",
      "140/140 - 1s - loss: 0.6445 - accuracy: 0.7975 - val_loss: 0.6189 - val_accuracy: 0.8050\n",
      "Epoch 46/100\n",
      "140/140 - 1s - loss: 0.6427 - accuracy: 0.7975 - val_loss: 0.6177 - val_accuracy: 0.8050\n",
      "Epoch 47/100\n",
      "140/140 - 1s - loss: 0.6439 - accuracy: 0.7975 - val_loss: 0.6167 - val_accuracy: 0.8050\n",
      "Epoch 48/100\n",
      "140/140 - 1s - loss: 0.6424 - accuracy: 0.7975 - val_loss: 0.6156 - val_accuracy: 0.8050\n",
      "Epoch 49/100\n",
      "140/140 - 1s - loss: 0.6430 - accuracy: 0.7975 - val_loss: 0.6146 - val_accuracy: 0.8050\n",
      "Epoch 50/100\n",
      "140/140 - 1s - loss: 0.6415 - accuracy: 0.7975 - val_loss: 0.6137 - val_accuracy: 0.8050\n",
      "Epoch 51/100\n",
      "140/140 - 1s - loss: 0.6398 - accuracy: 0.7975 - val_loss: 0.6129 - val_accuracy: 0.8050\n",
      "Epoch 52/100\n",
      "140/140 - 1s - loss: 0.6402 - accuracy: 0.7975 - val_loss: 0.6121 - val_accuracy: 0.8050\n",
      "Epoch 53/100\n",
      "140/140 - 1s - loss: 0.6414 - accuracy: 0.7975 - val_loss: 0.6114 - val_accuracy: 0.8050\n",
      "Epoch 54/100\n",
      "140/140 - 1s - loss: 0.6405 - accuracy: 0.7975 - val_loss: 0.6108 - val_accuracy: 0.8050\n",
      "Epoch 55/100\n",
      "140/140 - 1s - loss: 0.6373 - accuracy: 0.7975 - val_loss: 0.6100 - val_accuracy: 0.8050\n",
      "Epoch 56/100\n",
      "140/140 - 1s - loss: 0.6383 - accuracy: 0.7975 - val_loss: 0.6095 - val_accuracy: 0.8050\n",
      "Epoch 57/100\n",
      "140/140 - 1s - loss: 0.6383 - accuracy: 0.7975 - val_loss: 0.6089 - val_accuracy: 0.8050\n",
      "Epoch 58/100\n",
      "140/140 - 1s - loss: 0.6361 - accuracy: 0.7975 - val_loss: 0.6084 - val_accuracy: 0.8050\n",
      "Epoch 59/100\n",
      "140/140 - 1s - loss: 0.6358 - accuracy: 0.7975 - val_loss: 0.6079 - val_accuracy: 0.8050\n",
      "Epoch 60/100\n",
      "140/140 - 1s - loss: 0.6369 - accuracy: 0.7975 - val_loss: 0.6074 - val_accuracy: 0.8050\n",
      "Epoch 61/100\n",
      "140/140 - 1s - loss: 0.6358 - accuracy: 0.7975 - val_loss: 0.6070 - val_accuracy: 0.8050\n",
      "Epoch 62/100\n",
      "140/140 - 1s - loss: 0.6367 - accuracy: 0.7975 - val_loss: 0.6066 - val_accuracy: 0.8050\n",
      "Epoch 63/100\n",
      "140/140 - 1s - loss: 0.6367 - accuracy: 0.7975 - val_loss: 0.6062 - val_accuracy: 0.8050\n",
      "Epoch 64/100\n",
      "140/140 - 1s - loss: 0.6359 - accuracy: 0.7975 - val_loss: 0.6059 - val_accuracy: 0.8050\n",
      "Epoch 65/100\n",
      "140/140 - 1s - loss: 0.6339 - accuracy: 0.7975 - val_loss: 0.6056 - val_accuracy: 0.8050\n",
      "Epoch 66/100\n",
      "140/140 - 1s - loss: 0.6385 - accuracy: 0.7975 - val_loss: 0.6053 - val_accuracy: 0.8050\n",
      "Epoch 67/100\n",
      "140/140 - 1s - loss: 0.6379 - accuracy: 0.7975 - val_loss: 0.6050 - val_accuracy: 0.8050\n",
      "Epoch 68/100\n",
      "140/140 - 1s - loss: 0.6356 - accuracy: 0.7975 - val_loss: 0.6048 - val_accuracy: 0.8050\n",
      "Epoch 69/100\n",
      "140/140 - 1s - loss: 0.6338 - accuracy: 0.7975 - val_loss: 0.6045 - val_accuracy: 0.8050\n",
      "Epoch 70/100\n",
      "140/140 - 1s - loss: 0.6353 - accuracy: 0.7975 - val_loss: 0.6043 - val_accuracy: 0.8050\n",
      "Epoch 71/100\n",
      "140/140 - 1s - loss: 0.6353 - accuracy: 0.7975 - val_loss: 0.6041 - val_accuracy: 0.8050\n",
      "Epoch 72/100\n",
      "140/140 - 1s - loss: 0.6311 - accuracy: 0.7975 - val_loss: 0.6039 - val_accuracy: 0.8050\n",
      "Epoch 73/100\n",
      "140/140 - 1s - loss: 0.6354 - accuracy: 0.7975 - val_loss: 0.6037 - val_accuracy: 0.8050\n",
      "Epoch 74/100\n",
      "140/140 - 1s - loss: 0.6336 - accuracy: 0.7975 - val_loss: 0.6036 - val_accuracy: 0.8050\n",
      "Epoch 75/100\n",
      "140/140 - 1s - loss: 0.6333 - accuracy: 0.7975 - val_loss: 0.6033 - val_accuracy: 0.8050\n",
      "Epoch 76/100\n",
      "140/140 - 1s - loss: 0.6320 - accuracy: 0.7975 - val_loss: 0.6032 - val_accuracy: 0.8050\n",
      "Epoch 77/100\n",
      "140/140 - 1s - loss: 0.6344 - accuracy: 0.7975 - val_loss: 0.6031 - val_accuracy: 0.8050\n",
      "Epoch 78/100\n",
      "140/140 - 1s - loss: 0.6338 - accuracy: 0.7975 - val_loss: 0.6030 - val_accuracy: 0.8050\n",
      "Epoch 79/100\n",
      "140/140 - 1s - loss: 0.6319 - accuracy: 0.7975 - val_loss: 0.6028 - val_accuracy: 0.8050\n",
      "Epoch 80/100\n",
      "140/140 - 1s - loss: 0.6327 - accuracy: 0.7975 - val_loss: 0.6027 - val_accuracy: 0.8050\n",
      "Epoch 81/100\n",
      "140/140 - 1s - loss: 0.6339 - accuracy: 0.7975 - val_loss: 0.6026 - val_accuracy: 0.8050\n"
     ]
    },
    {
     "name": "stdout",
     "output_type": "stream",
     "text": [
      "Epoch 82/100\n",
      "140/140 - 1s - loss: 0.6358 - accuracy: 0.7975 - val_loss: 0.6025 - val_accuracy: 0.8050\n",
      "Epoch 83/100\n",
      "140/140 - 1s - loss: 0.6368 - accuracy: 0.7975 - val_loss: 0.6024 - val_accuracy: 0.8050\n",
      "Epoch 84/100\n",
      "140/140 - 1s - loss: 0.6293 - accuracy: 0.7975 - val_loss: 0.6023 - val_accuracy: 0.8050\n",
      "Epoch 85/100\n",
      "140/140 - 1s - loss: 0.6321 - accuracy: 0.7975 - val_loss: 0.6022 - val_accuracy: 0.8050\n",
      "Epoch 86/100\n",
      "140/140 - 1s - loss: 0.6321 - accuracy: 0.7975 - val_loss: 0.6021 - val_accuracy: 0.8050\n",
      "Epoch 87/100\n",
      "140/140 - 1s - loss: 0.6335 - accuracy: 0.7975 - val_loss: 0.6020 - val_accuracy: 0.8050\n",
      "Epoch 88/100\n",
      "140/140 - 1s - loss: 0.6328 - accuracy: 0.7975 - val_loss: 0.6020 - val_accuracy: 0.8050\n",
      "Epoch 89/100\n",
      "140/140 - 1s - loss: 0.6353 - accuracy: 0.7975 - val_loss: 0.6019 - val_accuracy: 0.8050\n",
      "Epoch 90/100\n",
      "140/140 - 1s - loss: 0.6326 - accuracy: 0.7975 - val_loss: 0.6018 - val_accuracy: 0.8050\n",
      "Epoch 91/100\n",
      "140/140 - 1s - loss: 0.6311 - accuracy: 0.7975 - val_loss: 0.6018 - val_accuracy: 0.8050\n",
      "Epoch 92/100\n",
      "140/140 - 1s - loss: 0.6313 - accuracy: 0.7975 - val_loss: 0.6017 - val_accuracy: 0.8050\n",
      "Epoch 93/100\n",
      "140/140 - 1s - loss: 0.6321 - accuracy: 0.7975 - val_loss: 0.6016 - val_accuracy: 0.8050\n",
      "Epoch 94/100\n",
      "140/140 - 1s - loss: 0.6332 - accuracy: 0.7975 - val_loss: 0.6016 - val_accuracy: 0.8050\n",
      "Epoch 95/100\n",
      "140/140 - 1s - loss: 0.6305 - accuracy: 0.7975 - val_loss: 0.6015 - val_accuracy: 0.8050\n",
      "Epoch 96/100\n",
      "140/140 - 1s - loss: 0.6321 - accuracy: 0.7975 - val_loss: 0.6015 - val_accuracy: 0.8050\n",
      "Epoch 97/100\n",
      "140/140 - 1s - loss: 0.6337 - accuracy: 0.7975 - val_loss: 0.6014 - val_accuracy: 0.8050\n",
      "Epoch 98/100\n",
      "140/140 - 1s - loss: 0.6339 - accuracy: 0.7975 - val_loss: 0.6014 - val_accuracy: 0.8050\n",
      "Epoch 99/100\n",
      "140/140 - 1s - loss: 0.6309 - accuracy: 0.7975 - val_loss: 0.6013 - val_accuracy: 0.8050\n",
      "Epoch 100/100\n",
      "140/140 - 1s - loss: 0.6298 - accuracy: 0.7975 - val_loss: 0.6013 - val_accuracy: 0.8050\n"
     ]
    }
   ],
   "source": [
    "history = model.fit(train_data, train_labels, batch_size=32, validation_data=(test_data, test_labels), epochs=100, verbose=2)"
   ]
  },
  {
   "cell_type": "code",
   "execution_count": 13,
   "metadata": {},
   "outputs": [
    {
     "name": "stdout",
     "output_type": "stream",
     "text": [
      "dict_keys(['loss', 'accuracy', 'val_loss', 'val_accuracy'])\n"
     ]
    },
    {
     "data": {
      "image/png": "[encoded data removed]",
      "text/plain": [
       "<Figure size 432x288 with 1 Axes>"
      ]
     },
     "metadata": {
      "needs_background": "light"
     },
     "output_type": "display_data"
    },
    {
     "data": {
      "image/png": "[encoded data removed]",
      "text/plain": [
       "<Figure size 432x288 with 1 Axes>"
      ]
     },
     "metadata": {
      "needs_background": "light"
     },
     "output_type": "display_data"
    }
   ],
   "source": [
    "import matplotlib.pyplot as plt\n",
    "print(history.history.keys())\n",
    "# summarize history for accuracy\n",
    "plt.plot(history.history['accuracy'])\n",
    "plt.plot(history.history['val_accuracy'])\n",
    "plt.title('model accuracy')\n",
    "plt.ylabel('accuracy')\n",
    "plt.xlabel('epoch')\n",
    "plt.legend(['train', 'test'], loc='upper left')\n",
    "plt.show()\n",
    "# summarize history for loss\n",
    "plt.plot(history.history['loss'])\n",
    "plt.plot(history.history['val_loss'])\n",
    "plt.title('model loss')\n",
    "plt.ylabel('loss')\n",
    "plt.xlabel('epoch')\n",
    "plt.legend(['train', 'test'], loc='upper left')\n",
    "plt.show()"
   ]
  },
  {
   "cell_type": "code",
   "execution_count": null,
   "metadata": {},
   "outputs": [],
   "source": []
  },
  {
   "cell_type": "code",
   "execution_count": null,
   "metadata": {},
   "outputs": [],
   "source": []
  },
  {
   "cell_type": "code",
   "execution_count": null,
   "metadata": {},
   "outputs": [],
   "source": []
  }
 ],
 "metadata": {
  "kernelspec": {
   "display_name": "Python 3",
   "language": "python",
   "name": "python3"
  },
  "language_info": {
   "codemirror_mode": {
    "name": "ipython",
    "version": 3
   },
   "file_extension": ".py",
   "mimetype": "text/x-python",
   "name": "python",
   "nbconvert_exporter": "python",
   "pygments_lexer": "ipython3",
   "version": "3.8.5"
  }
 },
 "nbformat": 4,
 "nbformat_minor": 4
}
