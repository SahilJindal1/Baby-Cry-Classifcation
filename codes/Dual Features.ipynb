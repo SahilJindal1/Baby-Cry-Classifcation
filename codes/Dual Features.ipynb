{
 "cells": [
  {
   "cell_type": "code",
   "execution_count": 1,
   "metadata": {},
   "outputs": [],
   "source": [
    "import tensorflow as tf\n",
    "physical_devices = tf.config.experimental.list_physical_devices('GPU')\n",
    "tf.config.experimental.set_memory_growth(physical_devices[0], True)"
   ]
  },
  {
   "cell_type": "code",
   "execution_count": 2,
   "metadata": {},
   "outputs": [],
   "source": [
    "import tensorflow as tf\n",
    "from tensorflow.keras.preprocessing.image import ImageDataGenerator\n",
    "from tensorflow.keras.layers import AveragePooling2D, Dropout, Flatten, Dense, Input\n",
    "from tensorflow.keras.applications import VGG16, MobileNetV2\n",
    "from tensorflow.keras.models import Model\n",
    "from tensorflow.keras.optimizers import Adam, SGD\n",
    "from tensorflow.keras.utils import to_categorical\n",
    "import numpy as np\n",
    "import os"
   ]
  },
  {
   "cell_type": "markdown",
   "metadata": {},
   "source": [
    "Spectrogram loading..."
   ]
  },
  {
   "cell_type": "code",
   "execution_count": 3,
   "metadata": {},
   "outputs": [],
   "source": [
    "mel_folder = r\"/home/user/Sahil/Mel_spec\"\n",
    "labels = []\n",
    "data = []\n",
    "for filename in os.listdir(mel_folder):\n",
    "    labels.append(filename[len(filename)-5])\n",
    "    file = np.load(mel_folder + '/' + filename)\n",
    "    data.append(file)\n"
   ]
  },
  {
   "cell_type": "code",
   "execution_count": 4,
   "metadata": {},
   "outputs": [],
   "source": [
    "data = np.array(data)\n",
    "labels = np.array(labels)"
   ]
  },
  {
   "cell_type": "code",
   "execution_count": 5,
   "metadata": {},
   "outputs": [
    {
     "name": "stdout",
     "output_type": "stream",
     "text": [
      "(7624, 128, 65) (7624,)\n",
      "(1906, 128, 65) (1906,)\n"
     ]
    }
   ],
   "source": [
    "from sklearn.model_selection import train_test_split\n",
    "train_data, test_data, train_labels , test_labels = train_test_split(data, labels, test_size=0.2,random_state = 1)\n",
    "print (train_data.shape, train_labels.shape)\n",
    "print (test_data.shape, test_labels.shape)"
   ]
  },
  {
   "cell_type": "code",
   "execution_count": 6,
   "metadata": {},
   "outputs": [],
   "source": [
    "train_labels = to_categorical(train_labels)\n",
    "test_labels = to_categorical(test_labels)\n"
   ]
  },
  {
   "cell_type": "code",
   "execution_count": 7,
   "metadata": {},
   "outputs": [
    {
     "name": "stdout",
     "output_type": "stream",
     "text": [
      "(7624, 128, 65, 1)\n",
      "(1906, 128, 65, 1)\n"
     ]
    }
   ],
   "source": [
    "train_data = np.reshape(train_data,(train_data.shape[0],train_data.shape[1],train_data.shape[2],1))\n",
    "test_data = np.reshape(test_data,(test_data.shape[0],test_data.shape[1],test_data.shape[2],1))\n",
    "print(train_data.shape)\n",
    "print(test_data.shape)"
   ]
  },
  {
   "cell_type": "markdown",
   "metadata": {},
   "source": [
    "68 features loading..."
   ]
  },
  {
   "cell_type": "code",
   "execution_count": 8,
   "metadata": {},
   "outputs": [],
   "source": [
    "import os\n",
    "import numpy as np\n",
    "folder_path = r\"/home/user/Sahil/features_68_numpy\"\n",
    "data = []\n",
    "labels = []\n",
    "for filename in os.listdir(folder_path):\n",
    "    if filename.endswith('.npy'):\n",
    "        file_path = os.path.join(folder_path,filename)\n",
    "        file = np.load(file_path)\n",
    "        #print(filename)\n",
    "        #print(file.shape)\n",
    "        data.append(file)\n",
    "        labels.append(filename[len(filename)-5])"
   ]
  },
  {
   "cell_type": "code",
   "execution_count": 9,
   "metadata": {},
   "outputs": [],
   "source": [
    "data = np.array(data)\n",
    "labels = np.array(labels)"
   ]
  },
  {
   "cell_type": "code",
   "execution_count": 10,
   "metadata": {
    "scrolled": false
   },
   "outputs": [
    {
     "name": "stdout",
     "output_type": "stream",
     "text": [
      "(7624, 68, 128) (7624,)\n",
      "(1906, 68, 128) (1906,)\n"
     ]
    }
   ],
   "source": [
    "from sklearn.model_selection import train_test_split\n",
    "Ftrain_data, Ftest_data, Ftrain_labels , Ftest_labels = train_test_split(data, labels, test_size=0.2,random_state = 1)\n",
    "print (Ftrain_data.shape, Ftrain_labels.shape)\n",
    "print (Ftest_data.shape, Ftest_labels.shape)"
   ]
  },
  {
   "cell_type": "code",
   "execution_count": 11,
   "metadata": {},
   "outputs": [],
   "source": [
    "Ftrain_data = np.array(Ftrain_data)"
   ]
  },
  {
   "cell_type": "code",
   "execution_count": 12,
   "metadata": {},
   "outputs": [],
   "source": [
    "Ftrain_data = np.reshape(Ftrain_data,(Ftrain_data.shape[0],Ftrain_data.shape[1]*Ftrain_data.shape[2]))\n",
    "Ftest_data = np.reshape(Ftest_data,(Ftest_data.shape[0],Ftest_data.shape[1]*Ftest_data.shape[2]))\n"
   ]
  },
  {
   "cell_type": "code",
   "execution_count": 13,
   "metadata": {},
   "outputs": [],
   "source": [
    "Ftrain_labels = to_categorical(Ftrain_labels)\n",
    "Ftest_labels = to_categorical(Ftest_labels)\n"
   ]
  },
  {
   "cell_type": "code",
   "execution_count": 14,
   "metadata": {},
   "outputs": [
    {
     "data": {
      "text/plain": [
       "array([[ True,  True,  True],\n",
       "       [ True,  True,  True],\n",
       "       [ True,  True,  True],\n",
       "       ...,\n",
       "       [ True,  True,  True],\n",
       "       [ True,  True,  True],\n",
       "       [ True,  True,  True]])"
      ]
     },
     "execution_count": 14,
     "metadata": {},
     "output_type": "execute_result"
    }
   ],
   "source": [
    " Ftrain_labels == train_labels"
   ]
  },
  {
   "cell_type": "code",
   "execution_count": null,
   "metadata": {},
   "outputs": [],
   "source": []
  },
  {
   "cell_type": "markdown",
   "metadata": {},
   "source": [
    "Model loading..."
   ]
  },
  {
   "cell_type": "code",
   "execution_count": 15,
   "metadata": {},
   "outputs": [],
   "source": [
    "orth_initializer = tf.keras.initializers.Orthogonal()"
   ]
  },
  {
   "cell_type": "code",
   "execution_count": 16,
   "metadata": {},
   "outputs": [],
   "source": [
    "# VGG Model\n",
    "\n",
    "baseModel = VGG16(weights=None, include_top=False, input_tensor=Input(shape=(128,65,1)))\n",
    "\n",
    "# add layers for transfer learning\n",
    "headModel = baseModel.output\n",
    "#headModel = AveragePooling2D(pool_size=(4, 4),name = 'averagepool_last')(headModel)\n",
    "headModel = Flatten(name=\"flatten\")(headModel)\n",
    "\n",
    "\n",
    "tensor_train = Input(shape=(Ftrain_data.shape[1],),name = \"68_feature_input\")\n",
    "merged_output = tf.keras.layers.Concatenate(axis=1,name = \"merge_inputs\")([headModel, tensor_train])\n",
    "\n",
    "#headModel = Dense(1024, activation=\"relu\")(headModel)\n",
    "headModel = Dense(512, activation=\"relu\",name = 'dense_512')(merged_output)\n",
    "headModel = Dense(128, activation=\"relu\",name = 'dense_128')(headModel)   # we can experiment with more dense layers if output of average pooling layer is too big\n",
    "headModel = Dropout(0.3,name = 'dropout_last')(headModel)\n",
    "out_mlp = Dense(3, activation=\"softmax\",name = 'output')(headModel)  # we have 5 classes\n",
    "\n",
    "# place the head FC model on top of the base model (this will become\n",
    "# the actual model we will train)\n",
    "total_model = Model(inputs = [baseModel.input,tensor_train], outputs=out_mlp)\n",
    "#total_model.summary()\n",
    "    \n"
   ]
  },
  {
   "cell_type": "code",
   "execution_count": 17,
   "metadata": {},
   "outputs": [],
   "source": [
    "for layer in total_model.layers:\n",
    "    if layer.__class__.__name__=='BatchNormalization':\n",
    "        #print('exist')\n",
    "        layer.trainable = False\n",
    "\n",
    "        \n",
    "regularizer = tf.keras.regularizers.l2(.0001)\n",
    "\n",
    "for layer in total_model.layers:\n",
    "    if layer.trainable == True:\n",
    "        for attr in ['kernel_regularizer']:\n",
    "            if hasattr(layer, attr):\n",
    "                setattr(layer, attr, regularizer)\n",
    "                \n",
    "for layer in total_model.layers:\n",
    "    if layer.trainable == True:\n",
    "        for attr in ['kernel_initializer']:\n",
    "            if hasattr(layer, attr):\n",
    "                setattr(layer, attr, orth_initializer)"
   ]
  },
  {
   "cell_type": "code",
   "execution_count": 18,
   "metadata": {},
   "outputs": [
    {
     "name": "stdout",
     "output_type": "stream",
     "text": [
      "Model: \"model\"\n",
      "__________________________________________________________________________________________________\n",
      "Layer (type)                    Output Shape         Param #     Connected to                     \n",
      "==================================================================================================\n",
      "input_1 (InputLayer)            [(None, 128, 65, 1)] 0                                            \n",
      "__________________________________________________________________________________________________\n",
      "block1_conv1 (Conv2D)           (None, 128, 65, 64)  640         input_1[0][0]                    \n",
      "__________________________________________________________________________________________________\n",
      "block1_conv2 (Conv2D)           (None, 128, 65, 64)  36928       block1_conv1[0][0]               \n",
      "__________________________________________________________________________________________________\n",
      "block1_pool (MaxPooling2D)      (None, 64, 32, 64)   0           block1_conv2[0][0]               \n",
      "__________________________________________________________________________________________________\n",
      "block2_conv1 (Conv2D)           (None, 64, 32, 128)  73856       block1_pool[0][0]                \n",
      "__________________________________________________________________________________________________\n",
      "block2_conv2 (Conv2D)           (None, 64, 32, 128)  147584      block2_conv1[0][0]               \n",
      "__________________________________________________________________________________________________\n",
      "block2_pool (MaxPooling2D)      (None, 32, 16, 128)  0           block2_conv2[0][0]               \n",
      "__________________________________________________________________________________________________\n",
      "block3_conv1 (Conv2D)           (None, 32, 16, 256)  295168      block2_pool[0][0]                \n",
      "__________________________________________________________________________________________________\n",
      "block3_conv2 (Conv2D)           (None, 32, 16, 256)  590080      block3_conv1[0][0]               \n",
      "__________________________________________________________________________________________________\n",
      "block3_conv3 (Conv2D)           (None, 32, 16, 256)  590080      block3_conv2[0][0]               \n",
      "__________________________________________________________________________________________________\n",
      "block3_pool (MaxPooling2D)      (None, 16, 8, 256)   0           block3_conv3[0][0]               \n",
      "__________________________________________________________________________________________________\n",
      "block4_conv1 (Conv2D)           (None, 16, 8, 512)   1180160     block3_pool[0][0]                \n",
      "__________________________________________________________________________________________________\n",
      "block4_conv2 (Conv2D)           (None, 16, 8, 512)   2359808     block4_conv1[0][0]               \n",
      "__________________________________________________________________________________________________\n",
      "block4_conv3 (Conv2D)           (None, 16, 8, 512)   2359808     block4_conv2[0][0]               \n",
      "__________________________________________________________________________________________________\n",
      "block4_pool (MaxPooling2D)      (None, 8, 4, 512)    0           block4_conv3[0][0]               \n",
      "__________________________________________________________________________________________________\n",
      "block5_conv1 (Conv2D)           (None, 8, 4, 512)    2359808     block4_pool[0][0]                \n",
      "__________________________________________________________________________________________________\n",
      "block5_conv2 (Conv2D)           (None, 8, 4, 512)    2359808     block5_conv1[0][0]               \n",
      "__________________________________________________________________________________________________\n",
      "block5_conv3 (Conv2D)           (None, 8, 4, 512)    2359808     block5_conv2[0][0]               \n",
      "__________________________________________________________________________________________________\n",
      "block5_pool (MaxPooling2D)      (None, 4, 2, 512)    0           block5_conv3[0][0]               \n",
      "__________________________________________________________________________________________________\n",
      "flatten (Flatten)               (None, 4096)         0           block5_pool[0][0]                \n",
      "__________________________________________________________________________________________________\n",
      "68_feature_input (InputLayer)   [(None, 8704)]       0                                            \n",
      "__________________________________________________________________________________________________\n",
      "merge_inputs (Concatenate)      (None, 12800)        0           flatten[0][0]                    \n",
      "                                                                 68_feature_input[0][0]           \n",
      "__________________________________________________________________________________________________\n",
      "dense_512 (Dense)               (None, 512)          6554112     merge_inputs[0][0]               \n",
      "__________________________________________________________________________________________________\n",
      "dense_128 (Dense)               (None, 128)          65664       dense_512[0][0]                  \n",
      "__________________________________________________________________________________________________\n",
      "dropout_last (Dropout)          (None, 128)          0           dense_128[0][0]                  \n",
      "__________________________________________________________________________________________________\n",
      "output (Dense)                  (None, 3)            387         dropout_last[0][0]               \n",
      "==================================================================================================\n",
      "Total params: 21,333,699\n",
      "Trainable params: 21,333,699\n",
      "Non-trainable params: 0\n",
      "__________________________________________________________________________________________________\n"
     ]
    }
   ],
   "source": [
    "opt=Adam(lr=1e-4)\n",
    "total_model.compile(loss='categorical_crossentropy', optimizer=opt,\tmetrics=[\"accuracy\"])\n",
    "total_model.summary()"
   ]
  },
  {
   "cell_type": "code",
   "execution_count": 19,
   "metadata": {},
   "outputs": [],
   "source": [
    "import tensorflow as tf\n",
    "#callback for best Val Accuracy\n",
    "new_model_checkpoint_callback = tf.keras.callbacks.ModelCheckpoint(\n",
    "    filepath=\"/home/user/Sahil/dual_features.ckpt\",\n",
    "    save_weights_only=True,\n",
    "    monitor='val_accuracy',\n",
    "    mode='max',\n",
    "    save_best_only=True)"
   ]
  },
  {
   "cell_type": "code",
   "execution_count": 20,
   "metadata": {
    "scrolled": true
   },
   "outputs": [
    {
     "name": "stdout",
     "output_type": "stream",
     "text": [
      "Epoch 1/100\n",
      "239/239 - 137s - loss: 0.8083 - accuracy: 0.7155 - val_loss: 0.6047 - val_accuracy: 0.7539\n",
      "Epoch 2/100\n",
      "239/239 - 18s - loss: 0.5732 - accuracy: 0.7647 - val_loss: 0.5537 - val_accuracy: 0.7650\n",
      "Epoch 3/100\n",
      "239/239 - 18s - loss: 0.5376 - accuracy: 0.7710 - val_loss: 0.5452 - val_accuracy: 0.7665\n",
      "Epoch 4/100\n",
      "239/239 - 19s - loss: 0.5268 - accuracy: 0.7854 - val_loss: 0.5580 - val_accuracy: 0.7739\n",
      "Epoch 5/100\n",
      "239/239 - 19s - loss: 0.5041 - accuracy: 0.7916 - val_loss: 0.5357 - val_accuracy: 0.7791\n",
      "Epoch 6/100\n",
      "239/239 - 18s - loss: 0.4856 - accuracy: 0.7992 - val_loss: 0.6041 - val_accuracy: 0.7671\n",
      "Epoch 7/100\n",
      "239/239 - 18s - loss: 0.4709 - accuracy: 0.8051 - val_loss: 0.5435 - val_accuracy: 0.7686\n",
      "Epoch 8/100\n",
      "239/239 - 18s - loss: 0.4624 - accuracy: 0.8089 - val_loss: 0.5909 - val_accuracy: 0.7655\n",
      "Epoch 9/100\n",
      "239/239 - 18s - loss: 0.4518 - accuracy: 0.8183 - val_loss: 0.5633 - val_accuracy: 0.7744\n",
      "Epoch 10/100\n",
      "239/239 - 18s - loss: 0.4509 - accuracy: 0.8160 - val_loss: 0.5776 - val_accuracy: 0.7539\n",
      "Epoch 11/100\n",
      "239/239 - 18s - loss: 0.4444 - accuracy: 0.8208 - val_loss: 0.5466 - val_accuracy: 0.7749\n",
      "Epoch 12/100\n",
      "239/239 - 18s - loss: 0.4153 - accuracy: 0.8326 - val_loss: 0.5753 - val_accuracy: 0.7733\n",
      "Epoch 13/100\n",
      "239/239 - 18s - loss: 0.4101 - accuracy: 0.8339 - val_loss: 0.5633 - val_accuracy: 0.7760\n",
      "Epoch 14/100\n",
      "239/239 - 18s - loss: 0.4008 - accuracy: 0.8379 - val_loss: 0.5908 - val_accuracy: 0.7754\n",
      "Epoch 15/100\n",
      "239/239 - 18s - loss: 0.3845 - accuracy: 0.8450 - val_loss: 0.6011 - val_accuracy: 0.7697\n",
      "Epoch 16/100\n",
      "239/239 - 18s - loss: 0.3651 - accuracy: 0.8557 - val_loss: 0.6536 - val_accuracy: 0.7602\n",
      "Epoch 17/100\n",
      "239/239 - 18s - loss: 0.3602 - accuracy: 0.8594 - val_loss: 0.5996 - val_accuracy: 0.7576\n",
      "Epoch 18/100\n",
      "239/239 - 18s - loss: 0.3420 - accuracy: 0.8597 - val_loss: 0.6272 - val_accuracy: 0.7597\n",
      "Epoch 19/100\n",
      "239/239 - 18s - loss: 0.3361 - accuracy: 0.8650 - val_loss: 0.6104 - val_accuracy: 0.7639\n",
      "Epoch 20/100\n",
      "239/239 - 18s - loss: 0.3103 - accuracy: 0.8751 - val_loss: 0.6850 - val_accuracy: 0.7555\n",
      "Epoch 21/100\n",
      "239/239 - 18s - loss: 0.3110 - accuracy: 0.8757 - val_loss: 0.6797 - val_accuracy: 0.7650\n",
      "Epoch 22/100\n",
      "239/239 - 18s - loss: 0.2923 - accuracy: 0.8865 - val_loss: 0.7680 - val_accuracy: 0.7681\n",
      "Epoch 23/100\n",
      "239/239 - 18s - loss: 0.2900 - accuracy: 0.8851 - val_loss: 0.8405 - val_accuracy: 0.7728\n",
      "Epoch 24/100\n",
      "239/239 - 18s - loss: 0.2587 - accuracy: 0.9016 - val_loss: 0.8299 - val_accuracy: 0.7587\n",
      "Epoch 25/100\n",
      "239/239 - 18s - loss: 0.2463 - accuracy: 0.9016 - val_loss: 0.7742 - val_accuracy: 0.7497\n",
      "Epoch 26/100\n",
      "239/239 - 18s - loss: 0.2337 - accuracy: 0.9113 - val_loss: 0.9077 - val_accuracy: 0.7602\n",
      "Epoch 27/100\n",
      "239/239 - 18s - loss: 0.2228 - accuracy: 0.9137 - val_loss: 0.8525 - val_accuracy: 0.7550\n",
      "Epoch 28/100\n",
      "239/239 - 18s - loss: 0.2088 - accuracy: 0.9196 - val_loss: 1.0004 - val_accuracy: 0.7560\n",
      "Epoch 29/100\n",
      "239/239 - 18s - loss: 0.2109 - accuracy: 0.9172 - val_loss: 0.9051 - val_accuracy: 0.7424\n",
      "Epoch 30/100\n",
      "239/239 - 18s - loss: 0.1912 - accuracy: 0.9252 - val_loss: 1.0008 - val_accuracy: 0.7539\n",
      "Epoch 31/100\n",
      "239/239 - 18s - loss: 0.1901 - accuracy: 0.9252 - val_loss: 1.1899 - val_accuracy: 0.7146\n",
      "Epoch 32/100\n",
      "239/239 - 18s - loss: 0.1738 - accuracy: 0.9334 - val_loss: 1.1933 - val_accuracy: 0.7550\n",
      "Epoch 33/100\n",
      "239/239 - 18s - loss: 0.1785 - accuracy: 0.9311 - val_loss: 1.1017 - val_accuracy: 0.7450\n",
      "Epoch 34/100\n",
      "239/239 - 18s - loss: 0.1628 - accuracy: 0.9356 - val_loss: 1.0363 - val_accuracy: 0.7629\n",
      "Epoch 35/100\n",
      "239/239 - 18s - loss: 0.1540 - accuracy: 0.9390 - val_loss: 1.1786 - val_accuracy: 0.7518\n",
      "Epoch 36/100\n",
      "239/239 - 18s - loss: 0.1527 - accuracy: 0.9433 - val_loss: 1.2724 - val_accuracy: 0.7198\n",
      "Epoch 37/100\n",
      "239/239 - 18s - loss: 0.1696 - accuracy: 0.9344 - val_loss: 1.1059 - val_accuracy: 0.7350\n",
      "Epoch 38/100\n",
      "239/239 - 18s - loss: 0.1700 - accuracy: 0.9340 - val_loss: 1.2556 - val_accuracy: 0.7681\n",
      "Epoch 39/100\n",
      "239/239 - 18s - loss: 0.1403 - accuracy: 0.9467 - val_loss: 1.3064 - val_accuracy: 0.7539\n",
      "Epoch 40/100\n",
      "239/239 - 18s - loss: 0.1294 - accuracy: 0.9521 - val_loss: 1.3832 - val_accuracy: 0.7550\n",
      "Epoch 41/100\n",
      "239/239 - 18s - loss: 0.1455 - accuracy: 0.9460 - val_loss: 1.2834 - val_accuracy: 0.7587\n",
      "Epoch 42/100\n",
      "239/239 - 18s - loss: 0.1194 - accuracy: 0.9542 - val_loss: 1.3128 - val_accuracy: 0.7408\n",
      "Epoch 43/100\n",
      "239/239 - 18s - loss: 0.1181 - accuracy: 0.9536 - val_loss: 1.6587 - val_accuracy: 0.7240\n",
      "Epoch 44/100\n",
      "239/239 - 18s - loss: 0.1401 - accuracy: 0.9464 - val_loss: 1.4770 - val_accuracy: 0.7655\n",
      "Epoch 45/100\n",
      "239/239 - 18s - loss: 0.1348 - accuracy: 0.9483 - val_loss: 1.3105 - val_accuracy: 0.7576\n",
      "Epoch 46/100\n",
      "239/239 - 18s - loss: 0.1321 - accuracy: 0.9496 - val_loss: 1.7304 - val_accuracy: 0.7644\n",
      "Epoch 47/100\n",
      "239/239 - 18s - loss: 0.1195 - accuracy: 0.9513 - val_loss: 1.4720 - val_accuracy: 0.7398\n",
      "Epoch 48/100\n",
      "239/239 - 18s - loss: 0.1061 - accuracy: 0.9608 - val_loss: 1.5125 - val_accuracy: 0.7623\n",
      "Epoch 49/100\n",
      "239/239 - 18s - loss: 0.1213 - accuracy: 0.9532 - val_loss: 1.5042 - val_accuracy: 0.7618\n",
      "Epoch 50/100\n",
      "239/239 - 18s - loss: 0.1220 - accuracy: 0.9526 - val_loss: 1.4588 - val_accuracy: 0.7613\n",
      "Epoch 51/100\n",
      "239/239 - 18s - loss: 0.1145 - accuracy: 0.9575 - val_loss: 1.4954 - val_accuracy: 0.7623\n",
      "Epoch 52/100\n",
      "239/239 - 18s - loss: 0.1039 - accuracy: 0.9626 - val_loss: 1.5200 - val_accuracy: 0.7492\n",
      "Epoch 53/100\n",
      "239/239 - 18s - loss: 0.1163 - accuracy: 0.9553 - val_loss: 1.5077 - val_accuracy: 0.7608\n",
      "Epoch 54/100\n",
      "239/239 - 18s - loss: 0.0953 - accuracy: 0.9613 - val_loss: 1.5326 - val_accuracy: 0.7587\n",
      "Epoch 55/100\n",
      "239/239 - 18s - loss: 0.0901 - accuracy: 0.9646 - val_loss: 1.6427 - val_accuracy: 0.7324\n",
      "Epoch 56/100\n",
      "239/239 - 18s - loss: 0.1242 - accuracy: 0.9533 - val_loss: 1.6790 - val_accuracy: 0.7613\n",
      "Epoch 57/100\n",
      "239/239 - 18s - loss: 0.1039 - accuracy: 0.9608 - val_loss: 1.5927 - val_accuracy: 0.7581\n",
      "Epoch 58/100\n",
      "239/239 - 18s - loss: 0.1193 - accuracy: 0.9545 - val_loss: 1.6235 - val_accuracy: 0.7608\n",
      "Epoch 59/100\n",
      "239/239 - 18s - loss: 0.0921 - accuracy: 0.9645 - val_loss: 1.7768 - val_accuracy: 0.7434\n",
      "Epoch 60/100\n",
      "239/239 - 18s - loss: 0.1089 - accuracy: 0.9591 - val_loss: 1.6690 - val_accuracy: 0.7093\n",
      "Epoch 61/100\n",
      "239/239 - 18s - loss: 0.1052 - accuracy: 0.9592 - val_loss: 1.6992 - val_accuracy: 0.7644\n",
      "Epoch 62/100\n",
      "239/239 - 18s - loss: 0.0935 - accuracy: 0.9648 - val_loss: 1.8114 - val_accuracy: 0.7476\n",
      "Epoch 63/100\n",
      "239/239 - 18s - loss: 0.0898 - accuracy: 0.9667 - val_loss: 1.9234 - val_accuracy: 0.7644\n",
      "Epoch 64/100\n",
      "239/239 - 18s - loss: 0.0907 - accuracy: 0.9641 - val_loss: 1.6697 - val_accuracy: 0.7555\n",
      "Epoch 65/100\n",
      "239/239 - 18s - loss: 0.0757 - accuracy: 0.9684 - val_loss: 1.8490 - val_accuracy: 0.7550\n",
      "Epoch 66/100\n",
      "239/239 - 18s - loss: 0.1020 - accuracy: 0.9608 - val_loss: 1.7201 - val_accuracy: 0.7508\n",
      "Epoch 67/100\n",
      "239/239 - 18s - loss: 0.1008 - accuracy: 0.9625 - val_loss: 1.5453 - val_accuracy: 0.7629\n",
      "Epoch 68/100\n",
      "239/239 - 18s - loss: 0.0940 - accuracy: 0.9651 - val_loss: 1.7076 - val_accuracy: 0.7335\n",
      "Epoch 69/100\n",
      "239/239 - 18s - loss: 0.0749 - accuracy: 0.9718 - val_loss: 2.0842 - val_accuracy: 0.7644\n",
      "Epoch 70/100\n",
      "239/239 - 18s - loss: 0.0894 - accuracy: 0.9664 - val_loss: 2.0176 - val_accuracy: 0.7041\n",
      "Epoch 71/100\n",
      "239/239 - 18s - loss: 0.0888 - accuracy: 0.9655 - val_loss: 2.2330 - val_accuracy: 0.7650\n",
      "Epoch 72/100\n",
      "239/239 - 18s - loss: 0.0827 - accuracy: 0.9697 - val_loss: 1.8814 - val_accuracy: 0.7319\n",
      "Epoch 73/100\n",
      "239/239 - 18s - loss: 0.0939 - accuracy: 0.9648 - val_loss: 2.0347 - val_accuracy: 0.7324\n",
      "Epoch 74/100\n",
      "239/239 - 18s - loss: 0.0788 - accuracy: 0.9717 - val_loss: 1.9037 - val_accuracy: 0.7471\n",
      "Epoch 75/100\n",
      "239/239 - 18s - loss: 0.0871 - accuracy: 0.9681 - val_loss: 1.7409 - val_accuracy: 0.7550\n",
      "Epoch 76/100\n",
      "239/239 - 18s - loss: 0.0751 - accuracy: 0.9718 - val_loss: 2.0766 - val_accuracy: 0.7518\n",
      "Epoch 77/100\n",
      "239/239 - 18s - loss: 0.0681 - accuracy: 0.9740 - val_loss: 1.9271 - val_accuracy: 0.7466\n",
      "Epoch 78/100\n",
      "239/239 - 18s - loss: 0.0796 - accuracy: 0.9709 - val_loss: 1.7758 - val_accuracy: 0.7571\n",
      "Epoch 79/100\n",
      "239/239 - 18s - loss: 0.0729 - accuracy: 0.9735 - val_loss: 1.8565 - val_accuracy: 0.7560\n",
      "Epoch 80/100\n",
      "239/239 - 18s - loss: 0.0780 - accuracy: 0.9688 - val_loss: 2.1016 - val_accuracy: 0.7513\n"
     ]
    },
    {
     "name": "stdout",
     "output_type": "stream",
     "text": [
      "Epoch 81/100\n",
      "239/239 - 18s - loss: 0.0711 - accuracy: 0.9723 - val_loss: 2.1842 - val_accuracy: 0.7613\n",
      "Epoch 82/100\n",
      "239/239 - 18s - loss: 0.0813 - accuracy: 0.9701 - val_loss: 1.9864 - val_accuracy: 0.7592\n",
      "Epoch 83/100\n",
      "239/239 - 18s - loss: 0.0695 - accuracy: 0.9731 - val_loss: 2.0463 - val_accuracy: 0.7492\n",
      "Epoch 84/100\n",
      "239/239 - 18s - loss: 0.0814 - accuracy: 0.9704 - val_loss: 1.9422 - val_accuracy: 0.6847\n",
      "Epoch 85/100\n",
      "239/239 - 18s - loss: 0.0866 - accuracy: 0.9692 - val_loss: 1.9224 - val_accuracy: 0.7560\n",
      "Epoch 86/100\n",
      "239/239 - 18s - loss: 0.0704 - accuracy: 0.9738 - val_loss: 2.2769 - val_accuracy: 0.7587\n",
      "Epoch 87/100\n",
      "239/239 - 18s - loss: 0.0684 - accuracy: 0.9747 - val_loss: 1.8113 - val_accuracy: 0.7555\n",
      "Epoch 88/100\n",
      "239/239 - 18s - loss: 0.0627 - accuracy: 0.9751 - val_loss: 2.1075 - val_accuracy: 0.7671\n",
      "Epoch 89/100\n",
      "239/239 - 18s - loss: 0.0612 - accuracy: 0.9753 - val_loss: 2.0352 - val_accuracy: 0.7298\n",
      "Epoch 90/100\n",
      "239/239 - 18s - loss: 0.0687 - accuracy: 0.9744 - val_loss: 2.1400 - val_accuracy: 0.7267\n",
      "Epoch 91/100\n",
      "239/239 - 18s - loss: 0.0803 - accuracy: 0.9704 - val_loss: 2.0016 - val_accuracy: 0.7324\n",
      "Epoch 92/100\n",
      "239/239 - 18s - loss: 0.0622 - accuracy: 0.9760 - val_loss: 1.9698 - val_accuracy: 0.7639\n",
      "Epoch 93/100\n",
      "239/239 - 18s - loss: 0.0690 - accuracy: 0.9739 - val_loss: 2.0118 - val_accuracy: 0.7324\n",
      "Epoch 94/100\n",
      "239/239 - 18s - loss: 0.0653 - accuracy: 0.9735 - val_loss: 1.9673 - val_accuracy: 0.7560\n",
      "Epoch 95/100\n",
      "239/239 - 18s - loss: 0.0741 - accuracy: 0.9725 - val_loss: 1.9565 - val_accuracy: 0.7566\n",
      "Epoch 96/100\n",
      "239/239 - 18s - loss: 0.0755 - accuracy: 0.9721 - val_loss: 2.1343 - val_accuracy: 0.7424\n",
      "Epoch 97/100\n",
      "239/239 - 18s - loss: 0.0724 - accuracy: 0.9731 - val_loss: 2.2335 - val_accuracy: 0.7618\n",
      "Epoch 98/100\n",
      "239/239 - 18s - loss: 0.0579 - accuracy: 0.9774 - val_loss: 2.1359 - val_accuracy: 0.7492\n",
      "Epoch 99/100\n",
      "239/239 - 18s - loss: 0.0723 - accuracy: 0.9738 - val_loss: 1.8204 - val_accuracy: 0.7392\n",
      "Epoch 100/100\n",
      "239/239 - 18s - loss: 0.0705 - accuracy: 0.9738 - val_loss: 1.7329 - val_accuracy: 0.7240\n"
     ]
    },
    {
     "data": {
      "text/plain": [
       "<tensorflow.python.keras.callbacks.History at 0x7fa3b0072040>"
      ]
     },
     "execution_count": 20,
     "metadata": {},
     "output_type": "execute_result"
    }
   ],
   "source": [
    "#total_model\n",
    "total_model.fit([train_data,Ftrain_data], train_labels, batch_size=32,validation_data=([test_data,Ftest_data], test_labels),epochs=100, verbose=2, callbacks=[new_model_checkpoint_callback])"
   ]
  },
  {
   "cell_type": "code",
   "execution_count": 24,
   "metadata": {},
   "outputs": [
    {
     "data": {
      "text/plain": [
       "<tensorflow.python.training.tracking.util.CheckpointLoadStatus at 0x7fa3b0234d60>"
      ]
     },
     "execution_count": 24,
     "metadata": {},
     "output_type": "execute_result"
    }
   ],
   "source": [
    "total_model.load_weights(\"/home/user/Sahil/dual_features.ckpt\")"
   ]
  },
  {
   "cell_type": "code",
   "execution_count": 27,
   "metadata": {},
   "outputs": [],
   "source": [
    "total_model.save_weights(\"/home/user/Sahil/dual_features.h5\")"
   ]
  },
  {
   "cell_type": "code",
   "execution_count": 25,
   "metadata": {},
   "outputs": [
    {
     "name": "stdout",
     "output_type": "stream",
     "text": [
      "60/60 - 1s - loss: 0.5357 - accuracy: 0.7791\n"
     ]
    }
   ],
   "source": [
    "loss, acc = total_model.evaluate([test_data,Ftest_data], test_labels, verbose=2)"
   ]
  },
  {
   "cell_type": "code",
   "execution_count": null,
   "metadata": {},
   "outputs": [],
   "source": []
  },
  {
   "cell_type": "code",
   "execution_count": null,
   "metadata": {},
   "outputs": [],
   "source": []
  },
  {
   "cell_type": "code",
   "execution_count": null,
   "metadata": {},
   "outputs": [],
   "source": []
  }
 ],
 "metadata": {
  "kernelspec": {
   "display_name": "Python 3",
   "language": "python",
   "name": "python3"
  },
  "language_info": {
   "codemirror_mode": {
    "name": "ipython",
    "version": 3
   },
   "file_extension": ".py",
   "mimetype": "text/x-python",
   "name": "python",
   "nbconvert_exporter": "python",
   "pygments_lexer": "ipython3",
   "version": "3.8.5"
  }
 },
 "nbformat": 4,
 "nbformat_minor": 4
}
