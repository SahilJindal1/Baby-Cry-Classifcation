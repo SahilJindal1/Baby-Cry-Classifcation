{
  "nbformat": 4,
  "nbformat_minor": 0,
  "metadata": {
    "kernelspec": {
      "display_name": "Python 3",
      "language": "python",
      "name": "python3"
    },
    "language_info": {
      "codemirror_mode": {
        "name": "ipython",
        "version": 3
      },
      "file_extension": ".py",
      "mimetype": "text/x-python",
      "name": "python",
      "nbconvert_exporter": "python",
      "pygments_lexer": "ipython3",
      "version": "3.7.7"
    },
    "colab": {
      "name": "Classifiers_mfcc_fbank.ipynb",
      "provenance": []
    }
  },
  "cells": [
    {
      "cell_type": "markdown",
      "metadata": {
        "id": "MscjpQERncUR",
        "colab_type": "text"
      },
      "source": [
        "### F Bank"
      ]
    },
    {
      "cell_type": "code",
      "metadata": {
        "id": "2pBM5KyYncUV",
        "colab_type": "code",
        "colab": {}
      },
      "source": [
        "from python_speech_features import mfcc\n",
        "from python_speech_features import logfbank\n",
        "import scipy.io.wavfile as wav\n",
        "import numpy\n",
        "import os\n",
        "import csv\n",
        "import numpy as np\n",
        "\n",
        "\n",
        "def get_fbank_array(dir):\n",
        "    fbank = np.zeros((499,26,1))\n",
        "    for folder in os.listdir(dir):\n",
        "        folder_path = os.path.join(dir,folder)\n",
        "        for filename in os.listdir(folder_path):\n",
        "            if filename.endswith('.csv'):\n",
        "                file_path = os.path.join(folder_path,filename)\n",
        "                temp = np.genfromtxt(file_path, delimiter=\",\", skip_header = False)\n",
        "                temp  = np.reshape(temp,(temp.shape[0],temp.shape[1],1))\n",
        "                #print(temp.shape)\n",
        "                fbank = np.append(fbank,temp,axis = 2)\n",
        "                #print(mfcc.shape)\n",
        "    fbank = np.reshape(fbank,(fbank.shape[2],fbank.shape[0],fbank.shape[1]))\n",
        "    fbank = np.delete(fbank,0,axis = 0)\n",
        "    return(fbank)\n",
        "\n",
        "fbank_test = get_fbank_array(r'E:\\Baby Cry\\Baby Cry\\donateacry-corpus-master\\03-06-2020 fbank\\test')\n",
        "#print(fbank_test.shape)\n",
        "fbank_train = get_fbank_array(r'E:\\Baby Cry\\Baby Cry\\donateacry-corpus-master\\03-06-2020 fbank\\train')\n",
        "#print(fbank_train.shape)\n",
        "fbank_val = get_fbank_array(r'E:\\Baby Cry\\Baby Cry\\donateacry-corpus-master\\03-06-2020 fbank\\val')\n",
        "#print(fbank_val.shape)    \n",
        "        "
      ],
      "execution_count": null,
      "outputs": []
    },
    {
      "cell_type": "markdown",
      "metadata": {
        "id": "9yxOi28nncUo",
        "colab_type": "text"
      },
      "source": [
        "### MFCC"
      ]
    },
    {
      "cell_type": "code",
      "metadata": {
        "id": "NLbrUEcAncUr",
        "colab_type": "code",
        "colab": {}
      },
      "source": [
        "from python_speech_features import mfcc\n",
        "from python_speech_features import logfbank\n",
        "import scipy.io.wavfile as wav\n",
        "import numpy\n",
        "import os\n",
        "import csv\n",
        "import numpy as np\n",
        "\n",
        "\n",
        "def get_mfcc_array(dir):\n",
        "    mfcc = np.zeros((499,13,1))\n",
        "    for folder in os.listdir(dir):\n",
        "        folder_path = os.path.join(dir,folder)\n",
        "        for filename in os.listdir(folder_path):\n",
        "            if filename.endswith('.csv'):\n",
        "                file_path = os.path.join(folder_path,filename)\n",
        "                temp = np.genfromtxt(file_path, delimiter=\",\", skip_header = False)\n",
        "                temp  = np.reshape(temp,(temp.shape[0],temp.shape[1],1))\n",
        "                #print(temp.shape)\n",
        "                mfcc = np.append(mfcc,temp,axis = 2)\n",
        "                #print(mfcc.shape)\n",
        "    mfcc = np.reshape(mfcc,(mfcc.shape[2],mfcc.shape[0],mfcc.shape[1]))\n",
        "    mfcc = np.delete(mfcc,0,axis = 0)\n",
        "    return(mfcc)\n",
        "\n",
        "mfcc_test = get_mfcc_array(r'E:\\Baby Cry\\Baby Cry\\donateacry-corpus-master\\03-06-2020 mfcc\\test')\n",
        "mfcc_train = get_mfcc_array(r'E:\\Baby Cry\\Baby Cry\\donateacry-corpus-master\\03-06-2020 mfcc\\train')\n",
        "mfcc_val = get_mfcc_array(r'E:\\Baby Cry\\Baby Cry\\donateacry-corpus-master\\03-06-2020 mfcc\\val')\n",
        "\n",
        "\n",
        "        \n",
        "        "
      ],
      "execution_count": null,
      "outputs": []
    },
    {
      "cell_type": "code",
      "metadata": {
        "id": "-87RnLz8ncU5",
        "colab_type": "code",
        "colab": {},
        "outputId": "f9ee6808-624a-42fc-bbe8-5b074ee6877a"
      },
      "source": [
        "print(\"MFCC shape = \" + str(mfcc_test.shape))\n",
        "\n",
        "print(\"Fbank shape = \" + str(fbank_test.shape))"
      ],
      "execution_count": null,
      "outputs": [
        {
          "output_type": "stream",
          "text": [
            "MFCC shape = (171, 499, 13)\n",
            "Fbank shape = (171, 499, 26)\n"
          ],
          "name": "stdout"
        }
      ]
    },
    {
      "cell_type": "markdown",
      "metadata": {
        "id": "weOqSRcTncVM",
        "colab_type": "text"
      },
      "source": [
        "### Combining MFCC and Fbank Features"
      ]
    },
    {
      "cell_type": "code",
      "metadata": {
        "id": "_WAF_UiJncVR",
        "colab_type": "code",
        "colab": {}
      },
      "source": [
        "features_test = np.append(mfcc_test , fbank_test , axis = 2)\n",
        "features_train = np.append(mfcc_train , fbank_train , axis = 2)\n",
        "features_val = np.append(mfcc_val , fbank_val , axis = 2)"
      ],
      "execution_count": null,
      "outputs": []
    },
    {
      "cell_type": "code",
      "metadata": {
        "id": "1JL74NI6ncVc",
        "colab_type": "code",
        "colab": {},
        "outputId": "39f8fc25-1692-4dc4-82e9-6512a0c33b85"
      },
      "source": [
        "features_train = np.append(features_train,features_val,axis = 0)\n",
        "print(features_train.shape)"
      ],
      "execution_count": null,
      "outputs": [
        {
          "output_type": "stream",
          "text": [
            "(661, 499, 39)\n"
          ],
          "name": "stdout"
        }
      ]
    },
    {
      "cell_type": "markdown",
      "metadata": {
        "id": "zpdWnbAincVr",
        "colab_type": "text"
      },
      "source": [
        " ### Labels"
      ]
    },
    {
      "cell_type": "code",
      "metadata": {
        "id": "oUr2GwFBncVs",
        "colab_type": "code",
        "colab": {}
      },
      "source": [
        "import os\n",
        "def get_file_length(file_path):\n",
        "    path, dirs, files = next(os.walk(file_path))\n",
        "    count = len(files)\n",
        "    #print(count)\n",
        "    return count\n"
      ],
      "execution_count": null,
      "outputs": []
    },
    {
      "cell_type": "code",
      "metadata": {
        "id": "zjq7RLFXncV3",
        "colab_type": "code",
        "colab": {}
      },
      "source": [
        "def get_labels(c1,c2,c3,c4,c5):\n",
        "    labels = np.zeros((c1,1))\n",
        "    labels = np.concatenate((labels,np.ones((c2,1))))\n",
        "    labels = np.concatenate((labels,2*np.ones((c3,1))))\n",
        "    labels = np.concatenate((labels,3*np.ones((c4,1))))\n",
        "    labels = np.concatenate((labels,4*np.ones((c5,1))))\n",
        "    #print(labels.shape)\n",
        "    return labels\n"
      ],
      "execution_count": null,
      "outputs": []
    },
    {
      "cell_type": "code",
      "metadata": {
        "id": "jIK-7_i-ncV-",
        "colab_type": "code",
        "colab": {}
      },
      "source": [
        "# File Length \n",
        "belly_pain_count_test = get_file_length(r'E:\\Baby Cry\\Baby Cry\\donateacry-corpus-master\\03-06-2020\\test\\belly_pain')\n",
        "burping_count_test = get_file_length(r'E:\\Baby Cry\\Baby Cry\\donateacry-corpus-master\\03-06-2020\\test\\burping')\n",
        "discomfort_count_test = get_file_length(r'E:\\Baby Cry\\Baby Cry\\donateacry-corpus-master\\03-06-2020\\test/discomfort')\n",
        "hungry_count_test = get_file_length(r'E:\\Baby Cry\\Baby Cry\\donateacry-corpus-master\\03-06-2020\\test\\hungry')\n",
        "tired_count_test = get_file_length(r'E:\\Baby Cry\\Baby Cry\\donateacry-corpus-master\\03-06-2020\\test\\tired')\n",
        "belly_pain_count_train = get_file_length(r'E:\\Baby Cry\\Baby Cry\\donateacry-corpus-master\\03-06-2020\\train\\belly_pain')\n",
        "burping_count_train = get_file_length(r'E:\\Baby Cry\\Baby Cry\\donateacry-corpus-master\\03-06-2020\\train\\burping')\n",
        "discomfort_count_train = get_file_length(r'E:\\Baby Cry\\Baby Cry\\donateacry-corpus-master\\03-06-2020\\train\\discomfort')\n",
        "hungry_count_train = get_file_length(r'E:\\Baby Cry\\Baby Cry\\donateacry-corpus-master\\03-06-2020\\train\\hungry')\n",
        "tired_count_train = get_file_length(r'E:\\Baby Cry\\Baby Cry\\donateacry-corpus-master\\03-06-2020\\train\\tired')\n",
        "belly_pain_count_valid = get_file_length(r'E:\\Baby Cry\\Baby Cry\\donateacry-corpus-master\\03-06-2020\\val\\belly_pain')\n",
        "burping_count_valid = get_file_length(r'E:\\Baby Cry\\Baby Cry\\donateacry-corpus-master\\03-06-2020\\val\\burping')\n",
        "discomfort_count_valid = get_file_length(r'E:\\Baby Cry\\Baby Cry\\donateacry-corpus-master\\03-06-2020\\val\\discomfort')\n",
        "hungry_count_valid = get_file_length(r'E:\\Baby Cry\\Baby Cry\\donateacry-corpus-master\\03-06-2020\\val\\hungry')\n",
        "tired_count_valid = get_file_length(r'E:\\Baby Cry\\Baby Cry\\donateacry-corpus-master\\03-06-2020\\val\\tired')"
      ],
      "execution_count": null,
      "outputs": []
    },
    {
      "cell_type": "code",
      "metadata": {
        "id": "U8F-IVQXncWG",
        "colab_type": "code",
        "colab": {}
      },
      "source": [
        "labels_test = get_labels(belly_pain_count_test , burping_count_test , discomfort_count_test , hungry_count_test , tired_count_test)\n",
        "labels_train = get_labels(belly_pain_count_train , burping_count_train , discomfort_count_train , hungry_count_train , tired_count_train)\n",
        "labels_val = get_labels(belly_pain_count_valid , burping_count_valid , discomfort_count_valid , hungry_count_valid , tired_count_valid)"
      ],
      "execution_count": null,
      "outputs": []
    },
    {
      "cell_type": "code",
      "metadata": {
        "id": "PX7mUYLVncWM",
        "colab_type": "code",
        "colab": {},
        "outputId": "e14b350e-a750-4651-9f34-790125d844dd"
      },
      "source": [
        "print(labels_test.shape)"
      ],
      "execution_count": null,
      "outputs": [
        {
          "output_type": "stream",
          "text": [
            "(171, 1)\n"
          ],
          "name": "stdout"
        }
      ]
    },
    {
      "cell_type": "code",
      "metadata": {
        "id": "BH4oNo3IncWV",
        "colab_type": "code",
        "colab": {},
        "outputId": "26652369-5800-4b41-95ed-dc789c7861b4"
      },
      "source": [
        "labels_train = np.append(labels_train,labels_val)\n",
        "\n",
        "print(labels_train.shape)"
      ],
      "execution_count": null,
      "outputs": [
        {
          "output_type": "stream",
          "text": [
            "(661,)\n"
          ],
          "name": "stdout"
        }
      ]
    },
    {
      "cell_type": "code",
      "metadata": {
        "id": "oXksT1nNncWd",
        "colab_type": "code",
        "colab": {},
        "outputId": "1839878b-95f2-4d94-a06f-061d1f604da8"
      },
      "source": [
        "labels_train = np.reshape(labels_train,(labels_train.shape[0],1))\n",
        "print(labels_train.shape)"
      ],
      "execution_count": null,
      "outputs": [
        {
          "output_type": "stream",
          "text": [
            "(661, 1)\n"
          ],
          "name": "stdout"
        }
      ]
    },
    {
      "cell_type": "markdown",
      "metadata": {
        "id": "JCCoF5nwncWl",
        "colab_type": "text"
      },
      "source": [
        "Flatten Features"
      ]
    },
    {
      "cell_type": "code",
      "metadata": {
        "id": "FLAGTvSGncWm",
        "colab_type": "code",
        "colab": {}
      },
      "source": [
        "flatten_features_train = features_train.reshape(features_train.shape[0],-1)\n",
        "flatten_features_test = features_test.reshape(features_test.shape[0],-1)"
      ],
      "execution_count": null,
      "outputs": []
    },
    {
      "cell_type": "markdown",
      "metadata": {
        "id": "lS2EmiFqncWt",
        "colab_type": "text"
      },
      "source": [
        "#  Classifiers\n",
        "***\n",
        "*  **SVM**\n",
        "*  **KNN**\n",
        "*  **Forest Classifier**\n",
        "\n",
        "\n"
      ]
    },
    {
      "cell_type": "markdown",
      "metadata": {
        "id": "1ab_HeejncWv",
        "colab_type": "text"
      },
      "source": [
        "SVM"
      ]
    },
    {
      "cell_type": "code",
      "metadata": {
        "scrolled": true,
        "id": "23pm0ILdncWy",
        "colab_type": "code",
        "colab": {},
        "outputId": "23ca8fda-6407-4905-f112-0969ed6f9fd4"
      },
      "source": [
        "from sklearn import svm\n",
        "\n",
        "clf = svm.SVC(C= 5.0, kernel='rbf', gamma='scale',\n",
        "                coef0=0.0, shrinking=True, probability=False,tol=0.001,\n",
        "                cache_size=200, class_weight=None, verbose=False, max_iter=-1,\n",
        "                decision_function_shape='ovr', break_ties=True, random_state=None)\n",
        "clf.fit(flatten_features_train,labels_train)"
      ],
      "execution_count": null,
      "outputs": [
        {
          "output_type": "stream",
          "text": [
            "C:\\Users\\Sahil Jindal\\anaconda3\\envs\\FirstEnv\\lib\\site-packages\\sklearn\\utils\\validation.py:73: DataConversionWarning: A column-vector y was passed when a 1d array was expected. Please change the shape of y to (n_samples, ), for example using ravel().\n",
            "  return f(**kwargs)\n"
          ],
          "name": "stderr"
        },
        {
          "output_type": "execute_result",
          "data": {
            "text/plain": [
              "SVC(C=5.0, break_ties=True)"
            ]
          },
          "metadata": {
            "tags": []
          },
          "execution_count": 17
        }
      ]
    },
    {
      "cell_type": "code",
      "metadata": {
        "id": "W52P5puIncW8",
        "colab_type": "code",
        "colab": {}
      },
      "source": [
        "predicted_test = clf.predict(flatten_features_test)"
      ],
      "execution_count": null,
      "outputs": []
    },
    {
      "cell_type": "code",
      "metadata": {
        "id": "AdDthyrpncXJ",
        "colab_type": "code",
        "colab": {},
        "outputId": "cf7f4811-3d42-4474-a43f-87c5e6db6549"
      },
      "source": [
        "predicted_test = predicted_test.reshape((len(predicted_test),1))\n",
        "print(predicted_test.shape)"
      ],
      "execution_count": null,
      "outputs": [
        {
          "output_type": "stream",
          "text": [
            "(171, 1)\n"
          ],
          "name": "stdout"
        }
      ]
    },
    {
      "cell_type": "code",
      "metadata": {
        "id": "UpxIuIHgncXN",
        "colab_type": "code",
        "colab": {},
        "outputId": "88e5003a-c3d6-430e-a737-98394349df98"
      },
      "source": [
        "import sklearn\n",
        "acc_test = sklearn.metrics.accuracy_score(predicted_test,labels_test)\n",
        "print(acc_test)"
      ],
      "execution_count": null,
      "outputs": [
        {
          "output_type": "stream",
          "text": [
            "0.43859649122807015\n"
          ],
          "name": "stdout"
        }
      ]
    },
    {
      "cell_type": "markdown",
      "metadata": {
        "id": "xmfE03p7ncXR",
        "colab_type": "text"
      },
      "source": [
        "KNN"
      ]
    },
    {
      "cell_type": "code",
      "metadata": {
        "id": "ZJ50o5pwncXS",
        "colab_type": "code",
        "colab": {},
        "outputId": "e2c685cb-ab1f-4700-9eaa-437bc967d2be"
      },
      "source": [
        "from sklearn import neighbors\n",
        "\n",
        "clf = neighbors.KNeighborsClassifier(n_neighbors = 4, weights = 'distance') \n",
        "clf.fit(flatten_features_train,labels_train)"
      ],
      "execution_count": null,
      "outputs": [
        {
          "output_type": "stream",
          "text": [
            "C:\\Users\\Sahil Jindal\\anaconda3\\envs\\FirstEnv\\lib\\site-packages\\ipykernel_launcher.py:4: DataConversionWarning: A column-vector y was passed when a 1d array was expected. Please change the shape of y to (n_samples, ), for example using ravel().\n",
            "  after removing the cwd from sys.path.\n"
          ],
          "name": "stderr"
        },
        {
          "output_type": "execute_result",
          "data": {
            "text/plain": [
              "KNeighborsClassifier(n_neighbors=4, weights='distance')"
            ]
          },
          "metadata": {
            "tags": []
          },
          "execution_count": 25
        }
      ]
    },
    {
      "cell_type": "code",
      "metadata": {
        "id": "sa3KSP4OncXY",
        "colab_type": "code",
        "colab": {},
        "outputId": "655351f4-b6b4-4142-9c00-d7aecfcb23c6"
      },
      "source": [
        "predicted_test = clf.predict(flatten_features_test)\n",
        "predicted_test = predicted_test.reshape((len(predicted_test),1))\n",
        "print(predicted_test.shape)\n",
        "\n",
        "\n",
        "import sklearn\n",
        "acc_test = sklearn.metrics.accuracy_score(predicted_test,labels_test)\n",
        "print(acc_test)"
      ],
      "execution_count": null,
      "outputs": [
        {
          "output_type": "stream",
          "text": [
            "(171, 1)\n",
            "0.27485380116959063\n"
          ],
          "name": "stdout"
        }
      ]
    },
    {
      "cell_type": "markdown",
      "metadata": {
        "id": "snbcKYxCncXi",
        "colab_type": "text"
      },
      "source": [
        "Random Forest"
      ]
    },
    {
      "cell_type": "code",
      "metadata": {
        "id": "0xZyJR0VncXj",
        "colab_type": "code",
        "colab": {},
        "outputId": "2b69acd9-6b54-4c72-dc5e-bdc9dc2d2e21"
      },
      "source": [
        "from sklearn.ensemble import RandomForestClassifier\n",
        "clf = RandomForestClassifier(n_estimators=100, criterion='gini', max_depth=None,\n",
        "                             min_samples_split=2, min_samples_leaf=1, min_weight_fraction_leaf=0.0,\n",
        "                             max_features='auto', max_leaf_nodes=None, min_impurity_decrease=0.0,\n",
        "                             min_impurity_split=None, bootstrap=True, oob_score=False,\n",
        "                             n_jobs=None, random_state=None, verbose=0, warm_start=False,\n",
        "                             class_weight=None, ccp_alpha=0.0, max_samples=None)\n",
        "\n",
        "clf.fit(flatten_features_train,labels_train)"
      ],
      "execution_count": null,
      "outputs": [
        {
          "output_type": "stream",
          "text": [
            "C:\\Users\\Sahil Jindal\\anaconda3\\envs\\FirstEnv\\lib\\site-packages\\ipykernel_launcher.py:9: DataConversionWarning: A column-vector y was passed when a 1d array was expected. Please change the shape of y to (n_samples,), for example using ravel().\n",
            "  if __name__ == '__main__':\n"
          ],
          "name": "stderr"
        },
        {
          "output_type": "execute_result",
          "data": {
            "text/plain": [
              "RandomForestClassifier()"
            ]
          },
          "metadata": {
            "tags": []
          },
          "execution_count": 27
        }
      ]
    },
    {
      "cell_type": "code",
      "metadata": {
        "id": "BEhGMvctncXo",
        "colab_type": "code",
        "colab": {},
        "outputId": "86c5da25-81d5-41b4-f8db-70c846f6bde1"
      },
      "source": [
        "predicted_test = clf.predict(flatten_features_test)\n",
        "predicted_test = predicted_test.reshape((len(predicted_test),1))\n",
        "print(predicted_test.shape)\n",
        "\n",
        "\n",
        "import sklearn\n",
        "acc_test = sklearn.metrics.accuracy_score(predicted_test,labels_test)\n",
        "print(acc_test)"
      ],
      "execution_count": null,
      "outputs": [
        {
          "output_type": "stream",
          "text": [
            "(171, 1)\n",
            "0.4444444444444444\n"
          ],
          "name": "stdout"
        }
      ]
    }
  ]
}