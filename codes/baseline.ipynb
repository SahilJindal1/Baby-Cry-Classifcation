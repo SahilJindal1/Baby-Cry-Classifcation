{
  "nbformat": 4,
  "nbformat_minor": 5,
  "metadata": {
    "kernelspec": {
      "display_name": "Python 3",
      "language": "python",
      "name": "python3"
    },
    "language_info": {
      "codemirror_mode": {
        "name": "ipython",
        "version": 3
      },
      "file_extension": ".py",
      "mimetype": "text/x-python",
      "name": "python",
      "nbconvert_exporter": "python",
      "pygments_lexer": "ipython3",
      "version": "3.8.5"
    },
    "colab": {
      "name": "baseline.ipynb",
      "provenance": []
    }
  },
  "cells": [
    {
      "cell_type": "code",
      "metadata": {
        "id": "6qJ9nM98X_XV"
      },
      "source": [
        "import numpy as np"
      ],
      "id": "6qJ9nM98X_XV",
      "execution_count": null,
      "outputs": []
    },
    {
      "cell_type": "code",
      "metadata": {
        "id": "XfJfsRIrX_XZ"
      },
      "source": [
        "import os\n",
        "\n",
        "clip_folder1 = r'/home/user/Sahil/mean_var_kurt_skew'\n",
        "data = []\n",
        "labels=  []\n",
        "\n",
        "for filename in os.listdir(clip_folder1):\n",
        "    fname = clip_folder1 + '/' + filename\n",
        "    labels.append(filename[-5])\n",
        "    x = np.load(fname)\n",
        "    data.append(x)"
      ],
      "id": "XfJfsRIrX_XZ",
      "execution_count": null,
      "outputs": []
    },
    {
      "cell_type": "code",
      "metadata": {
        "id": "jCD2Ur8yX_Xa",
        "outputId": "18f9ddad-b5a5-462d-c8ab-45d6f321ec7b"
      },
      "source": [
        "data = np.array(data)\n",
        "labels = np.array(labels)\n",
        "print(data.shape)\n",
        "print(labels.shape)"
      ],
      "id": "jCD2Ur8yX_Xa",
      "execution_count": null,
      "outputs": [
        {
          "name": "stdout",
          "output_type": "stream",
          "text": [
            "(5587, 512)\n",
            "(5587,)\n"
          ]
        }
      ]
    },
    {
      "cell_type": "markdown",
      "metadata": {
        "id": "0pSxbH00X_Xb"
      },
      "source": [
        "### Classifiers"
      ],
      "id": "0pSxbH00X_Xb"
    },
    {
      "cell_type": "markdown",
      "metadata": {
        "id": "Er6aDZbQX_Xd"
      },
      "source": [
        "gradient boosting"
      ],
      "id": "Er6aDZbQX_Xd"
    },
    {
      "cell_type": "code",
      "metadata": {
        "id": "4bc6ogA1X_Xe"
      },
      "source": [
        "#loss= deviance\n",
        "\n",
        "from sklearn.ensemble import GradientBoostingClassifier\n",
        "\n",
        "clf = GradientBoostingClassifier(loss='deviance', learning_rate=0.1, n_estimators=100, subsample=1.0, criterion='friedman_mse')\n"
      ],
      "id": "4bc6ogA1X_Xe",
      "execution_count": null,
      "outputs": []
    },
    {
      "cell_type": "code",
      "metadata": {
        "id": "d59M1e7VX_Xf",
        "outputId": "02b85047-e667-426b-bc43-3db5c87a4533"
      },
      "source": [
        "from sklearn.model_selection import cross_val_score\n",
        "scores = cross_val_score(clf, data, labels, cv=5)\n",
        "print(scores)"
      ],
      "id": "d59M1e7VX_Xf",
      "execution_count": null,
      "outputs": [
        {
          "name": "stdout",
          "output_type": "stream",
          "text": [
            "[0.86583184 0.8667263  0.87197851 0.86929275 0.86660698]\n"
          ]
        }
      ]
    },
    {
      "cell_type": "code",
      "metadata": {
        "id": "f6s6WEQNX_Xh",
        "outputId": "8caf30aa-dc9b-4b1e-9e4b-2f67dfb5d197"
      },
      "source": [
        " print(\"Accuracy: %0.2f (+/- %0.2f)\" % (scores.mean(), scores.std() * 2))"
      ],
      "id": "f6s6WEQNX_Xh",
      "execution_count": null,
      "outputs": [
        {
          "name": "stdout",
          "output_type": "stream",
          "text": [
            "Accuracy: 0.87 (+/- 0.00)\n"
          ]
        }
      ]
    },
    {
      "cell_type": "markdown",
      "metadata": {
        "id": "Lx8Inak9X_Xi"
      },
      "source": [
        "Random Forest"
      ],
      "id": "Lx8Inak9X_Xi"
    },
    {
      "cell_type": "code",
      "metadata": {
        "id": "K8cvsnTaX_Xi",
        "outputId": "34d2231f-d763-4a35-8312-74819aa57979"
      },
      "source": [
        "from sklearn.ensemble import RandomForestClassifier\n",
        "clf = RandomForestClassifier()\n",
        "from sklearn.model_selection import cross_val_score\n",
        "scores = cross_val_score(clf, data, labels, cv=5)\n",
        "print(scores)"
      ],
      "id": "K8cvsnTaX_Xi",
      "execution_count": null,
      "outputs": [
        {
          "name": "stdout",
          "output_type": "stream",
          "text": [
            "[0.84525939 0.85330948 0.85765443 0.8442256  0.84601611]\n"
          ]
        }
      ]
    },
    {
      "cell_type": "code",
      "metadata": {
        "id": "cAyRT7HqX_Xj",
        "outputId": "372e7c26-0d3e-4c90-ea3f-7996fa8e5418"
      },
      "source": [
        " print(\"Accuracy: %0.2f (+/- %0.2f)\" % (scores.mean(), scores.std() * 2))"
      ],
      "id": "cAyRT7HqX_Xj",
      "execution_count": null,
      "outputs": [
        {
          "name": "stdout",
          "output_type": "stream",
          "text": [
            "Accuracy: 0.85 (+/- 0.01)\n"
          ]
        }
      ]
    },
    {
      "cell_type": "markdown",
      "metadata": {
        "id": "9MP4ngvnX_Xk"
      },
      "source": [
        "SVM"
      ],
      "id": "9MP4ngvnX_Xk"
    },
    {
      "cell_type": "code",
      "metadata": {
        "id": "obWomLt3X_Xk",
        "outputId": "1795710b-6e79-4488-91ba-6c22af2103d8"
      },
      "source": [
        "from sklearn import svm\n",
        "\n",
        "clf = svm.SVC(kernel = 'poly',verbose = 1,coef0=25)\n",
        "from sklearn.model_selection import cross_val_score\n",
        "scores = cross_val_score(clf, data, labels, cv=5)\n",
        "print(scores)"
      ],
      "id": "obWomLt3X_Xk",
      "execution_count": null,
      "outputs": [
        {
          "name": "stdout",
          "output_type": "stream",
          "text": [
            "[LibSVM][LibSVM][LibSVM][LibSVM][LibSVM][0.81216458 0.81753131 0.81468218 0.81826321 0.81826321]\n"
          ]
        }
      ]
    },
    {
      "cell_type": "code",
      "metadata": {
        "id": "QRxCdjQMX_Xl",
        "outputId": "7a300631-37cb-4259-acf3-8cf31a5400ad"
      },
      "source": [
        " print(\"Accuracy: %0.2f (+/- %0.2f)\" % (scores.mean(), scores.std() * 2))"
      ],
      "id": "QRxCdjQMX_Xl",
      "execution_count": null,
      "outputs": [
        {
          "name": "stdout",
          "output_type": "stream",
          "text": [
            "Accuracy: 0.82 (+/- 0.00)\n"
          ]
        }
      ]
    }
  ]
}