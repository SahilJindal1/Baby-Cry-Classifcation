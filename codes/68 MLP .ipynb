{
 "cells": [
  {
   "cell_type": "code",
   "execution_count": 1,
   "metadata": {},
   "outputs": [],
   "source": [
    "import numpy as np"
   ]
  },
  {
   "cell_type": "markdown",
   "metadata": {},
   "source": [
    " ### Labels"
   ]
  },
  {
   "cell_type": "code",
   "execution_count": 2,
   "metadata": {},
   "outputs": [],
   "source": [
    "import os\n",
    "def get_file_length(file_path):\n",
    "    path, dirs, files = next(os.walk(file_path))\n",
    "    count = len(files)\n",
    "    #print(count)\n",
    "    return count\n"
   ]
  },
  {
   "cell_type": "code",
   "execution_count": 3,
   "metadata": {},
   "outputs": [],
   "source": [
    "def get_labels(c1,c2,c3,c4,c5):\n",
    "    labels = np.zeros((c1,1))\n",
    "    labels = np.concatenate((labels,np.ones((c2,1))))\n",
    "    labels = np.concatenate((labels,2*np.ones((c3,1))))\n",
    "    labels = np.concatenate((labels,3*np.ones((c4,1))))\n",
    "    labels = np.concatenate((labels,4*np.ones((c5,1))))\n",
    "    #print(labels.shape)\n",
    "    return labels\n"
   ]
  },
  {
   "cell_type": "code",
   "execution_count": 4,
   "metadata": {},
   "outputs": [],
   "source": [
    "# File Length \n",
    "belly_pain_count_test = get_file_length(r'E:\\Baby Cry\\Baby Cry\\donateacry-corpus-master\\68features\\test\\belly_pain')\n",
    "burping_count_test = get_file_length(r'E:\\Baby Cry\\Baby Cry\\donateacry-corpus-master\\68features\\test\\burping')\n",
    "discomfort_count_test = get_file_length(r'E:\\Baby Cry\\Baby Cry\\donateacry-corpus-master\\68features\\test\\discomfort')\n",
    "hungry_count_test = get_file_length(r'E:\\Baby Cry\\Baby Cry\\donateacry-corpus-master\\68features\\test\\hungry')\n",
    "tired_count_test = get_file_length(r'E:\\Baby Cry\\Baby Cry\\donateacry-corpus-master\\68features\\test\\tired')\n",
    "belly_pain_count_train = get_file_length(r'E:\\Baby Cry\\Baby Cry\\donateacry-corpus-master\\68features\\train\\belly_pain')\n",
    "burping_count_train = get_file_length(r'E:\\Baby Cry\\Baby Cry\\donateacry-corpus-master\\68features\\train\\burping')\n",
    "discomfort_count_train = get_file_length(r'E:\\Baby Cry\\Baby Cry\\donateacry-corpus-master\\68features\\train\\discomfort')\n",
    "hungry_count_train = get_file_length(r'E:\\Baby Cry\\Baby Cry\\donateacry-corpus-master\\68features\\train\\hungry')\n",
    "tired_count_train = get_file_length(r'E:\\Baby Cry\\Baby Cry\\donateacry-corpus-master\\68features\\train\\tired')\n",
    "belly_pain_count_valid = get_file_length(r'E:\\Baby Cry\\Baby Cry\\donateacry-corpus-master\\68features\\val\\belly_pain')\n",
    "burping_count_valid = get_file_length(r'E:\\Baby Cry\\Baby Cry\\donateacry-corpus-master\\68features\\val\\burping')\n",
    "discomfort_count_valid = get_file_length(r'E:\\Baby Cry\\Baby Cry\\donateacry-corpus-master\\68features\\val\\discomfort')\n",
    "hungry_count_valid = get_file_length(r'E:\\Baby Cry\\Baby Cry\\donateacry-corpus-master\\68features\\val\\hungry')\n",
    "tired_count_valid = get_file_length(r'E:\\Baby Cry\\Baby Cry\\donateacry-corpus-master\\68features\\val\\tired')"
   ]
  },
  {
   "cell_type": "code",
   "execution_count": 5,
   "metadata": {},
   "outputs": [],
   "source": [
    "labels_test = get_labels(belly_pain_count_test , burping_count_test , discomfort_count_test , hungry_count_test , tired_count_test)\n",
    "labels_train = get_labels(belly_pain_count_train , burping_count_train , discomfort_count_train , hungry_count_train , tired_count_train)\n",
    "labels_val = get_labels(belly_pain_count_valid , burping_count_valid , discomfort_count_valid , hungry_count_valid , tired_count_valid)"
   ]
  },
  {
   "cell_type": "code",
   "execution_count": 6,
   "metadata": {},
   "outputs": [
    {
     "name": "stdout",
     "output_type": "stream",
     "text": [
      "(148, 1)\n"
     ]
    }
   ],
   "source": [
    "print(labels_test.shape)"
   ]
  },
  {
   "cell_type": "code",
   "execution_count": 7,
   "metadata": {},
   "outputs": [
    {
     "name": "stdout",
     "output_type": "stream",
     "text": [
      "(585,)\n"
     ]
    }
   ],
   "source": [
    "labels_train = np.append(labels_train,labels_val)\n",
    "\n",
    "print(labels_train.shape)"
   ]
  },
  {
   "cell_type": "code",
   "execution_count": 8,
   "metadata": {},
   "outputs": [
    {
     "name": "stdout",
     "output_type": "stream",
     "text": [
      "(585, 1)\n"
     ]
    }
   ],
   "source": [
    "labels_train = np.reshape(labels_train,(labels_train.shape[0],1))\n",
    "print(labels_train.shape)"
   ]
  },
  {
   "cell_type": "markdown",
   "metadata": {},
   "source": [
    "### 68 Features"
   ]
  },
  {
   "cell_type": "code",
   "execution_count": 9,
   "metadata": {},
   "outputs": [
    {
     "name": "stdout",
     "output_type": "stream",
     "text": [
      "(148, 68, 199)\n",
      "(439, 68, 199)\n",
      "(146, 68, 199)\n"
     ]
    }
   ],
   "source": [
    "#from python_speech_features import mfcc\n",
    "#from python_speech_features import logfeatures\n",
    "import scipy.io.wavfile as wav\n",
    "import numpy\n",
    "import os\n",
    "import csv\n",
    "import numpy as np\n",
    "\n",
    "\n",
    "def get_features_array(dir):\n",
    "    features = np.zeros((68,199,1))\n",
    "    for folder in os.listdir(dir):\n",
    "        folder_path = os.path.join(dir,folder)\n",
    "        for filename in os.listdir(folder_path):\n",
    "            if filename.endswith('.csv'):\n",
    "                file_path = os.path.join(folder_path,filename)\n",
    "                temp = np.genfromtxt(file_path, delimiter=\",\", skip_header = False)\n",
    "                temp  = np.reshape(temp,(temp.shape[0],temp.shape[1],1))\n",
    "                #print(temp.shape)\n",
    "                features = np.append(features,temp,axis = 2)\n",
    "                #print(mfcc.shape)\n",
    "    features = np.reshape(features,(features.shape[2],features.shape[0],features.shape[1]))\n",
    "    features = np.delete(features,0,axis = 0)\n",
    "    return(features)\n",
    "\n",
    "features_test = get_features_array(r'E:\\Baby Cry\\Baby Cry\\donateacry-corpus-master\\68features\\test')\n",
    "print(features_test.shape)\n",
    "features_train = get_features_array(r'E:\\Baby Cry\\Baby Cry\\donateacry-corpus-master\\68features\\train')\n",
    "print(features_train.shape)\n",
    "features_val = get_features_array(r'E:\\Baby Cry\\Baby Cry\\donateacry-corpus-master\\68features\\val')\n",
    "print(features_val.shape)    \n",
    "        "
   ]
  },
  {
   "cell_type": "markdown",
   "metadata": {},
   "source": [
    "### Classify "
   ]
  },
  {
   "cell_type": "code",
   "execution_count": 10,
   "metadata": {},
   "outputs": [
    {
     "name": "stdout",
     "output_type": "stream",
     "text": [
      "(585, 68, 199)\n"
     ]
    }
   ],
   "source": [
    "features_train = np.append(features_train,features_val,axis = 0)\n",
    "print(features_train.shape)"
   ]
  },
  {
   "cell_type": "code",
   "execution_count": 11,
   "metadata": {},
   "outputs": [
    {
     "name": "stdout",
     "output_type": "stream",
     "text": [
      "(585, 13532)\n",
      "(148, 13532)\n"
     ]
    }
   ],
   "source": [
    "flatten_train = features_train.reshape(features_train.shape[0],-1)\n",
    "flatten_test = features_test.reshape(features_test.shape[0],-1)\n",
    "\n",
    "print(flatten_train.shape)\n",
    "print(flatten_test.shape)"
   ]
  },
  {
   "cell_type": "markdown",
   "metadata": {},
   "source": [
    "#  Classifiers\n",
    "***\n",
    "*  **SVM**\n",
    "*  **KNN**\n",
    "*  **Forest Classifier**\n",
    "\n",
    "\n"
   ]
  },
  {
   "cell_type": "markdown",
   "metadata": {},
   "source": [
    "SVM"
   ]
  },
  {
   "cell_type": "code",
   "execution_count": 12,
   "metadata": {
    "scrolled": true
   },
   "outputs": [
    {
     "name": "stderr",
     "output_type": "stream",
     "text": [
      "C:\\Users\\Sahil Jindal\\anaconda3\\envs\\FirstEnv\\lib\\site-packages\\sklearn\\utils\\validation.py:73: DataConversionWarning: A column-vector y was passed when a 1d array was expected. Please change the shape of y to (n_samples, ), for example using ravel().\n",
      "  return f(**kwargs)\n"
     ]
    },
    {
     "data": {
      "text/plain": [
       "SVC(C=50.0, break_ties=True)"
      ]
     },
     "execution_count": 12,
     "metadata": {},
     "output_type": "execute_result"
    }
   ],
   "source": [
    "from sklearn import svm\n",
    "\n",
    "clf = svm.SVC(C= 50.0, kernel='rbf', gamma='scale',\n",
    "                coef0=0.0, shrinking=True, probability=False,tol=0.001,\n",
    "                cache_size=200, class_weight=None, verbose=False, max_iter=-1,\n",
    "                decision_function_shape='ovr', break_ties=True, random_state=None)\n",
    "clf.fit(flatten_train,labels_train)"
   ]
  },
  {
   "cell_type": "code",
   "execution_count": 13,
   "metadata": {},
   "outputs": [],
   "source": [
    "predicted_test = clf.predict(flatten_test)"
   ]
  },
  {
   "cell_type": "code",
   "execution_count": 14,
   "metadata": {},
   "outputs": [
    {
     "name": "stdout",
     "output_type": "stream",
     "text": [
      "(148, 1)\n"
     ]
    }
   ],
   "source": [
    "predicted_test = predicted_test.reshape((len(predicted_test),1))\n",
    "print(predicted_test.shape)"
   ]
  },
  {
   "cell_type": "code",
   "execution_count": 15,
   "metadata": {},
   "outputs": [
    {
     "name": "stdout",
     "output_type": "stream",
     "text": [
      "0.6756756756756757\n"
     ]
    }
   ],
   "source": [
    "import sklearn\n",
    "acc_test = sklearn.metrics.accuracy_score(predicted_test,labels_test)\n",
    "print(acc_test)"
   ]
  },
  {
   "cell_type": "markdown",
   "metadata": {},
   "source": [
    "KNN"
   ]
  },
  {
   "cell_type": "code",
   "execution_count": 16,
   "metadata": {},
   "outputs": [
    {
     "name": "stderr",
     "output_type": "stream",
     "text": [
      "<ipython-input-16-a7ae32e8bd17>:4: DataConversionWarning: A column-vector y was passed when a 1d array was expected. Please change the shape of y to (n_samples, ), for example using ravel().\n",
      "  clf.fit(flatten_train,labels_train)\n"
     ]
    },
    {
     "data": {
      "text/plain": [
       "KNeighborsClassifier(n_neighbors=4, weights='distance')"
      ]
     },
     "execution_count": 16,
     "metadata": {},
     "output_type": "execute_result"
    }
   ],
   "source": [
    "from sklearn import neighbors\n",
    "\n",
    "clf = neighbors.KNeighborsClassifier(n_neighbors = 4, weights = 'distance') \n",
    "clf.fit(flatten_train,labels_train)"
   ]
  },
  {
   "cell_type": "code",
   "execution_count": 17,
   "metadata": {},
   "outputs": [
    {
     "name": "stdout",
     "output_type": "stream",
     "text": [
      "(148, 1)\n",
      "0.3716216216216216\n"
     ]
    }
   ],
   "source": [
    "predicted_test = clf.predict(flatten_test)\n",
    "predicted_test = predicted_test.reshape((len(predicted_test),1))\n",
    "print(predicted_test.shape)\n",
    "\n",
    "\n",
    "import sklearn\n",
    "acc_test = sklearn.metrics.accuracy_score(predicted_test,labels_test)\n",
    "print(acc_test)"
   ]
  },
  {
   "cell_type": "markdown",
   "metadata": {},
   "source": [
    "Random Forest"
   ]
  },
  {
   "cell_type": "code",
   "execution_count": 43,
   "metadata": {},
   "outputs": [
    {
     "name": "stderr",
     "output_type": "stream",
     "text": [
      "<ipython-input-43-122b5b4f467f>:9: DataConversionWarning: A column-vector y was passed when a 1d array was expected. Please change the shape of y to (n_samples,), for example using ravel().\n",
      "  clf.fit(flatten_train,labels_train)\n"
     ]
    },
    {
     "data": {
      "text/plain": [
       "RandomForestClassifier()"
      ]
     },
     "execution_count": 43,
     "metadata": {},
     "output_type": "execute_result"
    }
   ],
   "source": [
    "from sklearn.ensemble import RandomForestClassifier\n",
    "clf = RandomForestClassifier(n_estimators=100, criterion='gini', max_depth=None,\n",
    "                             min_samples_split=2, min_samples_leaf=1, min_weight_fraction_leaf=0.0,\n",
    "                             max_features='auto', max_leaf_nodes=None, min_impurity_decrease=0.0,\n",
    "                             min_impurity_split=None, bootstrap=True, oob_score=False,\n",
    "                             n_jobs=None, random_state=None, verbose=0, warm_start=False,\n",
    "                             class_weight=None, ccp_alpha=0.0, max_samples=None)\n",
    "\n",
    "clf.fit(flatten_train,labels_train)"
   ]
  },
  {
   "cell_type": "code",
   "execution_count": 44,
   "metadata": {},
   "outputs": [
    {
     "name": "stdout",
     "output_type": "stream",
     "text": [
      "(148, 1)\n",
      "0.7972972972972973\n"
     ]
    }
   ],
   "source": [
    "predicted_test = clf.predict(flatten_test)\n",
    "predicted_test = predicted_test.reshape((len(predicted_test),1))\n",
    "print(predicted_test.shape)\n",
    "\n",
    "\n",
    "import sklearn\n",
    "acc_test = sklearn.metrics.accuracy_score(predicted_test,labels_test)\n",
    "print(acc_test)"
   ]
  },
  {
   "cell_type": "markdown",
   "metadata": {},
   "source": [
    "### Multi-Layer Perceptron Model"
   ]
  },
  {
   "cell_type": "code",
   "execution_count": 20,
   "metadata": {},
   "outputs": [],
   "source": [
    "import keras\n",
    "import tensorflow as tf\n",
    "#from sklearn.preprocessing import LabelBinarizer"
   ]
  },
  {
   "cell_type": "markdown",
   "metadata": {},
   "source": [
    "### Changing labels to one-hot encoded vector"
   ]
  },
  {
   "cell_type": "code",
   "execution_count": 21,
   "metadata": {},
   "outputs": [],
   "source": [
    "num_classes = 5"
   ]
  },
  {
   "cell_type": "code",
   "execution_count": 22,
   "metadata": {},
   "outputs": [],
   "source": [
    "y_train = keras.utils.to_categorical(labels_train, num_classes)\n",
    "y_test = keras.utils.to_categorical(labels_test, num_classes)"
   ]
  },
  {
   "cell_type": "code",
   "execution_count": 23,
   "metadata": {
    "scrolled": true
   },
   "outputs": [
    {
     "name": "stdout",
     "output_type": "stream",
     "text": [
      "(585, 5)\n"
     ]
    }
   ],
   "source": [
    "print(y_train.shape)"
   ]
  },
  {
   "cell_type": "markdown",
   "metadata": {},
   "source": [
    "### features"
   ]
  },
  {
   "cell_type": "code",
   "execution_count": 24,
   "metadata": {},
   "outputs": [],
   "source": [
    "X_train = flatten_train\n",
    "X_test = flatten_test\n"
   ]
  },
  {
   "cell_type": "code",
   "execution_count": 25,
   "metadata": {},
   "outputs": [
    {
     "name": "stdout",
     "output_type": "stream",
     "text": [
      "train shape =  (585, 13532)\n",
      "test shape =  (148, 13532)\n"
     ]
    }
   ],
   "source": [
    "print('train shape = ', X_train.shape)\n",
    "print('test shape = ', X_test.shape)\n"
   ]
  },
  {
   "cell_type": "code",
   "execution_count": 26,
   "metadata": {},
   "outputs": [
    {
     "name": "stdout",
     "output_type": "stream",
     "text": [
      "number of features =  13532\n"
     ]
    }
   ],
   "source": [
    "n_features  = X_train.shape[1]\n",
    "print(\"number of features = \", n_features)"
   ]
  },
  {
   "cell_type": "markdown",
   "metadata": {},
   "source": [
    "### Model"
   ]
  },
  {
   "cell_type": "code",
   "execution_count": 27,
   "metadata": {},
   "outputs": [],
   "source": [
    "from tensorflow.keras.models import Sequential\n",
    "from tensorflow.keras.layers import Dense, Dropout\n",
    "from keras.optimizers import Adam,RMSprop"
   ]
  },
  {
   "cell_type": "code",
   "execution_count": 28,
   "metadata": {},
   "outputs": [],
   "source": [
    "from tensorflow.python.client import device_lib\n",
    "\n"
   ]
  },
  {
   "cell_type": "code",
   "execution_count": 29,
   "metadata": {},
   "outputs": [
    {
     "name": "stdout",
     "output_type": "stream",
     "text": [
      "[name: \"/device:CPU:0\"\n",
      "device_type: \"CPU\"\n",
      "memory_limit: 268435456\n",
      "locality {\n",
      "}\n",
      "incarnation: 8965768256378696759\n",
      ", name: \"/device:XLA_CPU:0\"\n",
      "device_type: \"XLA_CPU\"\n",
      "memory_limit: 17179869184\n",
      "locality {\n",
      "}\n",
      "incarnation: 16495748590638932985\n",
      "physical_device_desc: \"device: XLA_CPU device\"\n",
      ", name: \"/device:XLA_GPU:0\"\n",
      "device_type: \"XLA_GPU\"\n",
      "memory_limit: 17179869184\n",
      "locality {\n",
      "}\n",
      "incarnation: 3429760771964709666\n",
      "physical_device_desc: \"device: XLA_GPU device\"\n",
      "]\n"
     ]
    }
   ],
   "source": [
    "print(device_lib.list_local_devices())"
   ]
  },
  {
   "cell_type": "code",
   "execution_count": 30,
   "metadata": {},
   "outputs": [
    {
     "name": "stdout",
     "output_type": "stream",
     "text": [
      "Model: \"sequential\"\n",
      "_________________________________________________________________\n",
      "Layer (type)                 Output Shape              Param #   \n",
      "=================================================================\n",
      "dense (Dense)                (None, 8192)              110862336 \n",
      "_________________________________________________________________\n",
      "dropout (Dropout)            (None, 8192)              0         \n",
      "_________________________________________________________________\n",
      "dense_1 (Dense)              (None, 4096)              33558528  \n",
      "_________________________________________________________________\n",
      "dropout_1 (Dropout)          (None, 4096)              0         \n",
      "_________________________________________________________________\n",
      "dense_2 (Dense)              (None, 512)               2097664   \n",
      "_________________________________________________________________\n",
      "dropout_2 (Dropout)          (None, 512)               0         \n",
      "_________________________________________________________________\n",
      "dense_3 (Dense)              (None, 5)                 2565      \n",
      "=================================================================\n",
      "Total params: 146,521,093\n",
      "Trainable params: 146,521,093\n",
      "Non-trainable params: 0\n",
      "_________________________________________________________________\n"
     ]
    }
   ],
   "source": [
    "model = Sequential()\n",
    "model.add(Dense(8192, activation='relu', input_shape=(n_features,)))\n",
    "model.add(Dropout(0.2))\n",
    "model.add(Dense(4096, activation='relu'))\n",
    "model.add(Dropout(0.2))\n",
    "model.add(Dense(512, activation='relu'))\n",
    "model.add(Dropout(0.2))\n",
    "model.add(Dense(5, activation='softmax'))\n",
    "\n",
    "model.summary()"
   ]
  },
  {
   "cell_type": "code",
   "execution_count": 31,
   "metadata": {},
   "outputs": [],
   "source": [
    "model.compile(loss='categorical_crossentropy',\n",
    "              optimizer=RMSprop(),\n",
    "              metrics=['accuracy'])"
   ]
  },
  {
   "cell_type": "code",
   "execution_count": 32,
   "metadata": {},
   "outputs": [],
   "source": [
    "batch_size = 32\n",
    "num_classes = 5\n",
    "epochs = 25"
   ]
  },
  {
   "cell_type": "code",
   "execution_count": 37,
   "metadata": {},
   "outputs": [],
   "source": [
    "checkpoint = tf.keras.callbacks.ModelCheckpoint(filepath='E:\\Baby Cry', mode='max', monitor='val_accuracy', verbose=2, save_best_only=True)\n",
    "callbacks_list = [checkpoint]"
   ]
  },
  {
   "cell_type": "code",
   "execution_count": 38,
   "metadata": {
    "scrolled": false
   },
   "outputs": [
    {
     "name": "stdout",
     "output_type": "stream",
     "text": [
      "Epoch 1/25\n",
      "19/19 [==============================] - ETA: 0s - loss: 204.2023 - accuracy: 0.5248\n",
      "Epoch 00001: val_accuracy improved from -inf to 0.30405, saving model to E:\\Baby Cry\n",
      "WARNING:tensorflow:From C:\\Users\\Sahil Jindal\\anaconda3\\envs\\FirstEnv\\lib\\site-packages\\tensorflow\\python\\ops\\resource_variable_ops.py:1813: calling BaseResourceVariable.__init__ (from tensorflow.python.ops.resource_variable_ops) with constraint is deprecated and will be removed in a future version.\n",
      "Instructions for updating:\n",
      "If using Keras pass *_constraint arguments to layers.\n",
      "INFO:tensorflow:Assets written to: E:\\Baby Cry\\assets\n",
      "19/19 [==============================] - 67s 4s/step - loss: 204.2023 - accuracy: 0.5248 - val_loss: 177.0604 - val_accuracy: 0.3041\n",
      "Epoch 2/25\n",
      "19/19 [==============================] - ETA: 0s - loss: 138.5193 - accuracy: 0.6068\n",
      "Epoch 00002: val_accuracy improved from 0.30405 to 0.47297, saving model to E:\\Baby Cry\n",
      "INFO:tensorflow:Assets written to: E:\\Baby Cry\\assets\n",
      "19/19 [==============================] - 66s 3s/step - loss: 138.5193 - accuracy: 0.6068 - val_loss: 106.4988 - val_accuracy: 0.4730\n",
      "Epoch 3/25\n",
      "19/19 [==============================] - ETA: 0s - loss: 128.3923 - accuracy: 0.6137\n",
      "Epoch 00003: val_accuracy did not improve from 0.47297\n",
      "19/19 [==============================] - 48s 3s/step - loss: 128.3923 - accuracy: 0.6137 - val_loss: 68.2010 - val_accuracy: 0.3446\n",
      "Epoch 4/25\n",
      "19/19 [==============================] - ETA: 0s - loss: 110.7249 - accuracy: 0.6752\n",
      "Epoch 00004: val_accuracy improved from 0.47297 to 0.54054, saving model to E:\\Baby Cry\n",
      "INFO:tensorflow:Assets written to: E:\\Baby Cry\\assets\n",
      "19/19 [==============================] - 67s 4s/step - loss: 110.7249 - accuracy: 0.6752 - val_loss: 275.9655 - val_accuracy: 0.5405\n",
      "Epoch 5/25\n",
      "19/19 [==============================] - ETA: 0s - loss: 327.8423 - accuracy: 0.6034\n",
      "Epoch 00005: val_accuracy did not improve from 0.54054\n",
      "19/19 [==============================] - 49s 3s/step - loss: 327.8423 - accuracy: 0.6034 - val_loss: 194.8499 - val_accuracy: 0.3378\n",
      "Epoch 6/25\n",
      "19/19 [==============================] - ETA: 0s - loss: 405.1290 - accuracy: 0.6359\n",
      "Epoch 00006: val_accuracy did not improve from 0.54054\n",
      "19/19 [==============================] - 48s 3s/step - loss: 405.1290 - accuracy: 0.6359 - val_loss: 106.5640 - val_accuracy: 0.5270\n",
      "Epoch 7/25\n",
      "19/19 [==============================] - ETA: 0s - loss: 300.4473 - accuracy: 0.6718\n",
      "Epoch 00007: val_accuracy did not improve from 0.54054\n",
      "19/19 [==============================] - 48s 3s/step - loss: 300.4473 - accuracy: 0.6718 - val_loss: 954.4161 - val_accuracy: 0.4865\n",
      "Epoch 8/25\n",
      "19/19 [==============================] - ETA: 0s - loss: 212.1150 - accuracy: 0.7590\n",
      "Epoch 00008: val_accuracy did not improve from 0.54054\n",
      "19/19 [==============================] - 48s 3s/step - loss: 212.1150 - accuracy: 0.7590 - val_loss: 222.2671 - val_accuracy: 0.4662\n",
      "Epoch 9/25\n",
      "19/19 [==============================] - ETA: 0s - loss: 349.4319 - accuracy: 0.7556\n",
      "Epoch 00009: val_accuracy did not improve from 0.54054\n",
      "19/19 [==============================] - 48s 3s/step - loss: 349.4319 - accuracy: 0.7556 - val_loss: 1162.6968 - val_accuracy: 0.5068\n",
      "Epoch 10/25\n",
      "19/19 [==============================] - ETA: 0s - loss: 523.6205 - accuracy: 0.8051\n",
      "Epoch 00010: val_accuracy improved from 0.54054 to 0.57432, saving model to E:\\Baby Cry\n",
      "INFO:tensorflow:Assets written to: E:\\Baby Cry\\assets\n",
      "19/19 [==============================] - 66s 3s/step - loss: 523.6205 - accuracy: 0.8051 - val_loss: 233.2760 - val_accuracy: 0.5743\n",
      "Epoch 11/25\n",
      "19/19 [==============================] - ETA: 0s - loss: 718.2288 - accuracy: 0.8051\n",
      "Epoch 00011: val_accuracy did not improve from 0.57432\n",
      "19/19 [==============================] - 48s 3s/step - loss: 718.2288 - accuracy: 0.8051 - val_loss: 292.8346 - val_accuracy: 0.3649\n",
      "Epoch 12/25\n",
      "19/19 [==============================] - ETA: 0s - loss: 1126.8086 - accuracy: 0.8120\n",
      "Epoch 00012: val_accuracy did not improve from 0.57432\n",
      "19/19 [==============================] - 48s 3s/step - loss: 1126.8086 - accuracy: 0.8120 - val_loss: 1190.5183 - val_accuracy: 0.5743\n",
      "Epoch 13/25\n",
      "19/19 [==============================] - ETA: 0s - loss: 151.9072 - accuracy: 0.8581\n",
      "Epoch 00013: val_accuracy improved from 0.57432 to 0.69595, saving model to E:\\Baby Cry\n",
      "INFO:tensorflow:Assets written to: E:\\Baby Cry\\assets\n",
      "19/19 [==============================] - 67s 4s/step - loss: 151.9072 - accuracy: 0.8581 - val_loss: 674.9009 - val_accuracy: 0.6959\n",
      "Epoch 14/25\n",
      "19/19 [==============================] - ETA: 0s - loss: 442.8969 - accuracy: 0.8410\n",
      "Epoch 00014: val_accuracy did not improve from 0.69595\n",
      "19/19 [==============================] - 48s 3s/step - loss: 442.8969 - accuracy: 0.8410 - val_loss: 935.9145 - val_accuracy: 0.6554\n",
      "Epoch 15/25\n",
      "19/19 [==============================] - ETA: 0s - loss: 300.2256 - accuracy: 0.8838\n",
      "Epoch 00015: val_accuracy did not improve from 0.69595\n",
      "19/19 [==============================] - 49s 3s/step - loss: 300.2256 - accuracy: 0.8838 - val_loss: 870.7772 - val_accuracy: 0.5068\n",
      "Epoch 16/25\n",
      "19/19 [==============================] - ETA: 0s - loss: 429.8393 - accuracy: 0.8103\n",
      "Epoch 00016: val_accuracy did not improve from 0.69595\n",
      "19/19 [==============================] - 49s 3s/step - loss: 429.8393 - accuracy: 0.8103 - val_loss: 1118.8497 - val_accuracy: 0.5473\n",
      "Epoch 17/25\n",
      "19/19 [==============================] - ETA: 0s - loss: 315.3730 - accuracy: 0.8752\n",
      "Epoch 00017: val_accuracy did not improve from 0.69595\n",
      "19/19 [==============================] - 48s 3s/step - loss: 315.3730 - accuracy: 0.8752 - val_loss: 1562.3866 - val_accuracy: 0.5270\n",
      "Epoch 18/25\n",
      "19/19 [==============================] - ETA: 0s - loss: 529.2919 - accuracy: 0.8410\n",
      "Epoch 00018: val_accuracy did not improve from 0.69595\n",
      "19/19 [==============================] - 48s 3s/step - loss: 529.2919 - accuracy: 0.8410 - val_loss: 647.4919 - val_accuracy: 0.6554\n",
      "Epoch 19/25\n",
      "19/19 [==============================] - ETA: 0s - loss: 364.2492 - accuracy: 0.8769\n",
      "Epoch 00019: val_accuracy did not improve from 0.69595\n",
      "19/19 [==============================] - 48s 3s/step - loss: 364.2492 - accuracy: 0.8769 - val_loss: 793.7408 - val_accuracy: 0.6216\n",
      "Epoch 20/25\n",
      "19/19 [==============================] - ETA: 0s - loss: 14.2995 - accuracy: 0.9333\n",
      "Epoch 00020: val_accuracy did not improve from 0.69595\n",
      "19/19 [==============================] - 49s 3s/step - loss: 14.2995 - accuracy: 0.9333 - val_loss: 1511.2661 - val_accuracy: 0.5405\n",
      "Epoch 21/25\n",
      "19/19 [==============================] - ETA: 0s - loss: 263.7453 - accuracy: 0.8838\n",
      "Epoch 00021: val_accuracy did not improve from 0.69595\n",
      "19/19 [==============================] - 48s 3s/step - loss: 263.7453 - accuracy: 0.8838 - val_loss: 819.5175 - val_accuracy: 0.5743\n",
      "Epoch 22/25\n",
      "19/19 [==============================] - ETA: 0s - loss: 2.9636 - accuracy: 0.8974\n",
      "Epoch 00022: val_accuracy did not improve from 0.69595\n",
      "19/19 [==============================] - 47s 2s/step - loss: 2.9636 - accuracy: 0.8974 - val_loss: 1093.1816 - val_accuracy: 0.5946\n",
      "Epoch 23/25\n",
      "19/19 [==============================] - ETA: 0s - loss: 501.3408 - accuracy: 0.8513\n",
      "Epoch 00023: val_accuracy did not improve from 0.69595\n",
      "19/19 [==============================] - 48s 3s/step - loss: 501.3408 - accuracy: 0.8513 - val_loss: 1172.6699 - val_accuracy: 0.5068\n",
      "Epoch 24/25\n",
      "19/19 [==============================] - ETA: 0s - loss: 1699.0690 - accuracy: 0.9009\n",
      "Epoch 00024: val_accuracy did not improve from 0.69595\n",
      "19/19 [==============================] - 47s 2s/step - loss: 1699.0690 - accuracy: 0.9009 - val_loss: 853.7449 - val_accuracy: 0.6892\n",
      "Epoch 25/25\n",
      "19/19 [==============================] - ETA: 0s - loss: 109.7707 - accuracy: 0.9316\n",
      "Epoch 00025: val_accuracy did not improve from 0.69595\n",
      "19/19 [==============================] - 48s 3s/step - loss: 109.7707 - accuracy: 0.9316 - val_loss: 1254.1561 - val_accuracy: 0.6216\n",
      "Test loss: 1254.1561279296875\n",
      "Test accuracy: 0.6216216087341309\n"
     ]
    }
   ],
   "source": [
    "history = model.fit(X_train, y_train,\n",
    "                    batch_size=batch_size,\n",
    "                    epochs=epochs,\n",
    "                    callbacks=callbacks_list,\n",
    "                    verbose=1,\n",
    "                    validation_data=(X_test, y_test))\n",
    "score = model.evaluate(X_test, y_test, verbose=0)\n",
    "print('Test loss:', score[0])\n",
    "print('Test accuracy:', score[1])"
   ]
  }
 ],
 "metadata": {
  "kernelspec": {
   "display_name": "Python 3",
   "language": "python",
   "name": "python3"
  },
  "language_info": {
   "codemirror_mode": {
    "name": "ipython",
    "version": 3
   },
   "file_extension": ".py",
   "mimetype": "text/x-python",
   "name": "python",
   "nbconvert_exporter": "python",
   "pygments_lexer": "ipython3",
   "version": "3.8.3"
  }
 },
 "nbformat": 4,
 "nbformat_minor": 4
}
